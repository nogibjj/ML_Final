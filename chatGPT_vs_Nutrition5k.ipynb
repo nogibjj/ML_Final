{
 "cells": [
  {
   "cell_type": "markdown",
   "metadata": {},
   "source": [
    "# <span style=\"color:red\">Important</span>\n",
    "\n",
    "Go to section 2 for the function that retrieves the distribution.\n",
    "\n",
    "Go to section 3 if you just want to upload the data ready to go.\n",
    "\n",
    "# 1. ETL\n",
    "\n",
    "\n",
    "\n",
    "5k as the only data source. You can download the data [here](http://www.ub.edu/cvub/recipes5k/)."
   ]
  },
  {
   "cell_type": "markdown",
   "metadata": {},
   "source": [
    "## 1.1 Uploading data train_images.txt, recepies and indexes"
   ]
  },
  {
   "cell_type": "code",
   "execution_count": 2,
   "metadata": {},
   "outputs": [
    {
     "name": "stdout",
     "output_type": "stream",
     "text": [
      "N elements in training: 3409\n",
      "N elements in labels: 3409\n",
      "N ingredients in indices in index: 4826\n",
      "id_image    apple_pie/38_apple_pie_for_one_hostedLargeUrl.jpg\n",
      "Name: 34, dtype: object\n",
      "index_recepies    87\n",
      "Name: 34, dtype: int64\n"
     ]
    },
    {
     "data": {
      "text/plain": [
       "87    apple,sugar,cinnamon,lemon,flour,salt,butter,i...\n",
       "Name: index_ingredients, dtype: object"
      ]
     },
     "execution_count": 2,
     "metadata": {},
     "output_type": "execute_result"
    }
   ],
   "source": [
    "import pandas as pd\n",
    "\n",
    "# Importing training images ID\n",
    "file_path = \"5k/Recipes5k/annotations/train_images.txt\"\n",
    "trained_images = pd.read_csv(file_path, sep=\"\\t\", names=[\"id_image\"])\n",
    "print(f\"N elements in training: {trained_images.shape[0]}\")\n",
    "\n",
    "# Importing labels\n",
    "file_path = \"5k/Recipes5k/annotations/train_labels.txt\"\n",
    "trained_labels = pd.read_csv(file_path, sep=\"\\t\", names=[\"index_recepies\"])\n",
    "\n",
    "print(f\"N elements in labels: {trained_labels.shape[0]}\")\n",
    "\n",
    "# importing recepies\n",
    "file_path = \"5k/Recipes5k/annotations/ingredients_simplified_Recipes5k.txt\"\n",
    "ingredients_index = pd.read_csv(file_path, sep=\"\\t\", names=[\"index_ingredients\"])\n",
    "\n",
    "print(f\"N ingredients in indices in index: {ingredients_index.shape[0]}\")\n",
    "\n",
    "i = 34\n",
    "\n",
    "print(trained_images.iloc[i])\n",
    "print(trained_labels.iloc[i])\n",
    "\n",
    "ingredients_index.iloc[trained_labels.iloc[i]][\"index_ingredients\"]"
   ]
  },
  {
   "cell_type": "code",
   "execution_count": 3,
   "metadata": {},
   "outputs": [],
   "source": [
    "# Splitting the names in label, name, key and separating\n",
    "\n",
    "trained_images[\"label\"] = trained_labels[\"index_recepies\"]\n",
    "trained_images[\"image_name\"] = [i.split(\"/\")[1] for i in trained_images[\"id_image\"]]\n",
    "trained_images[\"key_value\"] = [i.split(\"/\")[0] for i in trained_images[\"id_image\"]]\n",
    "trained_images[\"ingredients\"] = [\n",
    "    ingredients_index.iloc[i][\"index_ingredients\"] for i in trained_images[\"label\"]\n",
    "]"
   ]
  },
  {
   "cell_type": "markdown",
   "metadata": {},
   "source": [
    "# Open AI prompt engineering for recepies"
   ]
  },
  {
   "cell_type": "code",
   "execution_count": 5,
   "metadata": {},
   "outputs": [],
   "source": [
    "import os\n",
    "import dotenv\n",
    "from langchain_core.prompts import PromptTemplate\n",
    "from langchain import LLMChain\n",
    "from langchain_openai import OpenAI\n",
    "\n",
    "\n",
    "template = \"\"\"I'll pass you a key representation name of a dish\\\n",
    "    and a list of ingredients such as:\\\n",
    "    key representation: apple_pie\\\n",
    "    list of ingredients:sugar,nutmeg,milk,butter,flour,pastry,cinnamon,apples,lemon\\\n",
    "    and you have to return a json as follow:\\\n",
    "    {{\"{key}\": {{\"sugar\": 150,\"nutmeg\": 0.50,\"milk\": 240,\"butter\": 113,\"flour\": 180,\\\n",
    "    \"pastry\": 1, \"cinnamon\": 2.60,\"apples\": 680,\"lemon\": 15}}}}\\\n",
    "    where each ingredient is listed with its corresponding quantity in grams.\\\n",
    "    Now do it but with:\\\n",
    "    key representation: {key}\\\n",
    "    list of ingredients: {ingredients}\n",
    "\"\"\""
   ]
  },
  {
   "cell_type": "markdown",
   "metadata": {},
   "source": [
    "## Using OpenAI to bring the recepies in grams\n",
    "\n",
    "Checking how much it will cost knowing that is 6 dollar per 1M tokens"
   ]
  },
  {
   "cell_type": "code",
   "execution_count": 18,
   "metadata": {},
   "outputs": [
    {
     "name": "stdout",
     "output_type": "stream",
     "text": [
      "Total tokens used: 243\n"
     ]
    }
   ],
   "source": [
    "# from langchain.callbacks import get_openai_callback\n",
    "\n",
    "# for _, row in trained_images.iterrows():\n",
    "\n",
    "#     with get_openai_callback() as cb:\n",
    "#         # Your code here, for example:\n",
    "#         prompt = PromptTemplate(input_variables=[\"key\", \"ingredients\"], template=template)\n",
    "#         llm_gpt3_5_chain = LLMChain(prompt=prompt, llm=OpenAI())\n",
    "#         response = llm_gpt3_5_chain.run(\n",
    "#             key=row[\"key_value\"],\n",
    "#             ingredients=row[\"ingredients\"],\n",
    "#             temperature=0,\n",
    "#         )\n",
    "\n",
    "\n",
    "#     total_tokens = cb.total_tokens\n",
    "#     print(f\"Total tokens used: {total_tokens}\")\n",
    "#     break"
   ]
  },
  {
   "cell_type": "markdown",
   "metadata": {},
   "source": [
    "### Getting the right format and grams using OpenAI"
   ]
  },
  {
   "cell_type": "code",
   "execution_count": 101,
   "metadata": {},
   "outputs": [],
   "source": [
    "# import json\n",
    "\n",
    "# recepies_grams = []\n",
    "# counter = 1\n",
    "\n",
    "# for _, row in trained_images.iterrows():\n",
    "\n",
    "#     prompt = PromptTemplate(input_variables=[\"key\", \"ingredients\"], template=template)\n",
    "#     llm_gpt3_5_chain = LLMChain(prompt=prompt, llm=OpenAI())\n",
    "\n",
    "#     input_params = {\n",
    "#         \"key\": row[\"key_value\"],\n",
    "#         \"ingredients\": row[\"ingredients\"],\n",
    "#         \"temperature\": 0,\n",
    "#     }\n",
    "#     response = llm_gpt3_5_chain.invoke(input_params)\n",
    "#     recepies_grams.append(response[\"text\"])\n",
    "\n",
    "#     counter += 1\n",
    "#     if counter % 50 == 0:\n",
    "#         print(f\"Number: {counter}\")\n",
    "\n",
    "# trained_images['json_format']=recepies_grams\n",
    "# trained_images.to_csv('FINAL_DATA.csv',index=False)"
   ]
  },
  {
   "cell_type": "markdown",
   "metadata": {},
   "source": [
    "## 1.2 Read the data with the OpenAI retrievals"
   ]
  },
  {
   "cell_type": "code",
   "execution_count": 102,
   "metadata": {},
   "outputs": [],
   "source": [
    "data = pd.read_csv(\"FINAL_DATA.csv\")"
   ]
  },
  {
   "cell_type": "code",
   "execution_count": 106,
   "metadata": {},
   "outputs": [],
   "source": [
    "data[\"json_format\"] = [\n",
    "    i.replace(\"\\n\\n\", \",\").replace(\"\\n\", \"\") for i in data[\"json_format\"]\n",
    "]"
   ]
  },
  {
   "cell_type": "code",
   "execution_count": 168,
   "metadata": {},
   "outputs": [],
   "source": [
    "import json\n",
    "import ast\n",
    "\n",
    "as_dic = []\n",
    "counter = 0\n",
    "indexes = []\n",
    "\n",
    "for i, row in data.iterrows():\n",
    "    string = row[\"json_format\"]\n",
    "    try:\n",
    "        data_list = ast.literal_eval(string)\n",
    "\n",
    "        if len(data_list) == 1:\n",
    "            result = json.loads(string)\n",
    "            as_dic.append(result)\n",
    "\n",
    "        elif len(data_list) >= 2:\n",
    "            result = dict([list(ast.literal_eval(string).items())[1]])\n",
    "            as_dic.append(result)\n",
    "\n",
    "    except:\n",
    "        indexes.append(i)"
   ]
  },
  {
   "cell_type": "code",
   "execution_count": 175,
   "metadata": {},
   "outputs": [
    {
     "data": {
      "text/plain": [
       "194"
      ]
     },
     "execution_count": 175,
     "metadata": {},
     "output_type": "execute_result"
    }
   ],
   "source": [
    "### How many data had trouble with the API:\n",
    "\n",
    "len(indexes)"
   ]
  },
  {
   "cell_type": "code",
   "execution_count": 174,
   "metadata": {},
   "outputs": [
    {
     "data": {
      "text/html": [
       "<div>\n",
       "<style scoped>\n",
       "    .dataframe tbody tr th:only-of-type {\n",
       "        vertical-align: middle;\n",
       "    }\n",
       "\n",
       "    .dataframe tbody tr th {\n",
       "        vertical-align: top;\n",
       "    }\n",
       "\n",
       "    .dataframe thead th {\n",
       "        text-align: right;\n",
       "    }\n",
       "</style>\n",
       "<table border=\"1\" class=\"dataframe\">\n",
       "  <thead>\n",
       "    <tr style=\"text-align: right;\">\n",
       "      <th></th>\n",
       "      <th>key_value</th>\n",
       "      <th>label</th>\n",
       "    </tr>\n",
       "  </thead>\n",
       "  <tbody>\n",
       "    <tr>\n",
       "      <th>59</th>\n",
       "      <td>scallops</td>\n",
       "      <td>14</td>\n",
       "    </tr>\n",
       "    <tr>\n",
       "      <th>61</th>\n",
       "      <td>shrimp_and_grits</td>\n",
       "      <td>11</td>\n",
       "    </tr>\n",
       "    <tr>\n",
       "      <th>25</th>\n",
       "      <td>eggs_benedict</td>\n",
       "      <td>10</td>\n",
       "    </tr>\n",
       "    <tr>\n",
       "      <th>21</th>\n",
       "      <td>croque_madame</td>\n",
       "      <td>8</td>\n",
       "    </tr>\n",
       "    <tr>\n",
       "      <th>60</th>\n",
       "      <td>seaweed_salad</td>\n",
       "      <td>8</td>\n",
       "    </tr>\n",
       "    <tr>\n",
       "      <th>...</th>\n",
       "      <td>...</td>\n",
       "      <td>...</td>\n",
       "    </tr>\n",
       "    <tr>\n",
       "      <th>28</th>\n",
       "      <td>filet_mignon</td>\n",
       "      <td>1</td>\n",
       "    </tr>\n",
       "    <tr>\n",
       "      <th>37</th>\n",
       "      <td>hamburger</td>\n",
       "      <td>1</td>\n",
       "    </tr>\n",
       "    <tr>\n",
       "      <th>36</th>\n",
       "      <td>gyoza</td>\n",
       "      <td>1</td>\n",
       "    </tr>\n",
       "    <tr>\n",
       "      <th>31</th>\n",
       "      <td>french_onion_soup</td>\n",
       "      <td>1</td>\n",
       "    </tr>\n",
       "    <tr>\n",
       "      <th>66</th>\n",
       "      <td>waffles</td>\n",
       "      <td>1</td>\n",
       "    </tr>\n",
       "  </tbody>\n",
       "</table>\n",
       "<p>67 rows × 2 columns</p>\n",
       "</div>"
      ],
      "text/plain": [
       "            key_value  label\n",
       "59           scallops     14\n",
       "61   shrimp_and_grits     11\n",
       "25      eggs_benedict     10\n",
       "21      croque_madame      8\n",
       "60      seaweed_salad      8\n",
       "..                ...    ...\n",
       "28       filet_mignon      1\n",
       "37          hamburger      1\n",
       "36              gyoza      1\n",
       "31  french_onion_soup      1\n",
       "66            waffles      1\n",
       "\n",
       "[67 rows x 2 columns]"
      ]
     },
     "execution_count": 174,
     "metadata": {},
     "output_type": "execute_result"
    }
   ],
   "source": [
    "# How is the distributiono data with problems:\n",
    "\n",
    "data[[\"key_value\", \"label\"]].iloc[indexes].groupby(\n",
    "    \"key_value\", as_index=False\n",
    ").count().sort_values(\"label\", ascending=False)"
   ]
  },
  {
   "cell_type": "code",
   "execution_count": 176,
   "metadata": {},
   "outputs": [],
   "source": [
    "data = data.drop(indexes)"
   ]
  },
  {
   "cell_type": "code",
   "execution_count": 177,
   "metadata": {},
   "outputs": [],
   "source": [
    "data[\"json_format_clean\"] = as_dic"
   ]
  },
  {
   "cell_type": "code",
   "execution_count": 193,
   "metadata": {},
   "outputs": [],
   "source": [
    "def sum_nested_dict_values(nested_dict):\n",
    "    total_sum = 0\n",
    "    for inner_dict in nested_dict.values():\n",
    "        total_sum += sum(inner_dict.values())\n",
    "    return total_sum\n",
    "\n",
    "\n",
    "indexes = []\n",
    "total_g = []\n",
    "\n",
    "for i, row in data.iterrows():\n",
    "    dic_to_transform = row[\"json_format_clean\"]\n",
    "    try:\n",
    "        total_g.append(sum_nested_dict_values(dic_to_transform))\n",
    "    except:\n",
    "        indexes.append(i)"
   ]
  },
  {
   "cell_type": "code",
   "execution_count": 194,
   "metadata": {},
   "outputs": [],
   "source": [
    "data = data.drop(indexes)\n",
    "data[\"total_g\"] = total_g"
   ]
  },
  {
   "cell_type": "code",
   "execution_count": 196,
   "metadata": {},
   "outputs": [
    {
     "name": "stdout",
     "output_type": "stream",
     "text": [
      "{'prime_rib': {'rib': 1000, 'herbes de provence': 5, 'salt': 5, 'pepper': 5}}\n",
      "1015.0\n",
      "{'huevos_rancheros': {'corn tortillas': 120, 'beans': 200, 'vegetables': 150, 'salsa': 100, 'lime': 25, 'oil': 15, 'egg': 2, 'cilantro': 5, 'pepper': 5}}\n",
      "622.0\n"
     ]
    }
   ],
   "source": [
    "for i, row in data[[\"json_format_clean\", \"total_g\"]].sample(2).iterrows():\n",
    "    print(row[\"json_format_clean\"])\n",
    "    print(row[\"total_g\"])"
   ]
  },
  {
   "cell_type": "markdown",
   "metadata": {},
   "source": [
    "# 2. Getting the proportions of fat, carbs and protein\n",
    "\n",
    "In this section we are creating the nutritient proportions using 5k.\n",
    "\n",
    "## VectorDatabase\n",
    "\n",
    "As some ingredients are not in out nutrition dataframe we assing the closest based on similarity embeddings. If the query is empty, zero distribution of nutrients are assigned. For example, this happen with *cold water*."
   ]
  },
  {
   "cell_type": "code",
   "execution_count": 198,
   "metadata": {},
   "outputs": [
    {
     "name": "stdout",
     "output_type": "stream",
     "text": [
      "Created new collection: mycollection\n"
     ]
    }
   ],
   "source": [
    "import chromadb\n",
    "\n",
    "chroma_client = chromadb.Client()\n",
    "\n",
    "# Create or load a collection\n",
    "collection_name = \"mycollection\"\n",
    "\n",
    "# Get all collections\n",
    "collections = chroma_client.list_collections()\n",
    "\n",
    "# Extract names from collection objects\n",
    "collection_names = [collection.name for collection in collections]\n",
    "\n",
    "# Check if the collection exists\n",
    "if collection_name in collection_names:\n",
    "    # Load the existing collection\n",
    "    collection = chroma_client.get_collection(collection_name)\n",
    "    print(\"Loaded existing collection:\", collection_name)\n",
    "else:\n",
    "    # Create a new collection and add data to it\n",
    "    collection = chroma_client.create_collection(name=collection_name)\n",
    "    print(\"Created new collection:\", collection_name)"
   ]
  },
  {
   "cell_type": "code",
   "execution_count": 199,
   "metadata": {},
   "outputs": [
    {
     "name": "stderr",
     "output_type": "stream",
     "text": [
      "/Users/rafaeldavila/Documents/Duke/Sem2/ML/final/.venv/lib/python3.11/site-packages/tqdm/auto.py:21: TqdmWarning: IProgress not found. Please update jupyter and ipywidgets. See https://ipywidgets.readthedocs.io/en/stable/user_install.html\n",
      "  from .autonotebook import tqdm as notebook_tqdm\n"
     ]
    }
   ],
   "source": [
    "from sentence_transformers import SentenceTransformer\n",
    "\n",
    "# Read the ingredients:\n",
    "file_path = \"nutrition5k_dataset_metadata_ingredients_metadata.csv\"\n",
    "nutrition = pd.read_csv(\n",
    "    file_path,\n",
    ")\n",
    "\n",
    "model = SentenceTransformer(\"sentence-transformers/all-MiniLM-L6-v2\")\n",
    "embedding_list = model.encode(list(nutrition[\"ingr\"]))"
   ]
  },
  {
   "cell_type": "code",
   "execution_count": 202,
   "metadata": {},
   "outputs": [
    {
     "data": {
      "text/plain": [
       "{'apple_pie': {'flour': 180,\n",
       "  'salt': 1,\n",
       "  'oil': 120,\n",
       "  'cold water': 240,\n",
       "  'apple': 680,\n",
       "  'sugar': 150,\n",
       "  'cinnamon': 2.6,\n",
       "  'butter': 113}}"
      ]
     },
     "execution_count": 202,
     "metadata": {},
     "output_type": "execute_result"
    }
   ],
   "source": [
    "# How json cleaned look like\n",
    "data[\"json_format_clean\"][0]"
   ]
  },
  {
   "cell_type": "code",
   "execution_count": 200,
   "metadata": {},
   "outputs": [
    {
     "data": {
      "text/html": [
       "<div>\n",
       "<style scoped>\n",
       "    .dataframe tbody tr th:only-of-type {\n",
       "        vertical-align: middle;\n",
       "    }\n",
       "\n",
       "    .dataframe tbody tr th {\n",
       "        vertical-align: top;\n",
       "    }\n",
       "\n",
       "    .dataframe thead th {\n",
       "        text-align: right;\n",
       "    }\n",
       "</style>\n",
       "<table border=\"1\" class=\"dataframe\">\n",
       "  <thead>\n",
       "    <tr style=\"text-align: right;\">\n",
       "      <th></th>\n",
       "      <th>ingr</th>\n",
       "      <th>id</th>\n",
       "      <th>cal/g</th>\n",
       "      <th>fat(g)</th>\n",
       "      <th>carb(g)</th>\n",
       "      <th>protein(g)</th>\n",
       "    </tr>\n",
       "  </thead>\n",
       "  <tbody>\n",
       "    <tr>\n",
       "      <th>199</th>\n",
       "      <td>buttermilk</td>\n",
       "      <td>200</td>\n",
       "      <td>0.402</td>\n",
       "      <td>0.009</td>\n",
       "      <td>0.048</td>\n",
       "      <td>0.033</td>\n",
       "    </tr>\n",
       "    <tr>\n",
       "      <th>541</th>\n",
       "      <td>white beans</td>\n",
       "      <td>542</td>\n",
       "      <td>1.390</td>\n",
       "      <td>0.004</td>\n",
       "      <td>0.251</td>\n",
       "      <td>0.097</td>\n",
       "    </tr>\n",
       "    <tr>\n",
       "      <th>357</th>\n",
       "      <td>mixed vegetables</td>\n",
       "      <td>358</td>\n",
       "      <td>0.320</td>\n",
       "      <td>0.003</td>\n",
       "      <td>0.069</td>\n",
       "      <td>0.017</td>\n",
       "    </tr>\n",
       "    <tr>\n",
       "      <th>193</th>\n",
       "      <td>fried rice</td>\n",
       "      <td>194</td>\n",
       "      <td>1.577</td>\n",
       "      <td>0.022</td>\n",
       "      <td>0.299</td>\n",
       "      <td>0.047</td>\n",
       "    </tr>\n",
       "  </tbody>\n",
       "</table>\n",
       "</div>"
      ],
      "text/plain": [
       "                 ingr   id  cal/g  fat(g)  carb(g)  protein(g)\n",
       "199        buttermilk  200  0.402   0.009    0.048       0.033\n",
       "541       white beans  542  1.390   0.004    0.251       0.097\n",
       "357  mixed vegetables  358  0.320   0.003    0.069       0.017\n",
       "193        fried rice  194  1.577   0.022    0.299       0.047"
      ]
     },
     "execution_count": 200,
     "metadata": {},
     "output_type": "execute_result"
    }
   ],
   "source": [
    "# How nutrition dataframe look like\n",
    "nutrition.sample(4)"
   ]
  },
  {
   "cell_type": "code",
   "execution_count": 211,
   "metadata": {},
   "outputs": [
    {
     "data": {
      "text/plain": [
       "555"
      ]
     },
     "execution_count": 211,
     "metadata": {},
     "output_type": "execute_result"
    }
   ],
   "source": [
    "# Number of ingredients\n",
    "nutrition.shape[0]"
   ]
  },
  {
   "cell_type": "markdown",
   "metadata": {},
   "source": [
    "## Adding the nutrients into the vector database"
   ]
  },
  {
   "cell_type": "code",
   "execution_count": 79,
   "metadata": {},
   "outputs": [],
   "source": [
    "collection.add(\n",
    "    embeddings=embedding_list,\n",
    "    documents=list(nutrition[\"ingr\"]),\n",
    "    ids=[\"ID\" + str(i) for i in range(len(embedding_list))],\n",
    ")"
   ]
  },
  {
   "cell_type": "markdown",
   "metadata": {},
   "source": [
    "For example, \"back ribs\" is not in our ingredients, however only ribs it is, so it is assigned instead from the query to the vectordatabase."
   ]
  },
  {
   "cell_type": "code",
   "execution_count": 347,
   "metadata": {},
   "outputs": [
    {
     "data": {
      "text/plain": [
       "False"
      ]
     },
     "execution_count": 347,
     "metadata": {},
     "output_type": "execute_result"
    }
   ],
   "source": [
    "\"back ribs\" in set(nutrition[\"ingr\"])"
   ]
  },
  {
   "cell_type": "code",
   "execution_count": 207,
   "metadata": {},
   "outputs": [
    {
     "data": {
      "text/plain": [
       "['flour', 'salt', 'oil', 'cold water', 'apple', 'sugar', 'cinnamon', 'butter']"
      ]
     },
     "execution_count": 207,
     "metadata": {},
     "output_type": "execute_result"
    }
   ],
   "source": [
    "label = list(data[\"json_format_clean\"][0].keys())[0]\n",
    "ingredients = list(data[\"json_format_clean\"][0][label].keys())"
   ]
  },
  {
   "cell_type": "code",
   "execution_count": 346,
   "metadata": {},
   "outputs": [
    {
     "data": {
      "text/html": [
       "<div>\n",
       "<style scoped>\n",
       "    .dataframe tbody tr th:only-of-type {\n",
       "        vertical-align: middle;\n",
       "    }\n",
       "\n",
       "    .dataframe tbody tr th {\n",
       "        vertical-align: top;\n",
       "    }\n",
       "\n",
       "    .dataframe thead th {\n",
       "        text-align: right;\n",
       "    }\n",
       "</style>\n",
       "<table border=\"1\" class=\"dataframe\">\n",
       "  <thead>\n",
       "    <tr style=\"text-align: right;\">\n",
       "      <th></th>\n",
       "      <th>ingr</th>\n",
       "      <th>id</th>\n",
       "      <th>cal/g</th>\n",
       "      <th>fat(g)</th>\n",
       "      <th>carb(g)</th>\n",
       "      <th>protein(g)</th>\n",
       "    </tr>\n",
       "  </thead>\n",
       "  <tbody>\n",
       "    <tr>\n",
       "      <th>0</th>\n",
       "      <td>cottage cheese</td>\n",
       "      <td>1</td>\n",
       "      <td>0.980</td>\n",
       "      <td>0.043</td>\n",
       "      <td>0.034</td>\n",
       "      <td>0.110</td>\n",
       "    </tr>\n",
       "    <tr>\n",
       "      <th>1</th>\n",
       "      <td>strawberries</td>\n",
       "      <td>2</td>\n",
       "      <td>0.330</td>\n",
       "      <td>0.003</td>\n",
       "      <td>0.080</td>\n",
       "      <td>0.007</td>\n",
       "    </tr>\n",
       "    <tr>\n",
       "      <th>2</th>\n",
       "      <td>garden salad</td>\n",
       "      <td>3</td>\n",
       "      <td>0.646</td>\n",
       "      <td>0.034</td>\n",
       "      <td>0.032</td>\n",
       "      <td>0.061</td>\n",
       "    </tr>\n",
       "  </tbody>\n",
       "</table>\n",
       "</div>"
      ],
      "text/plain": [
       "             ingr  id  cal/g  fat(g)  carb(g)  protein(g)\n",
       "0  cottage cheese   1  0.980   0.043    0.034       0.110\n",
       "1    strawberries   2  0.330   0.003    0.080       0.007\n",
       "2    garden salad   3  0.646   0.034    0.032       0.061"
      ]
     },
     "execution_count": 346,
     "metadata": {},
     "output_type": "execute_result"
    }
   ],
   "source": [
    "# Sample of nutrition loaded in the first section\n",
    "nutrition.head(3)"
   ]
  },
  {
   "cell_type": "markdown",
   "metadata": {},
   "source": [
    "### This function return the distribution after the repepies are cleaned."
   ]
  },
  {
   "cell_type": "code",
   "execution_count": 226,
   "metadata": {},
   "outputs": [
    {
     "data": {
      "text/plain": [
       "({'apple_pie': {'cal': 3464.87,\n",
       "   'fat': 0.14441678999058255,\n",
       "   'carb': 0.25703820799138977,\n",
       "   'protein': 0.014330687474774654,\n",
       "   'other': 0.584214314543253}},\n",
       " ['cold water', 'cinnamon'],\n",
       " [0.14441678999058255,\n",
       "  0.25703820799138977,\n",
       "  0.014330687474774654,\n",
       "  0.584214314543253])"
      ]
     },
     "execution_count": 226,
     "metadata": {},
     "output_type": "execute_result"
    }
   ],
   "source": [
    "# Calories, fat, carb and protein\n",
    "\n",
    "\n",
    "def get_calories_fat_carb_protein(dictionary_of_ingredients, nutrition, total_grams):\n",
    "    \"\"\"This function return the distribution of nutritional information in a 4D vector with fat,carbs, and protein.\n",
    "    In addition, return the ingredients where the nutrition retrieval was unsuccesful, and the labels additioning the total calories per portion.\n",
    "\n",
    "\n",
    "    Args:\n",
    "        dictionary_of_ingredients (dict): The dictionary with ingredient of a single recepy\n",
    "        nutrition (dataframe): The data frame with the nutrition distribution\n",
    "        total_grams (_type_): The addition of grams by portion\n",
    "\n",
    "    Returns:\n",
    "\n",
    "        json: with the labels and names of nutrimental\n",
    "        ingredients_not_found (list): list of ingredients not found in the VDB\n",
    "        vector: a 4D list with the nutrimental distribution\n",
    "    \"\"\"\n",
    "\n",
    "    ingredients_not_found = []\n",
    "\n",
    "    label = list(dictionary_of_ingredients.keys())[0]\n",
    "\n",
    "    ingredients = list(dictionary_of_ingredients[label].keys())\n",
    "\n",
    "    # Initializing variables\n",
    "    cal = 0\n",
    "    fat = 0\n",
    "    carb = 0\n",
    "    protein = 0\n",
    "\n",
    "    for ingredient in ingredients:\n",
    "\n",
    "        ingr = ingredient\n",
    "\n",
    "        if ingredient in set(nutrition[\"ingr\"]):\n",
    "\n",
    "            cal += (\n",
    "                nutrition[nutrition[\"ingr\"] == ingr][\"cal/g\"].iloc[0]\n",
    "                * dictionary_of_ingredients[label][ingredient]\n",
    "            )\n",
    "            fat += (\n",
    "                nutrition[nutrition[\"ingr\"] == ingr][\"fat(g)\"].iloc[0]\n",
    "                * dictionary_of_ingredients[label][ingredient]\n",
    "            )\n",
    "            carb += (\n",
    "                nutrition[nutrition[\"ingr\"] == ingr][\"carb(g)\"].iloc[0]\n",
    "                * dictionary_of_ingredients[label][ingredient]\n",
    "            )\n",
    "            protein += (\n",
    "                nutrition[nutrition[\"ingr\"] == ingr][\"protein(g)\"].iloc[0]\n",
    "                * dictionary_of_ingredients[label][ingredient]\n",
    "            )\n",
    "        else:\n",
    "\n",
    "            # print(f\"ingredient out of nutrition: {ingredient}\")\n",
    "\n",
    "            similar_documents = collection.query(query_texts=[ingredient], n_results=1)\n",
    "\n",
    "            if len(similar_documents[\"documents\"][0]) == 0:\n",
    "                ingredients_not_found.append(ingr)\n",
    "\n",
    "            else:\n",
    "                ingr = similar_documents[\"documents\"][0][0]\n",
    "\n",
    "                cal += (\n",
    "                    nutrition[nutrition[\"ingr\"] == ingr][\"cal/g\"].iloc[0]\n",
    "                    * dictionary_of_ingredients[label][ingredient]\n",
    "                )\n",
    "                fat += (\n",
    "                    nutrition[nutrition[\"ingr\"] == ingr][\"fat(g)\"].iloc[0]\n",
    "                    * dictionary_of_ingredients[label][ingredient]\n",
    "                )\n",
    "                carb += (\n",
    "                    nutrition[nutrition[\"ingr\"] == ingr][\"carb(g)\"].iloc[0]\n",
    "                    * dictionary_of_ingredients[label][ingredient]\n",
    "                )\n",
    "                protein += (\n",
    "                    nutrition[nutrition[\"ingr\"] == ingr][\"protein(g)\"].iloc[0]\n",
    "                    * dictionary_of_ingredients[label][ingredient]\n",
    "                )\n",
    "\n",
    "    vector = [\n",
    "        fat / total_grams,\n",
    "        carb / total_grams,\n",
    "        protein / total_grams,\n",
    "        1 - (fat + carb + protein) / total_grams,\n",
    "    ]\n",
    "\n",
    "    return (\n",
    "        {\n",
    "            label: {\n",
    "                \"cal\": cal,\n",
    "                \"fat\": fat / total_grams,\n",
    "                \"carb\": carb / total_grams,\n",
    "                \"protein\": protein / total_grams,\n",
    "                \"other\": 1 - (fat + carb + protein) / total_grams,\n",
    "            }\n",
    "        },\n",
    "        ingredients_not_found,\n",
    "        vector,\n",
    "    )"
   ]
  },
  {
   "cell_type": "code",
   "execution_count": 229,
   "metadata": {},
   "outputs": [
    {
     "name": "stderr",
     "output_type": "stream",
     "text": [
      "/var/folders/qq/17cwmxhd3jv_w07w8pf57y5r0000gn/T/ipykernel_88136/152276334.py:69: RuntimeWarning: invalid value encountered in scalar divide\n",
      "  vector=[fat/total_grams,carb/total_grams,protein/total_grams,1-(fat+carb+protein)/total_grams]\n",
      "/var/folders/qq/17cwmxhd3jv_w07w8pf57y5r0000gn/T/ipykernel_88136/152276334.py:71: RuntimeWarning: invalid value encountered in scalar divide\n",
      "  return {label: {\"cal\": cal, \"fat\": fat/total_grams, \"carb\": carb/total_grams, \"protein\": protein/total_grams, \"other\":1-(fat+carb+protein)/total_grams}},ingredients_not_found,vector\n"
     ]
    }
   ],
   "source": [
    "list_distribution = []\n",
    "list_jsons = []\n",
    "list_not_found = []\n",
    "\n",
    "\n",
    "for i, row in data.iterrows():\n",
    "\n",
    "    j, n, v = get_calories_fat_carb_protein(\n",
    "        dictionary_of_ingredients=row[\"json_format_clean\"],\n",
    "        nutrition=nutrition,\n",
    "        total_grams=row[\"total_g\"],\n",
    "    )\n",
    "    list_distribution.append(v)\n",
    "    list_jsons.append(j)\n",
    "    list_not_found.append(n)"
   ]
  },
  {
   "cell_type": "code",
   "execution_count": 232,
   "metadata": {},
   "outputs": [],
   "source": [
    "data[\"target\"] = list_distribution\n",
    "data[\"json_nutrition\"] = list_jsons\n",
    "data[\"ing_not_found\"] = list_not_found"
   ]
  },
  {
   "cell_type": "markdown",
   "metadata": {},
   "source": [
    "# 3. Reading the DATA for Neural Network with Keras"
   ]
  },
  {
   "cell_type": "code",
   "execution_count": 27,
   "metadata": {},
   "outputs": [],
   "source": [
    "import pandas as pd\n",
    "\n",
    "# data.to_csv('FINAL_DATA_COMPLETE.csv',index=False)\n",
    "\n",
    "data = pd.read_csv(\"FINAL_DATA_COMPLETE.csv\")"
   ]
  },
  {
   "cell_type": "code",
   "execution_count": 28,
   "metadata": {},
   "outputs": [],
   "source": [
    "import os\n",
    "\n",
    "list_of_pics = os.listdir(\"5k/Recipes5k/images/SAMPLE/final_images\")"
   ]
  },
  {
   "cell_type": "code",
   "execution_count": 29,
   "metadata": {},
   "outputs": [
    {
     "data": {
      "text/plain": [
       "3211"
      ]
     },
     "execution_count": 29,
     "metadata": {},
     "output_type": "execute_result"
    }
   ],
   "source": [
    "list_of_pics = list(set(list_of_pics).intersection(set(data[\"image_name\"])))\n",
    "len(list_of_pics)"
   ]
  },
  {
   "cell_type": "code",
   "execution_count": 30,
   "metadata": {},
   "outputs": [
    {
     "data": {
      "text/plain": [
       "900    [0.13564471669218992, 0.024791730474732005, 0....\n",
       "Name: target, dtype: object"
      ]
     },
     "execution_count": 30,
     "metadata": {},
     "output_type": "execute_result"
    }
   ],
   "source": [
    "data[\"target\"][\n",
    "    data[\"image_name\"] == \"34_honey_sriracha_chicken_wings_hostedLargeUrl.jpg\"\n",
    "]"
   ]
  },
  {
   "cell_type": "code",
   "execution_count": 31,
   "metadata": {},
   "outputs": [],
   "source": [
    "import keras\n",
    "from keras.models import Sequential\n",
    "from keras.layers import Dense, Dropout, Flatten\n",
    "from keras.layers import Conv2D, MaxPooling2D\n",
    "from keras.preprocessing import image\n",
    "import numpy as np\n",
    "import pandas as pd\n",
    "import matplotlib.pyplot as plt\n",
    "from sklearn.model_selection import train_test_split\n",
    "from tqdm import tqdm\n",
    "from keras.layers import BatchNormalization\n",
    "\n",
    "\n",
    "image_directory = \"5k/Recipes5k/images/SAMPLE/final_images\""
   ]
  },
  {
   "cell_type": "code",
   "execution_count": 68,
   "metadata": {},
   "outputs": [],
   "source": [
    "SIZE = 200\n",
    "X_dataset = []\n",
    "for i in list_of_pics:\n",
    "    img = image.load_img(\n",
    "        \"5k/Recipes5k/images/SAMPLE/final_images/\" + i, target_size=(SIZE, SIZE, 3)\n",
    "    )\n",
    "    img = image.img_to_array(img)\n",
    "    img = img / 255.0\n",
    "    X_dataset.append(img)\n",
    "\n",
    "X = np.array(X_dataset)\n",
    "\n",
    "y = [data[\"target\"][data[\"image_name\"] == i].tolist()[0] for i in list_of_pics]\n",
    "\n",
    "y = np.array(y)"
   ]
  },
  {
   "cell_type": "code",
   "execution_count": 49,
   "metadata": {},
   "outputs": [
    {
     "name": "stdout",
     "output_type": "stream",
     "text": [
      "[nan, nan, nan, nan]\n",
      "50\n",
      "<class 'numpy.str_'>\n"
     ]
    }
   ],
   "source": [
    "# y was imported as string, and problems arose with [nan,...,nan]\n",
    "\n",
    "import ast\n",
    "\n",
    "counter = 0\n",
    "\n",
    "for s in y:\n",
    "    try:\n",
    "        [float(i) for i in ast.literal_eval(s)]\n",
    "        counter += 1\n",
    "    except:\n",
    "        print(s)\n",
    "        print(counter)\n",
    "        print(type(s))\n",
    "        break"
   ]
  },
  {
   "cell_type": "code",
   "execution_count": 58,
   "metadata": {},
   "outputs": [],
   "source": [
    "y_transformed = np.array([np.fromstring(row[1:-1], sep=\", \") for row in y])"
   ]
  },
  {
   "cell_type": "code",
   "execution_count": 59,
   "metadata": {},
   "outputs": [
    {
     "name": "stdout",
     "output_type": "stream",
     "text": [
      "NaNs found at indices: [  50  333  512  640  641  660  756 1012 1220 1253 1530 1962 2251 2568\n",
      " 2630 3181 3194]\n"
     ]
    }
   ],
   "source": [
    "# Check for NaNs or infinity in the array\n",
    "nan_indices = np.isnan(y_transformed).any(axis=1)\n",
    "inf_indices = np.isinf(y_transformed).any(axis=1)\n",
    "\n",
    "# Get the indices where NaNs or infinity occur\n",
    "indices_with_nan = np.where(nan_indices)[0]\n",
    "indices_with_inf = np.where(inf_indices)[0]\n",
    "\n",
    "if len(indices_with_nan) > 0:\n",
    "    print(\"NaNs found at indices:\", indices_with_nan)\n",
    "\n",
    "if len(indices_with_inf) > 0:\n",
    "    print(\"Infinity values found at indices:\", indices_with_inf)"
   ]
  },
  {
   "cell_type": "code",
   "execution_count": 69,
   "metadata": {},
   "outputs": [],
   "source": [
    "# Dropping NANs\n",
    "\n",
    "y = np.delete(y_transformed, indices_with_nan, axis=0)\n",
    "X = np.delete(X, indices_with_nan, axis=0)\n",
    "\n",
    "\n",
    "X_train, X_test, y_train, y_test = train_test_split(\n",
    "    X, y, random_state=20, test_size=0.3\n",
    ")"
   ]
  },
  {
   "cell_type": "code",
   "execution_count": 70,
   "metadata": {},
   "outputs": [
    {
     "data": {
      "text/plain": [
       "3194"
      ]
     },
     "execution_count": 70,
     "metadata": {},
     "output_type": "execute_result"
    }
   ],
   "source": [
    "len(y)"
   ]
  },
  {
   "cell_type": "code",
   "execution_count": 67,
   "metadata": {},
   "outputs": [
    {
     "data": {
      "text/plain": [
       "(2235, 200, 200, 3)"
      ]
     },
     "execution_count": 67,
     "metadata": {},
     "output_type": "execute_result"
    }
   ],
   "source": [
    "X_train.shape"
   ]
  },
  {
   "cell_type": "markdown",
   "metadata": {},
   "source": [
    "## Keras Implementation"
   ]
  },
  {
   "cell_type": "code",
   "execution_count": 62,
   "metadata": {},
   "outputs": [
    {
     "name": "stderr",
     "output_type": "stream",
     "text": [
      "/Users/rafaeldavila/Documents/Duke/Sem2/ML/final/.venv/lib/python3.11/site-packages/keras/src/layers/convolutional/base_conv.py:99: UserWarning: Do not pass an `input_shape`/`input_dim` argument to a layer. When using Sequential models, prefer using an `Input(shape)` object as the first layer in the model instead.\n",
      "  super().__init__(\n"
     ]
    }
   ],
   "source": [
    "model = Sequential()\n",
    "\n",
    "model.add(\n",
    "    Conv2D(\n",
    "        filters=16, kernel_size=(5, 5), activation=\"relu\", input_shape=(SIZE, SIZE, 3)\n",
    "    )\n",
    ")\n",
    "model.add(BatchNormalization())\n",
    "model.add(MaxPooling2D(pool_size=(2, 2)))\n",
    "model.add(Dropout(0.2))\n",
    "\n",
    "model.add(Conv2D(filters=32, kernel_size=(5, 5), activation=\"relu\"))\n",
    "model.add(MaxPooling2D(pool_size=(2, 2)))\n",
    "model.add(BatchNormalization())\n",
    "model.add(Dropout(0.2))\n",
    "\n",
    "model.add(Conv2D(filters=64, kernel_size=(5, 5), activation=\"relu\"))\n",
    "model.add(MaxPooling2D(pool_size=(2, 2)))\n",
    "model.add(BatchNormalization())\n",
    "model.add(Dropout(0.2))\n",
    "\n",
    "model.add(Conv2D(filters=64, kernel_size=(5, 5), activation=\"relu\"))\n",
    "model.add(MaxPooling2D(pool_size=(2, 2)))\n",
    "model.add(BatchNormalization())\n",
    "model.add(Dropout(0.2))\n",
    "\n",
    "model.add(Flatten())\n",
    "model.add(Dense(128, activation=\"relu\"))\n",
    "model.add(Dropout(0.5))\n",
    "model.add(Dense(64, activation=\"relu\"))\n",
    "model.add(Dropout(0.5))\n",
    "model.add(Dense(4, activation=\"softmax\"))"
   ]
  },
  {
   "cell_type": "code",
   "execution_count": 71,
   "metadata": {},
   "outputs": [
    {
     "data": {
      "text/html": [
       "<pre style=\"white-space:pre;overflow-x:auto;line-height:normal;font-family:Menlo,'DejaVu Sans Mono',consolas,'Courier New',monospace\"><span style=\"font-weight: bold\">Model: \"sequential\"</span>\n",
       "</pre>\n"
      ],
      "text/plain": [
       "\u001b[1mModel: \"sequential\"\u001b[0m\n"
      ]
     },
     "metadata": {},
     "output_type": "display_data"
    },
    {
     "data": {
      "text/html": [
       "<pre style=\"white-space:pre;overflow-x:auto;line-height:normal;font-family:Menlo,'DejaVu Sans Mono',consolas,'Courier New',monospace\">┏━━━━━━━━━━━━━━━━━━━━━━━━━━━━━━━━━┳━━━━━━━━━━━━━━━━━━━━━━━━┳━━━━━━━━━━━━━━━┓\n",
       "┃<span style=\"font-weight: bold\"> Layer (type)                    </span>┃<span style=\"font-weight: bold\"> Output Shape           </span>┃<span style=\"font-weight: bold\">       Param # </span>┃\n",
       "┡━━━━━━━━━━━━━━━━━━━━━━━━━━━━━━━━━╇━━━━━━━━━━━━━━━━━━━━━━━━╇━━━━━━━━━━━━━━━┩\n",
       "│ conv2d (<span style=\"color: #0087ff; text-decoration-color: #0087ff\">Conv2D</span>)                 │ (<span style=\"color: #00d7ff; text-decoration-color: #00d7ff\">None</span>, <span style=\"color: #00af00; text-decoration-color: #00af00\">196</span>, <span style=\"color: #00af00; text-decoration-color: #00af00\">196</span>, <span style=\"color: #00af00; text-decoration-color: #00af00\">16</span>)   │         <span style=\"color: #00af00; text-decoration-color: #00af00\">1,216</span> │\n",
       "├─────────────────────────────────┼────────────────────────┼───────────────┤\n",
       "│ batch_normalization             │ (<span style=\"color: #00d7ff; text-decoration-color: #00d7ff\">None</span>, <span style=\"color: #00af00; text-decoration-color: #00af00\">196</span>, <span style=\"color: #00af00; text-decoration-color: #00af00\">196</span>, <span style=\"color: #00af00; text-decoration-color: #00af00\">16</span>)   │            <span style=\"color: #00af00; text-decoration-color: #00af00\">64</span> │\n",
       "│ (<span style=\"color: #0087ff; text-decoration-color: #0087ff\">BatchNormalization</span>)            │                        │               │\n",
       "├─────────────────────────────────┼────────────────────────┼───────────────┤\n",
       "│ max_pooling2d (<span style=\"color: #0087ff; text-decoration-color: #0087ff\">MaxPooling2D</span>)    │ (<span style=\"color: #00d7ff; text-decoration-color: #00d7ff\">None</span>, <span style=\"color: #00af00; text-decoration-color: #00af00\">98</span>, <span style=\"color: #00af00; text-decoration-color: #00af00\">98</span>, <span style=\"color: #00af00; text-decoration-color: #00af00\">16</span>)     │             <span style=\"color: #00af00; text-decoration-color: #00af00\">0</span> │\n",
       "├─────────────────────────────────┼────────────────────────┼───────────────┤\n",
       "│ dropout (<span style=\"color: #0087ff; text-decoration-color: #0087ff\">Dropout</span>)               │ (<span style=\"color: #00d7ff; text-decoration-color: #00d7ff\">None</span>, <span style=\"color: #00af00; text-decoration-color: #00af00\">98</span>, <span style=\"color: #00af00; text-decoration-color: #00af00\">98</span>, <span style=\"color: #00af00; text-decoration-color: #00af00\">16</span>)     │             <span style=\"color: #00af00; text-decoration-color: #00af00\">0</span> │\n",
       "├─────────────────────────────────┼────────────────────────┼───────────────┤\n",
       "│ conv2d_1 (<span style=\"color: #0087ff; text-decoration-color: #0087ff\">Conv2D</span>)               │ (<span style=\"color: #00d7ff; text-decoration-color: #00d7ff\">None</span>, <span style=\"color: #00af00; text-decoration-color: #00af00\">94</span>, <span style=\"color: #00af00; text-decoration-color: #00af00\">94</span>, <span style=\"color: #00af00; text-decoration-color: #00af00\">32</span>)     │        <span style=\"color: #00af00; text-decoration-color: #00af00\">12,832</span> │\n",
       "├─────────────────────────────────┼────────────────────────┼───────────────┤\n",
       "│ max_pooling2d_1 (<span style=\"color: #0087ff; text-decoration-color: #0087ff\">MaxPooling2D</span>)  │ (<span style=\"color: #00d7ff; text-decoration-color: #00d7ff\">None</span>, <span style=\"color: #00af00; text-decoration-color: #00af00\">47</span>, <span style=\"color: #00af00; text-decoration-color: #00af00\">47</span>, <span style=\"color: #00af00; text-decoration-color: #00af00\">32</span>)     │             <span style=\"color: #00af00; text-decoration-color: #00af00\">0</span> │\n",
       "├─────────────────────────────────┼────────────────────────┼───────────────┤\n",
       "│ batch_normalization_1           │ (<span style=\"color: #00d7ff; text-decoration-color: #00d7ff\">None</span>, <span style=\"color: #00af00; text-decoration-color: #00af00\">47</span>, <span style=\"color: #00af00; text-decoration-color: #00af00\">47</span>, <span style=\"color: #00af00; text-decoration-color: #00af00\">32</span>)     │           <span style=\"color: #00af00; text-decoration-color: #00af00\">128</span> │\n",
       "│ (<span style=\"color: #0087ff; text-decoration-color: #0087ff\">BatchNormalization</span>)            │                        │               │\n",
       "├─────────────────────────────────┼────────────────────────┼───────────────┤\n",
       "│ dropout_1 (<span style=\"color: #0087ff; text-decoration-color: #0087ff\">Dropout</span>)             │ (<span style=\"color: #00d7ff; text-decoration-color: #00d7ff\">None</span>, <span style=\"color: #00af00; text-decoration-color: #00af00\">47</span>, <span style=\"color: #00af00; text-decoration-color: #00af00\">47</span>, <span style=\"color: #00af00; text-decoration-color: #00af00\">32</span>)     │             <span style=\"color: #00af00; text-decoration-color: #00af00\">0</span> │\n",
       "├─────────────────────────────────┼────────────────────────┼───────────────┤\n",
       "│ conv2d_2 (<span style=\"color: #0087ff; text-decoration-color: #0087ff\">Conv2D</span>)               │ (<span style=\"color: #00d7ff; text-decoration-color: #00d7ff\">None</span>, <span style=\"color: #00af00; text-decoration-color: #00af00\">43</span>, <span style=\"color: #00af00; text-decoration-color: #00af00\">43</span>, <span style=\"color: #00af00; text-decoration-color: #00af00\">64</span>)     │        <span style=\"color: #00af00; text-decoration-color: #00af00\">51,264</span> │\n",
       "├─────────────────────────────────┼────────────────────────┼───────────────┤\n",
       "│ max_pooling2d_2 (<span style=\"color: #0087ff; text-decoration-color: #0087ff\">MaxPooling2D</span>)  │ (<span style=\"color: #00d7ff; text-decoration-color: #00d7ff\">None</span>, <span style=\"color: #00af00; text-decoration-color: #00af00\">21</span>, <span style=\"color: #00af00; text-decoration-color: #00af00\">21</span>, <span style=\"color: #00af00; text-decoration-color: #00af00\">64</span>)     │             <span style=\"color: #00af00; text-decoration-color: #00af00\">0</span> │\n",
       "├─────────────────────────────────┼────────────────────────┼───────────────┤\n",
       "│ batch_normalization_2           │ (<span style=\"color: #00d7ff; text-decoration-color: #00d7ff\">None</span>, <span style=\"color: #00af00; text-decoration-color: #00af00\">21</span>, <span style=\"color: #00af00; text-decoration-color: #00af00\">21</span>, <span style=\"color: #00af00; text-decoration-color: #00af00\">64</span>)     │           <span style=\"color: #00af00; text-decoration-color: #00af00\">256</span> │\n",
       "│ (<span style=\"color: #0087ff; text-decoration-color: #0087ff\">BatchNormalization</span>)            │                        │               │\n",
       "├─────────────────────────────────┼────────────────────────┼───────────────┤\n",
       "│ dropout_2 (<span style=\"color: #0087ff; text-decoration-color: #0087ff\">Dropout</span>)             │ (<span style=\"color: #00d7ff; text-decoration-color: #00d7ff\">None</span>, <span style=\"color: #00af00; text-decoration-color: #00af00\">21</span>, <span style=\"color: #00af00; text-decoration-color: #00af00\">21</span>, <span style=\"color: #00af00; text-decoration-color: #00af00\">64</span>)     │             <span style=\"color: #00af00; text-decoration-color: #00af00\">0</span> │\n",
       "├─────────────────────────────────┼────────────────────────┼───────────────┤\n",
       "│ conv2d_3 (<span style=\"color: #0087ff; text-decoration-color: #0087ff\">Conv2D</span>)               │ (<span style=\"color: #00d7ff; text-decoration-color: #00d7ff\">None</span>, <span style=\"color: #00af00; text-decoration-color: #00af00\">17</span>, <span style=\"color: #00af00; text-decoration-color: #00af00\">17</span>, <span style=\"color: #00af00; text-decoration-color: #00af00\">64</span>)     │       <span style=\"color: #00af00; text-decoration-color: #00af00\">102,464</span> │\n",
       "├─────────────────────────────────┼────────────────────────┼───────────────┤\n",
       "│ max_pooling2d_3 (<span style=\"color: #0087ff; text-decoration-color: #0087ff\">MaxPooling2D</span>)  │ (<span style=\"color: #00d7ff; text-decoration-color: #00d7ff\">None</span>, <span style=\"color: #00af00; text-decoration-color: #00af00\">8</span>, <span style=\"color: #00af00; text-decoration-color: #00af00\">8</span>, <span style=\"color: #00af00; text-decoration-color: #00af00\">64</span>)       │             <span style=\"color: #00af00; text-decoration-color: #00af00\">0</span> │\n",
       "├─────────────────────────────────┼────────────────────────┼───────────────┤\n",
       "│ batch_normalization_3           │ (<span style=\"color: #00d7ff; text-decoration-color: #00d7ff\">None</span>, <span style=\"color: #00af00; text-decoration-color: #00af00\">8</span>, <span style=\"color: #00af00; text-decoration-color: #00af00\">8</span>, <span style=\"color: #00af00; text-decoration-color: #00af00\">64</span>)       │           <span style=\"color: #00af00; text-decoration-color: #00af00\">256</span> │\n",
       "│ (<span style=\"color: #0087ff; text-decoration-color: #0087ff\">BatchNormalization</span>)            │                        │               │\n",
       "├─────────────────────────────────┼────────────────────────┼───────────────┤\n",
       "│ dropout_3 (<span style=\"color: #0087ff; text-decoration-color: #0087ff\">Dropout</span>)             │ (<span style=\"color: #00d7ff; text-decoration-color: #00d7ff\">None</span>, <span style=\"color: #00af00; text-decoration-color: #00af00\">8</span>, <span style=\"color: #00af00; text-decoration-color: #00af00\">8</span>, <span style=\"color: #00af00; text-decoration-color: #00af00\">64</span>)       │             <span style=\"color: #00af00; text-decoration-color: #00af00\">0</span> │\n",
       "├─────────────────────────────────┼────────────────────────┼───────────────┤\n",
       "│ flatten (<span style=\"color: #0087ff; text-decoration-color: #0087ff\">Flatten</span>)               │ (<span style=\"color: #00d7ff; text-decoration-color: #00d7ff\">None</span>, <span style=\"color: #00af00; text-decoration-color: #00af00\">4096</span>)           │             <span style=\"color: #00af00; text-decoration-color: #00af00\">0</span> │\n",
       "├─────────────────────────────────┼────────────────────────┼───────────────┤\n",
       "│ dense (<span style=\"color: #0087ff; text-decoration-color: #0087ff\">Dense</span>)                   │ (<span style=\"color: #00d7ff; text-decoration-color: #00d7ff\">None</span>, <span style=\"color: #00af00; text-decoration-color: #00af00\">128</span>)            │       <span style=\"color: #00af00; text-decoration-color: #00af00\">524,416</span> │\n",
       "├─────────────────────────────────┼────────────────────────┼───────────────┤\n",
       "│ dropout_4 (<span style=\"color: #0087ff; text-decoration-color: #0087ff\">Dropout</span>)             │ (<span style=\"color: #00d7ff; text-decoration-color: #00d7ff\">None</span>, <span style=\"color: #00af00; text-decoration-color: #00af00\">128</span>)            │             <span style=\"color: #00af00; text-decoration-color: #00af00\">0</span> │\n",
       "├─────────────────────────────────┼────────────────────────┼───────────────┤\n",
       "│ dense_1 (<span style=\"color: #0087ff; text-decoration-color: #0087ff\">Dense</span>)                 │ (<span style=\"color: #00d7ff; text-decoration-color: #00d7ff\">None</span>, <span style=\"color: #00af00; text-decoration-color: #00af00\">64</span>)             │         <span style=\"color: #00af00; text-decoration-color: #00af00\">8,256</span> │\n",
       "├─────────────────────────────────┼────────────────────────┼───────────────┤\n",
       "│ dropout_5 (<span style=\"color: #0087ff; text-decoration-color: #0087ff\">Dropout</span>)             │ (<span style=\"color: #00d7ff; text-decoration-color: #00d7ff\">None</span>, <span style=\"color: #00af00; text-decoration-color: #00af00\">64</span>)             │             <span style=\"color: #00af00; text-decoration-color: #00af00\">0</span> │\n",
       "├─────────────────────────────────┼────────────────────────┼───────────────┤\n",
       "│ dense_2 (<span style=\"color: #0087ff; text-decoration-color: #0087ff\">Dense</span>)                 │ (<span style=\"color: #00d7ff; text-decoration-color: #00d7ff\">None</span>, <span style=\"color: #00af00; text-decoration-color: #00af00\">4</span>)              │           <span style=\"color: #00af00; text-decoration-color: #00af00\">260</span> │\n",
       "└─────────────────────────────────┴────────────────────────┴───────────────┘\n",
       "</pre>\n"
      ],
      "text/plain": [
       "┏━━━━━━━━━━━━━━━━━━━━━━━━━━━━━━━━━┳━━━━━━━━━━━━━━━━━━━━━━━━┳━━━━━━━━━━━━━━━┓\n",
       "┃\u001b[1m \u001b[0m\u001b[1mLayer (type)                   \u001b[0m\u001b[1m \u001b[0m┃\u001b[1m \u001b[0m\u001b[1mOutput Shape          \u001b[0m\u001b[1m \u001b[0m┃\u001b[1m \u001b[0m\u001b[1m      Param #\u001b[0m\u001b[1m \u001b[0m┃\n",
       "┡━━━━━━━━━━━━━━━━━━━━━━━━━━━━━━━━━╇━━━━━━━━━━━━━━━━━━━━━━━━╇━━━━━━━━━━━━━━━┩\n",
       "│ conv2d (\u001b[38;5;33mConv2D\u001b[0m)                 │ (\u001b[38;5;45mNone\u001b[0m, \u001b[38;5;34m196\u001b[0m, \u001b[38;5;34m196\u001b[0m, \u001b[38;5;34m16\u001b[0m)   │         \u001b[38;5;34m1,216\u001b[0m │\n",
       "├─────────────────────────────────┼────────────────────────┼───────────────┤\n",
       "│ batch_normalization             │ (\u001b[38;5;45mNone\u001b[0m, \u001b[38;5;34m196\u001b[0m, \u001b[38;5;34m196\u001b[0m, \u001b[38;5;34m16\u001b[0m)   │            \u001b[38;5;34m64\u001b[0m │\n",
       "│ (\u001b[38;5;33mBatchNormalization\u001b[0m)            │                        │               │\n",
       "├─────────────────────────────────┼────────────────────────┼───────────────┤\n",
       "│ max_pooling2d (\u001b[38;5;33mMaxPooling2D\u001b[0m)    │ (\u001b[38;5;45mNone\u001b[0m, \u001b[38;5;34m98\u001b[0m, \u001b[38;5;34m98\u001b[0m, \u001b[38;5;34m16\u001b[0m)     │             \u001b[38;5;34m0\u001b[0m │\n",
       "├─────────────────────────────────┼────────────────────────┼───────────────┤\n",
       "│ dropout (\u001b[38;5;33mDropout\u001b[0m)               │ (\u001b[38;5;45mNone\u001b[0m, \u001b[38;5;34m98\u001b[0m, \u001b[38;5;34m98\u001b[0m, \u001b[38;5;34m16\u001b[0m)     │             \u001b[38;5;34m0\u001b[0m │\n",
       "├─────────────────────────────────┼────────────────────────┼───────────────┤\n",
       "│ conv2d_1 (\u001b[38;5;33mConv2D\u001b[0m)               │ (\u001b[38;5;45mNone\u001b[0m, \u001b[38;5;34m94\u001b[0m, \u001b[38;5;34m94\u001b[0m, \u001b[38;5;34m32\u001b[0m)     │        \u001b[38;5;34m12,832\u001b[0m │\n",
       "├─────────────────────────────────┼────────────────────────┼───────────────┤\n",
       "│ max_pooling2d_1 (\u001b[38;5;33mMaxPooling2D\u001b[0m)  │ (\u001b[38;5;45mNone\u001b[0m, \u001b[38;5;34m47\u001b[0m, \u001b[38;5;34m47\u001b[0m, \u001b[38;5;34m32\u001b[0m)     │             \u001b[38;5;34m0\u001b[0m │\n",
       "├─────────────────────────────────┼────────────────────────┼───────────────┤\n",
       "│ batch_normalization_1           │ (\u001b[38;5;45mNone\u001b[0m, \u001b[38;5;34m47\u001b[0m, \u001b[38;5;34m47\u001b[0m, \u001b[38;5;34m32\u001b[0m)     │           \u001b[38;5;34m128\u001b[0m │\n",
       "│ (\u001b[38;5;33mBatchNormalization\u001b[0m)            │                        │               │\n",
       "├─────────────────────────────────┼────────────────────────┼───────────────┤\n",
       "│ dropout_1 (\u001b[38;5;33mDropout\u001b[0m)             │ (\u001b[38;5;45mNone\u001b[0m, \u001b[38;5;34m47\u001b[0m, \u001b[38;5;34m47\u001b[0m, \u001b[38;5;34m32\u001b[0m)     │             \u001b[38;5;34m0\u001b[0m │\n",
       "├─────────────────────────────────┼────────────────────────┼───────────────┤\n",
       "│ conv2d_2 (\u001b[38;5;33mConv2D\u001b[0m)               │ (\u001b[38;5;45mNone\u001b[0m, \u001b[38;5;34m43\u001b[0m, \u001b[38;5;34m43\u001b[0m, \u001b[38;5;34m64\u001b[0m)     │        \u001b[38;5;34m51,264\u001b[0m │\n",
       "├─────────────────────────────────┼────────────────────────┼───────────────┤\n",
       "│ max_pooling2d_2 (\u001b[38;5;33mMaxPooling2D\u001b[0m)  │ (\u001b[38;5;45mNone\u001b[0m, \u001b[38;5;34m21\u001b[0m, \u001b[38;5;34m21\u001b[0m, \u001b[38;5;34m64\u001b[0m)     │             \u001b[38;5;34m0\u001b[0m │\n",
       "├─────────────────────────────────┼────────────────────────┼───────────────┤\n",
       "│ batch_normalization_2           │ (\u001b[38;5;45mNone\u001b[0m, \u001b[38;5;34m21\u001b[0m, \u001b[38;5;34m21\u001b[0m, \u001b[38;5;34m64\u001b[0m)     │           \u001b[38;5;34m256\u001b[0m │\n",
       "│ (\u001b[38;5;33mBatchNormalization\u001b[0m)            │                        │               │\n",
       "├─────────────────────────────────┼────────────────────────┼───────────────┤\n",
       "│ dropout_2 (\u001b[38;5;33mDropout\u001b[0m)             │ (\u001b[38;5;45mNone\u001b[0m, \u001b[38;5;34m21\u001b[0m, \u001b[38;5;34m21\u001b[0m, \u001b[38;5;34m64\u001b[0m)     │             \u001b[38;5;34m0\u001b[0m │\n",
       "├─────────────────────────────────┼────────────────────────┼───────────────┤\n",
       "│ conv2d_3 (\u001b[38;5;33mConv2D\u001b[0m)               │ (\u001b[38;5;45mNone\u001b[0m, \u001b[38;5;34m17\u001b[0m, \u001b[38;5;34m17\u001b[0m, \u001b[38;5;34m64\u001b[0m)     │       \u001b[38;5;34m102,464\u001b[0m │\n",
       "├─────────────────────────────────┼────────────────────────┼───────────────┤\n",
       "│ max_pooling2d_3 (\u001b[38;5;33mMaxPooling2D\u001b[0m)  │ (\u001b[38;5;45mNone\u001b[0m, \u001b[38;5;34m8\u001b[0m, \u001b[38;5;34m8\u001b[0m, \u001b[38;5;34m64\u001b[0m)       │             \u001b[38;5;34m0\u001b[0m │\n",
       "├─────────────────────────────────┼────────────────────────┼───────────────┤\n",
       "│ batch_normalization_3           │ (\u001b[38;5;45mNone\u001b[0m, \u001b[38;5;34m8\u001b[0m, \u001b[38;5;34m8\u001b[0m, \u001b[38;5;34m64\u001b[0m)       │           \u001b[38;5;34m256\u001b[0m │\n",
       "│ (\u001b[38;5;33mBatchNormalization\u001b[0m)            │                        │               │\n",
       "├─────────────────────────────────┼────────────────────────┼───────────────┤\n",
       "│ dropout_3 (\u001b[38;5;33mDropout\u001b[0m)             │ (\u001b[38;5;45mNone\u001b[0m, \u001b[38;5;34m8\u001b[0m, \u001b[38;5;34m8\u001b[0m, \u001b[38;5;34m64\u001b[0m)       │             \u001b[38;5;34m0\u001b[0m │\n",
       "├─────────────────────────────────┼────────────────────────┼───────────────┤\n",
       "│ flatten (\u001b[38;5;33mFlatten\u001b[0m)               │ (\u001b[38;5;45mNone\u001b[0m, \u001b[38;5;34m4096\u001b[0m)           │             \u001b[38;5;34m0\u001b[0m │\n",
       "├─────────────────────────────────┼────────────────────────┼───────────────┤\n",
       "│ dense (\u001b[38;5;33mDense\u001b[0m)                   │ (\u001b[38;5;45mNone\u001b[0m, \u001b[38;5;34m128\u001b[0m)            │       \u001b[38;5;34m524,416\u001b[0m │\n",
       "├─────────────────────────────────┼────────────────────────┼───────────────┤\n",
       "│ dropout_4 (\u001b[38;5;33mDropout\u001b[0m)             │ (\u001b[38;5;45mNone\u001b[0m, \u001b[38;5;34m128\u001b[0m)            │             \u001b[38;5;34m0\u001b[0m │\n",
       "├─────────────────────────────────┼────────────────────────┼───────────────┤\n",
       "│ dense_1 (\u001b[38;5;33mDense\u001b[0m)                 │ (\u001b[38;5;45mNone\u001b[0m, \u001b[38;5;34m64\u001b[0m)             │         \u001b[38;5;34m8,256\u001b[0m │\n",
       "├─────────────────────────────────┼────────────────────────┼───────────────┤\n",
       "│ dropout_5 (\u001b[38;5;33mDropout\u001b[0m)             │ (\u001b[38;5;45mNone\u001b[0m, \u001b[38;5;34m64\u001b[0m)             │             \u001b[38;5;34m0\u001b[0m │\n",
       "├─────────────────────────────────┼────────────────────────┼───────────────┤\n",
       "│ dense_2 (\u001b[38;5;33mDense\u001b[0m)                 │ (\u001b[38;5;45mNone\u001b[0m, \u001b[38;5;34m4\u001b[0m)              │           \u001b[38;5;34m260\u001b[0m │\n",
       "└─────────────────────────────────┴────────────────────────┴───────────────┘\n"
      ]
     },
     "metadata": {},
     "output_type": "display_data"
    },
    {
     "data": {
      "text/html": [
       "<pre style=\"white-space:pre;overflow-x:auto;line-height:normal;font-family:Menlo,'DejaVu Sans Mono',consolas,'Courier New',monospace\"><span style=\"font-weight: bold\"> Total params: </span><span style=\"color: #00af00; text-decoration-color: #00af00\">701,412</span> (2.68 MB)\n",
       "</pre>\n"
      ],
      "text/plain": [
       "\u001b[1m Total params: \u001b[0m\u001b[38;5;34m701,412\u001b[0m (2.68 MB)\n"
      ]
     },
     "metadata": {},
     "output_type": "display_data"
    },
    {
     "data": {
      "text/html": [
       "<pre style=\"white-space:pre;overflow-x:auto;line-height:normal;font-family:Menlo,'DejaVu Sans Mono',consolas,'Courier New',monospace\"><span style=\"font-weight: bold\"> Trainable params: </span><span style=\"color: #00af00; text-decoration-color: #00af00\">701,060</span> (2.67 MB)\n",
       "</pre>\n"
      ],
      "text/plain": [
       "\u001b[1m Trainable params: \u001b[0m\u001b[38;5;34m701,060\u001b[0m (2.67 MB)\n"
      ]
     },
     "metadata": {},
     "output_type": "display_data"
    },
    {
     "data": {
      "text/html": [
       "<pre style=\"white-space:pre;overflow-x:auto;line-height:normal;font-family:Menlo,'DejaVu Sans Mono',consolas,'Courier New',monospace\"><span style=\"font-weight: bold\"> Non-trainable params: </span><span style=\"color: #00af00; text-decoration-color: #00af00\">352</span> (1.38 KB)\n",
       "</pre>\n"
      ],
      "text/plain": [
       "\u001b[1m Non-trainable params: \u001b[0m\u001b[38;5;34m352\u001b[0m (1.38 KB)\n"
      ]
     },
     "metadata": {},
     "output_type": "display_data"
    },
    {
     "name": "stdout",
     "output_type": "stream",
     "text": [
      "Epoch 1/15\n",
      "\u001b[1m35/35\u001b[0m \u001b[32m━━━━━━━━━━━━━━━━━━━━\u001b[0m\u001b[37m\u001b[0m \u001b[1m75s\u001b[0m 2s/step - loss: 2.0876 - mean_squared_error: 0.1046 - val_loss: 1.1750 - val_mean_squared_error: 0.0536\n",
      "Epoch 2/15\n",
      "\u001b[1m35/35\u001b[0m \u001b[32m━━━━━━━━━━━━━━━━━━━━\u001b[0m\u001b[37m\u001b[0m \u001b[1m70s\u001b[0m 2s/step - loss: 1.3567 - mean_squared_error: 0.0519 - val_loss: 1.1441 - val_mean_squared_error: 0.0490\n",
      "Epoch 3/15\n",
      "\u001b[1m35/35\u001b[0m \u001b[32m━━━━━━━━━━━━━━━━━━━━\u001b[0m\u001b[37m\u001b[0m \u001b[1m73s\u001b[0m 2s/step - loss: 1.1750 - mean_squared_error: 0.0400 - val_loss: 1.0961 - val_mean_squared_error: 0.0416\n",
      "Epoch 4/15\n",
      "\u001b[1m35/35\u001b[0m \u001b[32m━━━━━━━━━━━━━━━━━━━━\u001b[0m\u001b[37m\u001b[0m \u001b[1m74s\u001b[0m 2s/step - loss: 1.1339 - mean_squared_error: 0.0360 - val_loss: 1.0841 - val_mean_squared_error: 0.0390\n",
      "Epoch 5/15\n",
      "\u001b[1m35/35\u001b[0m \u001b[32m━━━━━━━━━━━━━━━━━━━━\u001b[0m\u001b[37m\u001b[0m \u001b[1m75s\u001b[0m 2s/step - loss: 1.0856 - mean_squared_error: 0.0308 - val_loss: 1.0141 - val_mean_squared_error: 0.0274\n",
      "Epoch 6/15\n",
      "\u001b[1m35/35\u001b[0m \u001b[32m━━━━━━━━━━━━━━━━━━━━\u001b[0m\u001b[37m\u001b[0m \u001b[1m73s\u001b[0m 2s/step - loss: 1.0524 - mean_squared_error: 0.0276 - val_loss: 0.9820 - val_mean_squared_error: 0.0219\n",
      "Epoch 7/15\n",
      "\u001b[1m35/35\u001b[0m \u001b[32m━━━━━━━━━━━━━━━━━━━━\u001b[0m\u001b[37m\u001b[0m \u001b[1m74s\u001b[0m 2s/step - loss: 1.0473 - mean_squared_error: 0.0284 - val_loss: 1.0253 - val_mean_squared_error: 0.0294\n",
      "Epoch 8/15\n",
      "\u001b[1m35/35\u001b[0m \u001b[32m━━━━━━━━━━━━━━━━━━━━\u001b[0m\u001b[37m\u001b[0m \u001b[1m74s\u001b[0m 2s/step - loss: 1.0273 - mean_squared_error: 0.0252 - val_loss: 0.9964 - val_mean_squared_error: 0.0244\n",
      "Epoch 9/15\n",
      "\u001b[1m35/35\u001b[0m \u001b[32m━━━━━━━━━━━━━━━━━━━━\u001b[0m\u001b[37m\u001b[0m \u001b[1m79s\u001b[0m 2s/step - loss: 1.0144 - mean_squared_error: 0.0238 - val_loss: 1.0249 - val_mean_squared_error: 0.0291\n",
      "Epoch 10/15\n",
      "\u001b[1m35/35\u001b[0m \u001b[32m━━━━━━━━━━━━━━━━━━━━\u001b[0m\u001b[37m\u001b[0m \u001b[1m76s\u001b[0m 2s/step - loss: 1.0079 - mean_squared_error: 0.0228 - val_loss: 1.0124 - val_mean_squared_error: 0.0269\n",
      "Epoch 11/15\n",
      "\u001b[1m35/35\u001b[0m \u001b[32m━━━━━━━━━━━━━━━━━━━━\u001b[0m\u001b[37m\u001b[0m \u001b[1m75s\u001b[0m 2s/step - loss: 1.0072 - mean_squared_error: 0.0238 - val_loss: 0.9992 - val_mean_squared_error: 0.0247\n",
      "Epoch 12/15\n",
      "\u001b[1m35/35\u001b[0m \u001b[32m━━━━━━━━━━━━━━━━━━━━\u001b[0m\u001b[37m\u001b[0m \u001b[1m73s\u001b[0m 2s/step - loss: 1.0012 - mean_squared_error: 0.0225 - val_loss: 0.9695 - val_mean_squared_error: 0.0200\n",
      "Epoch 13/15\n",
      "\u001b[1m35/35\u001b[0m \u001b[32m━━━━━━━━━━━━━━━━━━━━\u001b[0m\u001b[37m\u001b[0m \u001b[1m72s\u001b[0m 2s/step - loss: 0.9971 - mean_squared_error: 0.0216 - val_loss: 0.9660 - val_mean_squared_error: 0.0193\n",
      "Epoch 14/15\n",
      "\u001b[1m35/35\u001b[0m \u001b[32m━━━━━━━━━━━━━━━━━━━━\u001b[0m\u001b[37m\u001b[0m \u001b[1m79s\u001b[0m 2s/step - loss: 0.9836 - mean_squared_error: 0.0207 - val_loss: 0.9810 - val_mean_squared_error: 0.0218\n",
      "Epoch 15/15\n",
      "\u001b[1m35/35\u001b[0m \u001b[32m━━━━━━━━━━━━━━━━━━━━\u001b[0m\u001b[37m\u001b[0m \u001b[1m80s\u001b[0m 2s/step - loss: 0.9756 - mean_squared_error: 0.0207 - val_loss: 0.9737 - val_mean_squared_error: 0.0206\n"
     ]
    },
    {
     "data": {
      "image/png": "[encoded data removed]",
      "text/plain": [
       "<Figure size 640x480 with 1 Axes>"
      ]
     },
     "metadata": {},
     "output_type": "display_data"
    },
    {
     "data": {
      "image/png": "[encoded data removed]",
      "text/plain": [
       "<Figure size 640x480 with 1 Axes>"
      ]
     },
     "metadata": {},
     "output_type": "display_data"
    }
   ],
   "source": [
    "model.summary()\n",
    "\n",
    "# Categorical was better suited for probabilities.\n",
    "model.compile(\n",
    "    optimizer=\"adam\", loss=\"categorical_crossentropy\", metrics=[\"mean_squared_error\"]\n",
    ")\n",
    "\n",
    "\n",
    "history = model.fit(\n",
    "    X_train, y_train, epochs=15, validation_data=(X_test, y_test), batch_size=64\n",
    ")\n",
    "\n",
    "\n",
    "# plot the training and validation accuracy and loss at each epoch\n",
    "loss = history.history[\"loss\"]\n",
    "val_loss = history.history[\"val_loss\"]\n",
    "epochs = range(1, len(loss) + 1)\n",
    "plt.plot(epochs, loss, \"y\", label=\"Training loss\")\n",
    "plt.plot(epochs, val_loss, \"r\", label=\"Validation loss\")\n",
    "plt.title(\"Training and validation loss\")\n",
    "plt.xlabel(\"Epochs\")\n",
    "plt.ylabel(\"Loss\")\n",
    "plt.legend()\n",
    "plt.show()\n",
    "\n",
    "\n",
    "# acc = history.history[\"accuracy\"]\n",
    "mean_squared_error = history.history[\"mean_squared_error\"]\n",
    "# val_acc = history.history[\"val_accuracy\"]\n",
    "val_mean_squared_error = history.history[\"val_mean_squared_error\"]\n",
    "# plt.plot(epochs, acc, \"y\", label=\"Training acc\")\n",
    "plt.plot(epochs, mean_squared_error, \"y\", label=\"Training MSE\")\n",
    "# plt.plot(epochs, val_acc, \"r\", label=\"Validation acc\")\n",
    "plt.plot(epochs, val_mean_squared_error, \"r\", label=\"Validation MSE\")\n",
    "# plt.title(\"Training and validation Accuracy\")\n",
    "plt.title(\"Training and validation MSE\")\n",
    "plt.xlabel(\"Epochs\")\n",
    "# plt.ylabel(\"Accuracy\")\n",
    "plt.ylabel(\"MSE\")\n",
    "plt.legend()\n",
    "plt.show()"
   ]
  },
  {
   "cell_type": "code",
   "execution_count": 9,
   "metadata": {},
   "outputs": [
    {
     "data": {
      "text/plain": [
       "['11_peanut_butter_frozen_yogurt_hostedLargeUrl.jpg',\n",
       " '31_french_onion_soup_hostedLargeUrl.jpg']"
      ]
     },
     "execution_count": 9,
     "metadata": {},
     "output_type": "execute_result"
    }
   ],
   "source": [
    "images_path = \"5k/Recipes5k/images/SAMPLE/final_images/\"\n",
    "os.listdir(images_path)[:2]"
   ]
  },
  {
   "cell_type": "markdown",
   "metadata": {},
   "source": [
    "# Prediction"
   ]
  },
  {
   "cell_type": "markdown",
   "metadata": {},
   "source": [
    "## Comparing the values with real values"
   ]
  },
  {
   "cell_type": "code",
   "execution_count": 76,
   "metadata": {},
   "outputs": [],
   "source": [
    "# os.listdir('metadata')\n",
    "test_data = pd.read_csv(\"metadata/dish_labels_5k_final.csv\")\n",
    "dishes_sample = test_data.sample(200)\n",
    "dishes_sample = dishes_sample[\"dish\"]\n",
    "# Save dishes_sample to a .txt file\n",
    "dishes_sample.to_csv(\"dishes_test.txt\", index=False, header=False)"
   ]
  },
  {
   "cell_type": "code",
   "execution_count": 80,
   "metadata": {},
   "outputs": [
    {
     "data": {
      "text/html": [
       "<div>\n",
       "<style scoped>\n",
       "    .dataframe tbody tr th:only-of-type {\n",
       "        vertical-align: middle;\n",
       "    }\n",
       "\n",
       "    .dataframe tbody tr th {\n",
       "        vertical-align: top;\n",
       "    }\n",
       "\n",
       "    .dataframe thead th {\n",
       "        text-align: right;\n",
       "    }\n",
       "</style>\n",
       "<table border=\"1\" class=\"dataframe\">\n",
       "  <thead>\n",
       "    <tr style=\"text-align: right;\">\n",
       "      <th></th>\n",
       "      <th>dish</th>\n",
       "      <th>cal</th>\n",
       "      <th>mass</th>\n",
       "      <th>fat_g</th>\n",
       "      <th>carb_g</th>\n",
       "      <th>prot_g</th>\n",
       "      <th>other_g</th>\n",
       "      <th>pct_fat</th>\n",
       "      <th>pct_carb</th>\n",
       "      <th>pct_prot</th>\n",
       "      <th>pct_other</th>\n",
       "    </tr>\n",
       "  </thead>\n",
       "  <tbody>\n",
       "    <tr>\n",
       "      <th>0</th>\n",
       "      <td>dish_1561662216</td>\n",
       "      <td>300.794281</td>\n",
       "      <td>193</td>\n",
       "      <td>12.387489</td>\n",
       "      <td>28.218290</td>\n",
       "      <td>18.633970</td>\n",
       "      <td>133.760251</td>\n",
       "      <td>0.064184</td>\n",
       "      <td>0.146209</td>\n",
       "      <td>0.096549</td>\n",
       "      <td>0.693058</td>\n",
       "    </tr>\n",
       "    <tr>\n",
       "      <th>1</th>\n",
       "      <td>dish_1562688426</td>\n",
       "      <td>137.569992</td>\n",
       "      <td>88</td>\n",
       "      <td>8.256000</td>\n",
       "      <td>5.190000</td>\n",
       "      <td>10.297000</td>\n",
       "      <td>64.257000</td>\n",
       "      <td>0.093818</td>\n",
       "      <td>0.058977</td>\n",
       "      <td>0.117011</td>\n",
       "      <td>0.730193</td>\n",
       "    </tr>\n",
       "    <tr>\n",
       "      <th>2</th>\n",
       "      <td>dish_1561662054</td>\n",
       "      <td>419.438782</td>\n",
       "      <td>292</td>\n",
       "      <td>23.838249</td>\n",
       "      <td>26.351543</td>\n",
       "      <td>25.910593</td>\n",
       "      <td>215.899615</td>\n",
       "      <td>0.081638</td>\n",
       "      <td>0.090245</td>\n",
       "      <td>0.088735</td>\n",
       "      <td>0.739382</td>\n",
       "    </tr>\n",
       "  </tbody>\n",
       "</table>\n",
       "</div>"
      ],
      "text/plain": [
       "              dish         cal  mass      fat_g     carb_g     prot_g  \\\n",
       "0  dish_1561662216  300.794281   193  12.387489  28.218290  18.633970   \n",
       "1  dish_1562688426  137.569992    88   8.256000   5.190000  10.297000   \n",
       "2  dish_1561662054  419.438782   292  23.838249  26.351543  25.910593   \n",
       "\n",
       "      other_g   pct_fat  pct_carb  pct_prot  pct_other  \n",
       "0  133.760251  0.064184  0.146209  0.096549   0.693058  \n",
       "1   64.257000  0.093818  0.058977  0.117011   0.730193  \n",
       "2  215.899615  0.081638  0.090245  0.088735   0.739382  "
      ]
     },
     "execution_count": 80,
     "metadata": {},
     "output_type": "execute_result"
    }
   ],
   "source": [
    "test_data.head(3)"
   ]
  },
  {
   "cell_type": "code",
   "execution_count": 106,
   "metadata": {},
   "outputs": [],
   "source": [
    "dishes_sample.reset_index(drop=True, inplace=True)\n",
    "comparison_results = pd.DataFrame()\n",
    "comparison_results[\"dish\"] = os.listdir(\"dishes\")"
   ]
  },
  {
   "cell_type": "code",
   "execution_count": 108,
   "metadata": {},
   "outputs": [],
   "source": [
    "comparison_results[\"id\"] = [i.split(\".\")[0] for i in comparison_results[\"dish\"]]"
   ]
  },
  {
   "cell_type": "code",
   "execution_count": 109,
   "metadata": {},
   "outputs": [
    {
     "data": {
      "text/html": [
       "<div>\n",
       "<style scoped>\n",
       "    .dataframe tbody tr th:only-of-type {\n",
       "        vertical-align: middle;\n",
       "    }\n",
       "\n",
       "    .dataframe tbody tr th {\n",
       "        vertical-align: top;\n",
       "    }\n",
       "\n",
       "    .dataframe thead th {\n",
       "        text-align: right;\n",
       "    }\n",
       "</style>\n",
       "<table border=\"1\" class=\"dataframe\">\n",
       "  <thead>\n",
       "    <tr style=\"text-align: right;\">\n",
       "      <th></th>\n",
       "      <th>dish</th>\n",
       "      <th>id</th>\n",
       "    </tr>\n",
       "  </thead>\n",
       "  <tbody>\n",
       "    <tr>\n",
       "      <th>0</th>\n",
       "      <td>dish_1558382263.png</td>\n",
       "      <td>dish_1558382263</td>\n",
       "    </tr>\n",
       "    <tr>\n",
       "      <th>1</th>\n",
       "      <td>dish_1562873838.png</td>\n",
       "      <td>dish_1562873838</td>\n",
       "    </tr>\n",
       "    <tr>\n",
       "      <th>2</th>\n",
       "      <td>dish_1562605384.png</td>\n",
       "      <td>dish_1562605384</td>\n",
       "    </tr>\n",
       "    <tr>\n",
       "      <th>3</th>\n",
       "      <td>dish_1565813414.png</td>\n",
       "      <td>dish_1565813414</td>\n",
       "    </tr>\n",
       "    <tr>\n",
       "      <th>4</th>\n",
       "      <td>dish_1557861795.png</td>\n",
       "      <td>dish_1557861795</td>\n",
       "    </tr>\n",
       "  </tbody>\n",
       "</table>\n",
       "</div>"
      ],
      "text/plain": [
       "                  dish               id\n",
       "0  dish_1558382263.png  dish_1558382263\n",
       "1  dish_1562873838.png  dish_1562873838\n",
       "2  dish_1562605384.png  dish_1562605384\n",
       "3  dish_1565813414.png  dish_1565813414\n",
       "4  dish_1557861795.png  dish_1557861795"
      ]
     },
     "execution_count": 109,
     "metadata": {},
     "output_type": "execute_result"
    }
   ],
   "source": [
    "comparison_results.head()"
   ]
  },
  {
   "cell_type": "code",
   "execution_count": 111,
   "metadata": {},
   "outputs": [
    {
     "name": "stdout",
     "output_type": "stream",
     "text": [
      "\u001b[1m1/1\u001b[0m \u001b[32m━━━━━━━━━━━━━━━━━━━━\u001b[0m\u001b[37m\u001b[0m \u001b[1m0s\u001b[0m 21ms/step\n",
      "\u001b[1m1/1\u001b[0m \u001b[32m━━━━━━━━━━━━━━━━━━━━\u001b[0m\u001b[37m\u001b[0m \u001b[1m0s\u001b[0m 22ms/step\n",
      "\u001b[1m1/1\u001b[0m \u001b[32m━━━━━━━━━━━━━━━━━━━━\u001b[0m\u001b[37m\u001b[0m \u001b[1m0s\u001b[0m 21ms/step\n",
      "\u001b[1m1/1\u001b[0m \u001b[32m━━━━━━━━━━━━━━━━━━━━\u001b[0m\u001b[37m\u001b[0m \u001b[1m0s\u001b[0m 21ms/step\n",
      "\u001b[1m1/1\u001b[0m \u001b[32m━━━━━━━━━━━━━━━━━━━━\u001b[0m\u001b[37m\u001b[0m \u001b[1m0s\u001b[0m 20ms/step\n",
      "\u001b[1m1/1\u001b[0m \u001b[32m━━━━━━━━━━━━━━━━━━━━\u001b[0m\u001b[37m\u001b[0m \u001b[1m0s\u001b[0m 20ms/step\n",
      "\u001b[1m1/1\u001b[0m \u001b[32m━━━━━━━━━━━━━━━━━━━━\u001b[0m\u001b[37m\u001b[0m \u001b[1m0s\u001b[0m 20ms/step\n",
      "\u001b[1m1/1\u001b[0m \u001b[32m━━━━━━━━━━━━━━━━━━━━\u001b[0m\u001b[37m\u001b[0m \u001b[1m0s\u001b[0m 21ms/step\n",
      "\u001b[1m1/1\u001b[0m \u001b[32m━━━━━━━━━━━━━━━━━━━━\u001b[0m\u001b[37m\u001b[0m \u001b[1m0s\u001b[0m 20ms/step\n",
      "\u001b[1m1/1\u001b[0m \u001b[32m━━━━━━━━━━━━━━━━━━━━\u001b[0m\u001b[37m\u001b[0m \u001b[1m0s\u001b[0m 31ms/step\n",
      "\u001b[1m1/1\u001b[0m \u001b[32m━━━━━━━━━━━━━━━━━━━━\u001b[0m\u001b[37m\u001b[0m \u001b[1m0s\u001b[0m 21ms/step\n",
      "\u001b[1m1/1\u001b[0m \u001b[32m━━━━━━━━━━━━━━━━━━━━\u001b[0m\u001b[37m\u001b[0m \u001b[1m0s\u001b[0m 21ms/step\n",
      "\u001b[1m1/1\u001b[0m \u001b[32m━━━━━━━━━━━━━━━━━━━━\u001b[0m\u001b[37m\u001b[0m \u001b[1m0s\u001b[0m 20ms/step\n",
      "\u001b[1m1/1\u001b[0m \u001b[32m━━━━━━━━━━━━━━━━━━━━\u001b[0m\u001b[37m\u001b[0m \u001b[1m0s\u001b[0m 20ms/step\n",
      "\u001b[1m1/1\u001b[0m \u001b[32m━━━━━━━━━━━━━━━━━━━━\u001b[0m\u001b[37m\u001b[0m \u001b[1m0s\u001b[0m 21ms/step\n",
      "\u001b[1m1/1\u001b[0m \u001b[32m━━━━━━━━━━━━━━━━━━━━\u001b[0m\u001b[37m\u001b[0m \u001b[1m0s\u001b[0m 22ms/step\n",
      "\u001b[1m1/1\u001b[0m \u001b[32m━━━━━━━━━━━━━━━━━━━━\u001b[0m\u001b[37m\u001b[0m \u001b[1m0s\u001b[0m 21ms/step\n",
      "\u001b[1m1/1\u001b[0m \u001b[32m━━━━━━━━━━━━━━━━━━━━\u001b[0m\u001b[37m\u001b[0m \u001b[1m0s\u001b[0m 22ms/step\n",
      "\u001b[1m1/1\u001b[0m \u001b[32m━━━━━━━━━━━━━━━━━━━━\u001b[0m\u001b[37m\u001b[0m \u001b[1m0s\u001b[0m 21ms/step\n",
      "\u001b[1m1/1\u001b[0m \u001b[32m━━━━━━━━━━━━━━━━━━━━\u001b[0m\u001b[37m\u001b[0m \u001b[1m0s\u001b[0m 20ms/step\n",
      "\u001b[1m1/1\u001b[0m \u001b[32m━━━━━━━━━━━━━━━━━━━━\u001b[0m\u001b[37m\u001b[0m \u001b[1m0s\u001b[0m 20ms/step\n",
      "\u001b[1m1/1\u001b[0m \u001b[32m━━━━━━━━━━━━━━━━━━━━\u001b[0m\u001b[37m\u001b[0m \u001b[1m0s\u001b[0m 24ms/step\n",
      "\u001b[1m1/1\u001b[0m \u001b[32m━━━━━━━━━━━━━━━━━━━━\u001b[0m\u001b[37m\u001b[0m \u001b[1m0s\u001b[0m 27ms/step\n",
      "\u001b[1m1/1\u001b[0m \u001b[32m━━━━━━━━━━━━━━━━━━━━\u001b[0m\u001b[37m\u001b[0m \u001b[1m0s\u001b[0m 21ms/step\n",
      "\u001b[1m1/1\u001b[0m \u001b[32m━━━━━━━━━━━━━━━━━━━━\u001b[0m\u001b[37m\u001b[0m \u001b[1m0s\u001b[0m 20ms/step\n",
      "\u001b[1m1/1\u001b[0m \u001b[32m━━━━━━━━━━━━━━━━━━━━\u001b[0m\u001b[37m\u001b[0m \u001b[1m0s\u001b[0m 20ms/step\n",
      "\u001b[1m1/1\u001b[0m \u001b[32m━━━━━━━━━━━━━━━━━━━━\u001b[0m\u001b[37m\u001b[0m \u001b[1m0s\u001b[0m 20ms/step\n",
      "\u001b[1m1/1\u001b[0m \u001b[32m━━━━━━━━━━━━━━━━━━━━\u001b[0m\u001b[37m\u001b[0m \u001b[1m0s\u001b[0m 20ms/step\n",
      "\u001b[1m1/1\u001b[0m \u001b[32m━━━━━━━━━━━━━━━━━━━━\u001b[0m\u001b[37m\u001b[0m \u001b[1m0s\u001b[0m 20ms/step\n",
      "\u001b[1m1/1\u001b[0m \u001b[32m━━━━━━━━━━━━━━━━━━━━\u001b[0m\u001b[37m\u001b[0m \u001b[1m0s\u001b[0m 19ms/step\n",
      "\u001b[1m1/1\u001b[0m \u001b[32m━━━━━━━━━━━━━━━━━━━━\u001b[0m\u001b[37m\u001b[0m \u001b[1m0s\u001b[0m 20ms/step\n",
      "\u001b[1m1/1\u001b[0m \u001b[32m━━━━━━━━━━━━━━━━━━━━\u001b[0m\u001b[37m\u001b[0m \u001b[1m0s\u001b[0m 20ms/step\n",
      "\u001b[1m1/1\u001b[0m \u001b[32m━━━━━━━━━━━━━━━━━━━━\u001b[0m\u001b[37m\u001b[0m \u001b[1m0s\u001b[0m 20ms/step\n",
      "\u001b[1m1/1\u001b[0m \u001b[32m━━━━━━━━━━━━━━━━━━━━\u001b[0m\u001b[37m\u001b[0m \u001b[1m0s\u001b[0m 22ms/step\n",
      "\u001b[1m1/1\u001b[0m \u001b[32m━━━━━━━━━━━━━━━━━━━━\u001b[0m\u001b[37m\u001b[0m \u001b[1m0s\u001b[0m 20ms/step\n",
      "\u001b[1m1/1\u001b[0m \u001b[32m━━━━━━━━━━━━━━━━━━━━\u001b[0m\u001b[37m\u001b[0m \u001b[1m0s\u001b[0m 20ms/step\n",
      "\u001b[1m1/1\u001b[0m \u001b[32m━━━━━━━━━━━━━━━━━━━━\u001b[0m\u001b[37m\u001b[0m \u001b[1m0s\u001b[0m 22ms/step\n",
      "\u001b[1m1/1\u001b[0m \u001b[32m━━━━━━━━━━━━━━━━━━━━\u001b[0m\u001b[37m\u001b[0m \u001b[1m0s\u001b[0m 26ms/step\n",
      "\u001b[1m1/1\u001b[0m \u001b[32m━━━━━━━━━━━━━━━━━━━━\u001b[0m\u001b[37m\u001b[0m \u001b[1m0s\u001b[0m 26ms/step\n",
      "\u001b[1m1/1\u001b[0m \u001b[32m━━━━━━━━━━━━━━━━━━━━\u001b[0m\u001b[37m\u001b[0m \u001b[1m0s\u001b[0m 26ms/step\n",
      "\u001b[1m1/1\u001b[0m \u001b[32m━━━━━━━━━━━━━━━━━━━━\u001b[0m\u001b[37m\u001b[0m \u001b[1m0s\u001b[0m 21ms/step\n",
      "\u001b[1m1/1\u001b[0m \u001b[32m━━━━━━━━━━━━━━━━━━━━\u001b[0m\u001b[37m\u001b[0m \u001b[1m0s\u001b[0m 20ms/step\n",
      "\u001b[1m1/1\u001b[0m \u001b[32m━━━━━━━━━━━━━━━━━━━━\u001b[0m\u001b[37m\u001b[0m \u001b[1m0s\u001b[0m 20ms/step\n",
      "\u001b[1m1/1\u001b[0m \u001b[32m━━━━━━━━━━━━━━━━━━━━\u001b[0m\u001b[37m\u001b[0m \u001b[1m0s\u001b[0m 20ms/step\n",
      "\u001b[1m1/1\u001b[0m \u001b[32m━━━━━━━━━━━━━━━━━━━━\u001b[0m\u001b[37m\u001b[0m \u001b[1m0s\u001b[0m 20ms/step\n",
      "\u001b[1m1/1\u001b[0m \u001b[32m━━━━━━━━━━━━━━━━━━━━\u001b[0m\u001b[37m\u001b[0m \u001b[1m0s\u001b[0m 20ms/step\n",
      "\u001b[1m1/1\u001b[0m \u001b[32m━━━━━━━━━━━━━━━━━━━━\u001b[0m\u001b[37m\u001b[0m \u001b[1m0s\u001b[0m 20ms/step\n",
      "\u001b[1m1/1\u001b[0m \u001b[32m━━━━━━━━━━━━━━━━━━━━\u001b[0m\u001b[37m\u001b[0m \u001b[1m0s\u001b[0m 19ms/step\n",
      "\u001b[1m1/1\u001b[0m \u001b[32m━━━━━━━━━━━━━━━━━━━━\u001b[0m\u001b[37m\u001b[0m \u001b[1m0s\u001b[0m 21ms/step\n",
      "\u001b[1m1/1\u001b[0m \u001b[32m━━━━━━━━━━━━━━━━━━━━\u001b[0m\u001b[37m\u001b[0m \u001b[1m0s\u001b[0m 20ms/step\n",
      "\u001b[1m1/1\u001b[0m \u001b[32m━━━━━━━━━━━━━━━━━━━━\u001b[0m\u001b[37m\u001b[0m \u001b[1m0s\u001b[0m 20ms/step\n",
      "\u001b[1m1/1\u001b[0m \u001b[32m━━━━━━━━━━━━━━━━━━━━\u001b[0m\u001b[37m\u001b[0m \u001b[1m0s\u001b[0m 20ms/step\n",
      "\u001b[1m1/1\u001b[0m \u001b[32m━━━━━━━━━━━━━━━━━━━━\u001b[0m\u001b[37m\u001b[0m \u001b[1m0s\u001b[0m 20ms/step\n",
      "\u001b[1m1/1\u001b[0m \u001b[32m━━━━━━━━━━━━━━━━━━━━\u001b[0m\u001b[37m\u001b[0m \u001b[1m0s\u001b[0m 20ms/step\n",
      "\u001b[1m1/1\u001b[0m \u001b[32m━━━━━━━━━━━━━━━━━━━━\u001b[0m\u001b[37m\u001b[0m \u001b[1m0s\u001b[0m 20ms/step\n",
      "\u001b[1m1/1\u001b[0m \u001b[32m━━━━━━━━━━━━━━━━━━━━\u001b[0m\u001b[37m\u001b[0m \u001b[1m0s\u001b[0m 20ms/step\n",
      "\u001b[1m1/1\u001b[0m \u001b[32m━━━━━━━━━━━━━━━━━━━━\u001b[0m\u001b[37m\u001b[0m \u001b[1m0s\u001b[0m 20ms/step\n",
      "\u001b[1m1/1\u001b[0m \u001b[32m━━━━━━━━━━━━━━━━━━━━\u001b[0m\u001b[37m\u001b[0m \u001b[1m0s\u001b[0m 20ms/step\n",
      "\u001b[1m1/1\u001b[0m \u001b[32m━━━━━━━━━━━━━━━━━━━━\u001b[0m\u001b[37m\u001b[0m \u001b[1m0s\u001b[0m 20ms/step\n",
      "\u001b[1m1/1\u001b[0m \u001b[32m━━━━━━━━━━━━━━━━━━━━\u001b[0m\u001b[37m\u001b[0m \u001b[1m0s\u001b[0m 20ms/step\n",
      "\u001b[1m1/1\u001b[0m \u001b[32m━━━━━━━━━━━━━━━━━━━━\u001b[0m\u001b[37m\u001b[0m \u001b[1m0s\u001b[0m 20ms/step\n",
      "\u001b[1m1/1\u001b[0m \u001b[32m━━━━━━━━━━━━━━━━━━━━\u001b[0m\u001b[37m\u001b[0m \u001b[1m0s\u001b[0m 20ms/step\n",
      "\u001b[1m1/1\u001b[0m \u001b[32m━━━━━━━━━━━━━━━━━━━━\u001b[0m\u001b[37m\u001b[0m \u001b[1m0s\u001b[0m 20ms/step\n",
      "\u001b[1m1/1\u001b[0m \u001b[32m━━━━━━━━━━━━━━━━━━━━\u001b[0m\u001b[37m\u001b[0m \u001b[1m0s\u001b[0m 20ms/step\n",
      "\u001b[1m1/1\u001b[0m \u001b[32m━━━━━━━━━━━━━━━━━━━━\u001b[0m\u001b[37m\u001b[0m \u001b[1m0s\u001b[0m 20ms/step\n",
      "\u001b[1m1/1\u001b[0m \u001b[32m━━━━━━━━━━━━━━━━━━━━\u001b[0m\u001b[37m\u001b[0m \u001b[1m0s\u001b[0m 20ms/step\n",
      "\u001b[1m1/1\u001b[0m \u001b[32m━━━━━━━━━━━━━━━━━━━━\u001b[0m\u001b[37m\u001b[0m \u001b[1m0s\u001b[0m 20ms/step\n",
      "\u001b[1m1/1\u001b[0m \u001b[32m━━━━━━━━━━━━━━━━━━━━\u001b[0m\u001b[37m\u001b[0m \u001b[1m0s\u001b[0m 19ms/step\n",
      "\u001b[1m1/1\u001b[0m \u001b[32m━━━━━━━━━━━━━━━━━━━━\u001b[0m\u001b[37m\u001b[0m \u001b[1m0s\u001b[0m 19ms/step\n",
      "\u001b[1m1/1\u001b[0m \u001b[32m━━━━━━━━━━━━━━━━━━━━\u001b[0m\u001b[37m\u001b[0m \u001b[1m0s\u001b[0m 20ms/step\n",
      "\u001b[1m1/1\u001b[0m \u001b[32m━━━━━━━━━━━━━━━━━━━━\u001b[0m\u001b[37m\u001b[0m \u001b[1m0s\u001b[0m 20ms/step\n",
      "\u001b[1m1/1\u001b[0m \u001b[32m━━━━━━━━━━━━━━━━━━━━\u001b[0m\u001b[37m\u001b[0m \u001b[1m0s\u001b[0m 20ms/step\n",
      "\u001b[1m1/1\u001b[0m \u001b[32m━━━━━━━━━━━━━━━━━━━━\u001b[0m\u001b[37m\u001b[0m \u001b[1m0s\u001b[0m 20ms/step\n",
      "\u001b[1m1/1\u001b[0m \u001b[32m━━━━━━━━━━━━━━━━━━━━\u001b[0m\u001b[37m\u001b[0m \u001b[1m0s\u001b[0m 20ms/step\n",
      "\u001b[1m1/1\u001b[0m \u001b[32m━━━━━━━━━━━━━━━━━━━━\u001b[0m\u001b[37m\u001b[0m \u001b[1m0s\u001b[0m 20ms/step\n",
      "\u001b[1m1/1\u001b[0m \u001b[32m━━━━━━━━━━━━━━━━━━━━\u001b[0m\u001b[37m\u001b[0m \u001b[1m0s\u001b[0m 20ms/step\n",
      "\u001b[1m1/1\u001b[0m \u001b[32m━━━━━━━━━━━━━━━━━━━━\u001b[0m\u001b[37m\u001b[0m \u001b[1m0s\u001b[0m 20ms/step\n",
      "\u001b[1m1/1\u001b[0m \u001b[32m━━━━━━━━━━━━━━━━━━━━\u001b[0m\u001b[37m\u001b[0m \u001b[1m0s\u001b[0m 20ms/step\n",
      "\u001b[1m1/1\u001b[0m \u001b[32m━━━━━━━━━━━━━━━━━━━━\u001b[0m\u001b[37m\u001b[0m \u001b[1m0s\u001b[0m 20ms/step\n",
      "\u001b[1m1/1\u001b[0m \u001b[32m━━━━━━━━━━━━━━━━━━━━\u001b[0m\u001b[37m\u001b[0m \u001b[1m0s\u001b[0m 20ms/step\n",
      "\u001b[1m1/1\u001b[0m \u001b[32m━━━━━━━━━━━━━━━━━━━━\u001b[0m\u001b[37m\u001b[0m \u001b[1m0s\u001b[0m 20ms/step\n",
      "\u001b[1m1/1\u001b[0m \u001b[32m━━━━━━━━━━━━━━━━━━━━\u001b[0m\u001b[37m\u001b[0m \u001b[1m0s\u001b[0m 20ms/step\n",
      "\u001b[1m1/1\u001b[0m \u001b[32m━━━━━━━━━━━━━━━━━━━━\u001b[0m\u001b[37m\u001b[0m \u001b[1m0s\u001b[0m 20ms/step\n",
      "\u001b[1m1/1\u001b[0m \u001b[32m━━━━━━━━━━━━━━━━━━━━\u001b[0m\u001b[37m\u001b[0m \u001b[1m0s\u001b[0m 21ms/step\n",
      "\u001b[1m1/1\u001b[0m \u001b[32m━━━━━━━━━━━━━━━━━━━━\u001b[0m\u001b[37m\u001b[0m \u001b[1m0s\u001b[0m 20ms/step\n",
      "\u001b[1m1/1\u001b[0m \u001b[32m━━━━━━━━━━━━━━━━━━━━\u001b[0m\u001b[37m\u001b[0m \u001b[1m0s\u001b[0m 21ms/step\n",
      "\u001b[1m1/1\u001b[0m \u001b[32m━━━━━━━━━━━━━━━━━━━━\u001b[0m\u001b[37m\u001b[0m \u001b[1m0s\u001b[0m 20ms/step\n",
      "\u001b[1m1/1\u001b[0m \u001b[32m━━━━━━━━━━━━━━━━━━━━\u001b[0m\u001b[37m\u001b[0m \u001b[1m0s\u001b[0m 20ms/step\n",
      "\u001b[1m1/1\u001b[0m \u001b[32m━━━━━━━━━━━━━━━━━━━━\u001b[0m\u001b[37m\u001b[0m \u001b[1m0s\u001b[0m 20ms/step\n",
      "\u001b[1m1/1\u001b[0m \u001b[32m━━━━━━━━━━━━━━━━━━━━\u001b[0m\u001b[37m\u001b[0m \u001b[1m0s\u001b[0m 20ms/step\n",
      "\u001b[1m1/1\u001b[0m \u001b[32m━━━━━━━━━━━━━━━━━━━━\u001b[0m\u001b[37m\u001b[0m \u001b[1m0s\u001b[0m 20ms/step\n",
      "\u001b[1m1/1\u001b[0m \u001b[32m━━━━━━━━━━━━━━━━━━━━\u001b[0m\u001b[37m\u001b[0m \u001b[1m0s\u001b[0m 20ms/step\n",
      "\u001b[1m1/1\u001b[0m \u001b[32m━━━━━━━━━━━━━━━━━━━━\u001b[0m\u001b[37m\u001b[0m \u001b[1m0s\u001b[0m 20ms/step\n",
      "\u001b[1m1/1\u001b[0m \u001b[32m━━━━━━━━━━━━━━━━━━━━\u001b[0m\u001b[37m\u001b[0m \u001b[1m0s\u001b[0m 20ms/step\n",
      "\u001b[1m1/1\u001b[0m \u001b[32m━━━━━━━━━━━━━━━━━━━━\u001b[0m\u001b[37m\u001b[0m \u001b[1m0s\u001b[0m 20ms/step\n",
      "\u001b[1m1/1\u001b[0m \u001b[32m━━━━━━━━━━━━━━━━━━━━\u001b[0m\u001b[37m\u001b[0m \u001b[1m0s\u001b[0m 24ms/step\n",
      "\u001b[1m1/1\u001b[0m \u001b[32m━━━━━━━━━━━━━━━━━━━━\u001b[0m\u001b[37m\u001b[0m \u001b[1m0s\u001b[0m 21ms/step\n",
      "\u001b[1m1/1\u001b[0m \u001b[32m━━━━━━━━━━━━━━━━━━━━\u001b[0m\u001b[37m\u001b[0m \u001b[1m0s\u001b[0m 21ms/step\n",
      "\u001b[1m1/1\u001b[0m \u001b[32m━━━━━━━━━━━━━━━━━━━━\u001b[0m\u001b[37m\u001b[0m \u001b[1m0s\u001b[0m 20ms/step\n",
      "\u001b[1m1/1\u001b[0m \u001b[32m━━━━━━━━━━━━━━━━━━━━\u001b[0m\u001b[37m\u001b[0m \u001b[1m0s\u001b[0m 20ms/step\n",
      "\u001b[1m1/1\u001b[0m \u001b[32m━━━━━━━━━━━━━━━━━━━━\u001b[0m\u001b[37m\u001b[0m \u001b[1m0s\u001b[0m 20ms/step\n",
      "\u001b[1m1/1\u001b[0m \u001b[32m━━━━━━━━━━━━━━━━━━━━\u001b[0m\u001b[37m\u001b[0m \u001b[1m0s\u001b[0m 21ms/step\n",
      "\u001b[1m1/1\u001b[0m \u001b[32m━━━━━━━━━━━━━━━━━━━━\u001b[0m\u001b[37m\u001b[0m \u001b[1m0s\u001b[0m 20ms/step\n",
      "\u001b[1m1/1\u001b[0m \u001b[32m━━━━━━━━━━━━━━━━━━━━\u001b[0m\u001b[37m\u001b[0m \u001b[1m0s\u001b[0m 20ms/step\n",
      "\u001b[1m1/1\u001b[0m \u001b[32m━━━━━━━━━━━━━━━━━━━━\u001b[0m\u001b[37m\u001b[0m \u001b[1m0s\u001b[0m 20ms/step\n",
      "\u001b[1m1/1\u001b[0m \u001b[32m━━━━━━━━━━━━━━━━━━━━\u001b[0m\u001b[37m\u001b[0m \u001b[1m0s\u001b[0m 20ms/step\n",
      "\u001b[1m1/1\u001b[0m \u001b[32m━━━━━━━━━━━━━━━━━━━━\u001b[0m\u001b[37m\u001b[0m \u001b[1m0s\u001b[0m 20ms/step\n",
      "\u001b[1m1/1\u001b[0m \u001b[32m━━━━━━━━━━━━━━━━━━━━\u001b[0m\u001b[37m\u001b[0m \u001b[1m0s\u001b[0m 20ms/step\n",
      "\u001b[1m1/1\u001b[0m \u001b[32m━━━━━━━━━━━━━━━━━━━━\u001b[0m\u001b[37m\u001b[0m \u001b[1m0s\u001b[0m 20ms/step\n",
      "\u001b[1m1/1\u001b[0m \u001b[32m━━━━━━━━━━━━━━━━━━━━\u001b[0m\u001b[37m\u001b[0m \u001b[1m0s\u001b[0m 21ms/step\n",
      "\u001b[1m1/1\u001b[0m \u001b[32m━━━━━━━━━━━━━━━━━━━━\u001b[0m\u001b[37m\u001b[0m \u001b[1m0s\u001b[0m 20ms/step\n",
      "\u001b[1m1/1\u001b[0m \u001b[32m━━━━━━━━━━━━━━━━━━━━\u001b[0m\u001b[37m\u001b[0m \u001b[1m0s\u001b[0m 20ms/step\n",
      "\u001b[1m1/1\u001b[0m \u001b[32m━━━━━━━━━━━━━━━━━━━━\u001b[0m\u001b[37m\u001b[0m \u001b[1m0s\u001b[0m 20ms/step\n",
      "\u001b[1m1/1\u001b[0m \u001b[32m━━━━━━━━━━━━━━━━━━━━\u001b[0m\u001b[37m\u001b[0m \u001b[1m0s\u001b[0m 20ms/step\n",
      "\u001b[1m1/1\u001b[0m \u001b[32m━━━━━━━━━━━━━━━━━━━━\u001b[0m\u001b[37m\u001b[0m \u001b[1m0s\u001b[0m 20ms/step\n",
      "\u001b[1m1/1\u001b[0m \u001b[32m━━━━━━━━━━━━━━━━━━━━\u001b[0m\u001b[37m\u001b[0m \u001b[1m0s\u001b[0m 20ms/step\n",
      "\u001b[1m1/1\u001b[0m \u001b[32m━━━━━━━━━━━━━━━━━━━━\u001b[0m\u001b[37m\u001b[0m \u001b[1m0s\u001b[0m 20ms/step\n",
      "\u001b[1m1/1\u001b[0m \u001b[32m━━━━━━━━━━━━━━━━━━━━\u001b[0m\u001b[37m\u001b[0m \u001b[1m0s\u001b[0m 20ms/step\n",
      "\u001b[1m1/1\u001b[0m \u001b[32m━━━━━━━━━━━━━━━━━━━━\u001b[0m\u001b[37m\u001b[0m \u001b[1m0s\u001b[0m 22ms/step\n",
      "\u001b[1m1/1\u001b[0m \u001b[32m━━━━━━━━━━━━━━━━━━━━\u001b[0m\u001b[37m\u001b[0m \u001b[1m0s\u001b[0m 20ms/step\n",
      "\u001b[1m1/1\u001b[0m \u001b[32m━━━━━━━━━━━━━━━━━━━━\u001b[0m\u001b[37m\u001b[0m \u001b[1m0s\u001b[0m 20ms/step\n",
      "\u001b[1m1/1\u001b[0m \u001b[32m━━━━━━━━━━━━━━━━━━━━\u001b[0m\u001b[37m\u001b[0m \u001b[1m0s\u001b[0m 20ms/step\n",
      "\u001b[1m1/1\u001b[0m \u001b[32m━━━━━━━━━━━━━━━━━━━━\u001b[0m\u001b[37m\u001b[0m \u001b[1m0s\u001b[0m 20ms/step\n",
      "\u001b[1m1/1\u001b[0m \u001b[32m━━━━━━━━━━━━━━━━━━━━\u001b[0m\u001b[37m\u001b[0m \u001b[1m0s\u001b[0m 21ms/step\n",
      "\u001b[1m1/1\u001b[0m \u001b[32m━━━━━━━━━━━━━━━━━━━━\u001b[0m\u001b[37m\u001b[0m \u001b[1m0s\u001b[0m 20ms/step\n",
      "\u001b[1m1/1\u001b[0m \u001b[32m━━━━━━━━━━━━━━━━━━━━\u001b[0m\u001b[37m\u001b[0m \u001b[1m0s\u001b[0m 20ms/step\n",
      "\u001b[1m1/1\u001b[0m \u001b[32m━━━━━━━━━━━━━━━━━━━━\u001b[0m\u001b[37m\u001b[0m \u001b[1m0s\u001b[0m 19ms/step\n",
      "\u001b[1m1/1\u001b[0m \u001b[32m━━━━━━━━━━━━━━━━━━━━\u001b[0m\u001b[37m\u001b[0m \u001b[1m0s\u001b[0m 19ms/step\n",
      "\u001b[1m1/1\u001b[0m \u001b[32m━━━━━━━━━━━━━━━━━━━━\u001b[0m\u001b[37m\u001b[0m \u001b[1m0s\u001b[0m 20ms/step\n",
      "\u001b[1m1/1\u001b[0m \u001b[32m━━━━━━━━━━━━━━━━━━━━\u001b[0m\u001b[37m\u001b[0m \u001b[1m0s\u001b[0m 19ms/step\n",
      "\u001b[1m1/1\u001b[0m \u001b[32m━━━━━━━━━━━━━━━━━━━━\u001b[0m\u001b[37m\u001b[0m \u001b[1m0s\u001b[0m 21ms/step\n",
      "\u001b[1m1/1\u001b[0m \u001b[32m━━━━━━━━━━━━━━━━━━━━\u001b[0m\u001b[37m\u001b[0m \u001b[1m0s\u001b[0m 20ms/step\n"
     ]
    }
   ],
   "source": [
    "SIZE = 200\n",
    "distributions = []\n",
    "\n",
    "for sample_image in comparison_results[\"dish\"]:\n",
    "    img = image.load_img(\n",
    "        f\"dishes/{sample_image}\",\n",
    "        target_size=(SIZE, SIZE, 3),\n",
    "    )\n",
    "\n",
    "    img = image.img_to_array(img)\n",
    "    img = img / 255.0\n",
    "    # plt.imshow(img)\n",
    "    img = np.expand_dims(img, axis=0)\n",
    "    proba = model.predict(img)\n",
    "    distributions.append(proba)"
   ]
  },
  {
   "cell_type": "code",
   "execution_count": 112,
   "metadata": {},
   "outputs": [],
   "source": [
    "comparison_results[\"distribution\"] = distributions"
   ]
  },
  {
   "cell_type": "code",
   "execution_count": 115,
   "metadata": {},
   "outputs": [],
   "source": [
    "comparison_results = comparison_results.merge(test_data, left_on=\"id\", right_on=\"dish\")"
   ]
  },
  {
   "cell_type": "code",
   "execution_count": 116,
   "metadata": {},
   "outputs": [
    {
     "data": {
      "text/html": [
       "<div>\n",
       "<style scoped>\n",
       "    .dataframe tbody tr th:only-of-type {\n",
       "        vertical-align: middle;\n",
       "    }\n",
       "\n",
       "    .dataframe tbody tr th {\n",
       "        vertical-align: top;\n",
       "    }\n",
       "\n",
       "    .dataframe thead th {\n",
       "        text-align: right;\n",
       "    }\n",
       "</style>\n",
       "<table border=\"1\" class=\"dataframe\">\n",
       "  <thead>\n",
       "    <tr style=\"text-align: right;\">\n",
       "      <th></th>\n",
       "      <th>dish_x</th>\n",
       "      <th>id</th>\n",
       "      <th>distribution_x</th>\n",
       "      <th>dish_y</th>\n",
       "      <th>cal</th>\n",
       "      <th>mass</th>\n",
       "      <th>fat_g</th>\n",
       "      <th>carb_g</th>\n",
       "      <th>prot_g</th>\n",
       "      <th>other_g</th>\n",
       "      <th>pct_fat</th>\n",
       "      <th>pct_carb</th>\n",
       "      <th>pct_prot</th>\n",
       "      <th>pct_other</th>\n",
       "      <th>distribution_y</th>\n",
       "    </tr>\n",
       "  </thead>\n",
       "  <tbody>\n",
       "    <tr>\n",
       "      <th>0</th>\n",
       "      <td>dish_1558382263.png</td>\n",
       "      <td>dish_1558382263</td>\n",
       "      <td>[[0.15100457, 0.20095235, 0.10266991, 0.5453732]]</td>\n",
       "      <td>dish_1558382263</td>\n",
       "      <td>356.629974</td>\n",
       "      <td>425</td>\n",
       "      <td>19.562</td>\n",
       "      <td>23.453999</td>\n",
       "      <td>27.487001</td>\n",
       "      <td>354.497</td>\n",
       "      <td>0.046028</td>\n",
       "      <td>0.055186</td>\n",
       "      <td>0.064675</td>\n",
       "      <td>0.834111</td>\n",
       "      <td>[0.046028235, 0.05518588, 0.064675296, 0.83411...</td>\n",
       "    </tr>\n",
       "  </tbody>\n",
       "</table>\n",
       "</div>"
      ],
      "text/plain": [
       "                dish_x               id  \\\n",
       "0  dish_1558382263.png  dish_1558382263   \n",
       "\n",
       "                                      distribution_x           dish_y  \\\n",
       "0  [[0.15100457, 0.20095235, 0.10266991, 0.5453732]]  dish_1558382263   \n",
       "\n",
       "          cal  mass   fat_g     carb_g     prot_g  other_g   pct_fat  \\\n",
       "0  356.629974   425  19.562  23.453999  27.487001  354.497  0.046028   \n",
       "\n",
       "   pct_carb  pct_prot  pct_other  \\\n",
       "0  0.055186  0.064675   0.834111   \n",
       "\n",
       "                                      distribution_y  \n",
       "0  [0.046028235, 0.05518588, 0.064675296, 0.83411...  "
      ]
     },
     "execution_count": 116,
     "metadata": {},
     "output_type": "execute_result"
    }
   ],
   "source": [
    "comparison_results.head(1)"
   ]
  },
  {
   "cell_type": "code",
   "execution_count": 117,
   "metadata": {},
   "outputs": [],
   "source": [
    "comparison_results[\"diff\"] = (\n",
    "    comparison_results[\"distribution_x\"] - comparison_results[\"distribution_y\"]\n",
    ")"
   ]
  },
  {
   "cell_type": "code",
   "execution_count": 134,
   "metadata": {},
   "outputs": [
    {
     "data": {
      "text/plain": [
       "[0.10497633274234772,\n",
       " 0.09798731086882782,\n",
       " 0.06901534684977723,\n",
       " 0.08285072062511445,\n",
       " 0.11097861611843109,\n",
       " 0.09119569659365082,\n",
       " 0.09371330386352539,\n",
       " 0.0853401693620491,\n",
       " -0.3507187169790268,\n",
       " 0.1375062232185974,\n",
       " 0.04208587352183152,\n",
       " 0.13636434483528137,\n",
       " 0.13786773788928985,\n",
       " 0.006555883883190158,\n",
       " 0.07702067841362763,\n",
       " 0.11909399247169494,\n",
       " 0.12402655386924744,\n",
       " 0.022779512554153447,\n",
       " 0.12850076185411072,\n",
       " 0.004226865860198978,\n",
       " 0.07337827260530853,\n",
       " 0.0718708129644394,\n",
       " 0.04794810260031891,\n",
       " 0.08348014353507996,\n",
       " 0.1069393944914322,\n",
       " 0.13056468840608978,\n",
       " 0.05080585987289429,\n",
       " 0.14865124189853668,\n",
       " 0.07938733732700348,\n",
       " 0.12037792867422104,\n",
       " 0.14594238114356994,\n",
       " 0.03408716465482331,\n",
       " -0.004801536301017761,\n",
       " 0.12934455680847168,\n",
       " 0.023841817378997807,\n",
       " 0.07838200804138183,\n",
       " 0.11617376087937165,\n",
       " 0.13265065966939543,\n",
       " 0.1253099969625473,\n",
       " 0.028508327463424687,\n",
       " -0.28445841193199156,\n",
       " 0.1278276074552536,\n",
       " 0.04528663711474609,\n",
       " 0.09100941034346771,\n",
       " 0.11604211838655853,\n",
       " -0.06791205767430114,\n",
       " 0.037787386603633885,\n",
       " 0.13983944261074066,\n",
       " -0.28689886450767516,\n",
       " 0.12606325256822204,\n",
       " -0.00829803203366089,\n",
       " 0.1200226990785141,\n",
       " 0.02947053069977569,\n",
       " 0.12772713381809234,\n",
       " 0.08154574737955475,\n",
       " 0.13323882178945923,\n",
       " 0.13096958879720305,\n",
       " -0.050224717104316724,\n",
       " 0.13608312809467316,\n",
       " 0.10801528902751159,\n",
       " 0.07339285574964904,\n",
       " 0.12808892469429017,\n",
       " 0.09834289374652481,\n",
       " 0.128600587996521,\n",
       " 0.015651956975460055,\n",
       " 0.06103802920677186,\n",
       " 0.10503640944229126,\n",
       " 0.10411126048031616,\n",
       " 0.07084918641662598,\n",
       " 0.13421670591831208,\n",
       " -0.07411981749348451,\n",
       " 0.12335992467403412,\n",
       " 0.062492514054275514,\n",
       " 0.07799960623947144,\n",
       " 0.13227708041301728,\n",
       " 0.157042157886055,\n",
       " 0.07493211272032166,\n",
       " 0.12673211617893218,\n",
       " 0.03470004283023834,\n",
       " 0.14082419486666106,\n",
       " 0.1184811126989975,\n",
       " 0.1399727395772934,\n",
       " 0.11909445023536683,\n",
       " 0.051563270494461064,\n",
       " 0.017893192702140806,\n",
       " 0.0900748934260025,\n",
       " 0.08763553314709473,\n",
       " 0.13307698476314545,\n",
       " 0.09619894568837738,\n",
       " 0.02039898529536438,\n",
       " 0.09352624646915436,\n",
       " 0.07577031645870971,\n",
       " 0.1357298493666153,\n",
       " 0.04495430921266175,\n",
       " -0.021429819829551694,\n",
       " -0.10837812721729279,\n",
       " 0.12078263475121308,\n",
       " 0.07089322729872895,\n",
       " 0.13696329498291016,\n",
       " 0.11518323152320861,\n",
       " -0.28288990080356596,\n",
       " 0.05056419741577911,\n",
       " 0.04547182344464874,\n",
       " 0.009323788883827205,\n",
       " 0.08034862532154846,\n",
       " 0.14129764246940613,\n",
       " 0.08227282263917542,\n",
       " 0.06647988008920289,\n",
       " 0.06673732502866364,\n",
       " 0.028230347487129215,\n",
       " 0.08404689872523499,\n",
       " 0.10305559134418488,\n",
       " 0.10983092624487305,\n",
       " 0.04220895826816559,\n",
       " 0.11425341399539185,\n",
       " 0.14198826658725738,\n",
       " 0.13836509597301483,\n",
       " 0.1328687688112259,\n",
       " -0.35411818158566283,\n",
       " 0.14686906743049621,\n",
       " 0.12867294657230377,\n",
       " 0.12941470940113067,\n",
       " 0.13402066040039062,\n",
       " 0.08068011609967041,\n",
       " 0.07378949047264861,\n",
       " 0.13158697295188904,\n",
       " 0.11726207623934937,\n",
       " 0.10456154428372955,\n",
       " 0.13931177759170532,\n",
       " -0.2909103763103485,\n",
       " 0.0976720554184494,\n",
       " 0.09959287430162811]"
      ]
     },
     "execution_count": 134,
     "metadata": {},
     "output_type": "execute_result"
    }
   ],
   "source": [
    "[j[0][i] for j in comparison_results[\"diff\"]]"
   ]
  },
  {
   "cell_type": "code",
   "execution_count": 148,
   "metadata": {},
   "outputs": [
    {
     "data": {
      "image/png": "[encoded data removed]",
      "text/plain": [
       "<Figure size 500x1000 with 4 Axes>"
      ]
     },
     "metadata": {},
     "output_type": "display_data"
    }
   ],
   "source": [
    "fig, ax = plt.subplots(4, 1, figsize=(5, 10))\n",
    "names = [\"fat\", \"carbs\", \"prot\", \"other\"]\n",
    "MAEs = []\n",
    "avgs = []\n",
    "sds = []\n",
    "for i in range(4):\n",
    "    temp_data = [100 * j[0][i] for j in comparison_results[\"diff\"]]\n",
    "\n",
    "    MAE = np.sum([abs(j) for j in temp_data]) / len(temp_data)\n",
    "\n",
    "    MAEs.append(MAE)\n",
    "\n",
    "    ax[i].hist(temp_data, bins=20)\n",
    "    avg = np.mean(temp_data)\n",
    "    avgs.append(avg)\n",
    "\n",
    "    sd = np.std(temp_data)\n",
    "    sds.append(sd)\n",
    "\n",
    "    ax[i].axvline(avg, color=\"r\", linestyle=\"dotted\")\n",
    "    ax[i].text(avg, ax[i].get_ylim()[1] * 0.9, f\"Avg: {avg:.2f}\", color=\"r\")\n",
    "    ax[i].set_title(f\"Percentual points difference of {names[i]}\")\n",
    "plt.tight_layout()"
   ]
  },
  {
   "cell_type": "code",
   "execution_count": 152,
   "metadata": {},
   "outputs": [
    {
     "data": {
      "image/png": "[encoded data removed]",
      "text/plain": [
       "<Figure size 700x700 with 4 Axes>"
      ]
     },
     "metadata": {},
     "output_type": "display_data"
    }
   ],
   "source": [
    "fig, ax = plt.subplots(2, 2, figsize=(7, 7))\n",
    "names = [\"fat\", \"carbs\", \"prot\", \"other\"]\n",
    "MAEs = []\n",
    "avgs = []\n",
    "sds = []\n",
    "for i in range(4):\n",
    "    temp_data = [100 * j[0][i] for j in comparison_results[\"diff\"]]\n",
    "\n",
    "    MAE = np.sum([abs(j) for j in temp_data]) / len(temp_data)\n",
    "\n",
    "    MAEs.append(MAE)\n",
    "\n",
    "    ax[i // 2, i % 2].hist(temp_data, bins=20)\n",
    "    avg = np.mean(temp_data)\n",
    "    avgs.append(avg)\n",
    "\n",
    "    sd = np.std(temp_data)\n",
    "    sds.append(sd)\n",
    "\n",
    "    ax[i // 2, i % 2].axvline(avg, color=\"r\", linestyle=\"dotted\")\n",
    "    ax[i // 2, i % 2].text(\n",
    "        avg, ax[i // 2, i % 2].get_ylim()[1] * 0.9, f\"Avg: {avg:.2f}\", color=\"r\"\n",
    "    )\n",
    "    ax[i // 2, i % 2].set_title(f\"Percentual points difference of {names[i]}\")\n",
    "plt.tight_layout()"
   ]
  },
  {
   "cell_type": "code",
   "execution_count": 154,
   "metadata": {},
   "outputs": [
    {
     "data": {
      "text/html": [
       "<div>\n",
       "<style scoped>\n",
       "    .dataframe tbody tr th:only-of-type {\n",
       "        vertical-align: middle;\n",
       "    }\n",
       "\n",
       "    .dataframe tbody tr th {\n",
       "        vertical-align: top;\n",
       "    }\n",
       "\n",
       "    .dataframe thead th {\n",
       "        text-align: right;\n",
       "    }\n",
       "</style>\n",
       "<table border=\"1\" class=\"dataframe\">\n",
       "  <thead>\n",
       "    <tr style=\"text-align: right;\">\n",
       "      <th></th>\n",
       "      <th>id_image</th>\n",
       "      <th>label</th>\n",
       "      <th>image_name</th>\n",
       "      <th>key_value</th>\n",
       "      <th>ingredients</th>\n",
       "      <th>json_format</th>\n",
       "      <th>json_format_clean</th>\n",
       "      <th>total_g</th>\n",
       "      <th>target</th>\n",
       "      <th>json_nutrition</th>\n",
       "      <th>ing_not_found</th>\n",
       "    </tr>\n",
       "  </thead>\n",
       "  <tbody>\n",
       "    <tr>\n",
       "      <th>0</th>\n",
       "      <td>apple_pie/20_homemade_apple_pie_hostedLargeUrl...</td>\n",
       "      <td>69</td>\n",
       "      <td>20_homemade_apple_pie_hostedLargeUrl.jpg</td>\n",
       "      <td>apple_pie</td>\n",
       "      <td>flour,salt,oil,cold water,apple,sugar,cinnamon...</td>\n",
       "      <td>{\"apple_pie\": {\"flour\": 180, \"salt\": 1, \"oil\":...</td>\n",
       "      <td>{'apple_pie': {'flour': 180, 'salt': 1, 'oil':...</td>\n",
       "      <td>1486.6</td>\n",
       "      <td>[0.14441678999058255, 0.25703820799138977, 0.0...</td>\n",
       "      <td>{'apple_pie': {'cal': 3464.87, 'fat': 0.144416...</td>\n",
       "      <td>['cold water', 'cinnamon']</td>\n",
       "    </tr>\n",
       "    <tr>\n",
       "      <th>1</th>\n",
       "      <td>apple_pie/43_homestyle_apple_pie_hostedLargeUr...</td>\n",
       "      <td>91</td>\n",
       "      <td>43_homestyle_apple_pie_hostedLargeUrl.jpg</td>\n",
       "      <td>apple_pie</td>\n",
       "      <td>shell,pie,sugar,flour,cinnamon,apple,lemon,but...</td>\n",
       "      <td>{\"apple_pie\": {\"shell\": 1, \"pie\": 1, \"sugar\": ...</td>\n",
       "      <td>{'apple_pie': {'shell': 1, 'pie': 1, 'sugar': ...</td>\n",
       "      <td>1382.6</td>\n",
       "      <td>[0.07181759004773615, 0.28602849703457256, 0.0...</td>\n",
       "      <td>{'apple_pie': {'cal': 2527.94, 'fat': 0.071817...</td>\n",
       "      <td>['shell', 'pie', 'cinnamon']</td>\n",
       "    </tr>\n",
       "    <tr>\n",
       "      <th>2</th>\n",
       "      <td>apple_pie/28_apple_pie_hostedLargeUrl.jpg</td>\n",
       "      <td>77</td>\n",
       "      <td>28_apple_pie_hostedLargeUrl.jpg</td>\n",
       "      <td>apple_pie</td>\n",
       "      <td>apple,lemon,sugar,flour,cinnamon,nut,butter,sa...</td>\n",
       "      <td>{\"apple_pie\": {\"apple\": 680,\"lemon\": 15,\"sugar...</td>\n",
       "      <td>{'apple_pie': {'apple': 680, 'lemon': 15, 'sug...</td>\n",
       "      <td>1376.5</td>\n",
       "      <td>[0.13531783508899384, 0.2786603705049038, 0.01...</td>\n",
       "      <td>{'apple_pie': {'cal': 3215.75, 'fat': 0.135317...</td>\n",
       "      <td>['cinnamon', 'nut', 'ice water']</td>\n",
       "    </tr>\n",
       "    <tr>\n",
       "      <th>3</th>\n",
       "      <td>apple_pie/39_classic_apple_pie_hostedLargeUrl.jpg</td>\n",
       "      <td>88</td>\n",
       "      <td>39_classic_apple_pie_hostedLargeUrl.jpg</td>\n",
       "      <td>apple_pie</td>\n",
       "      <td>pie,apple,sugar,corn starch,cinnamon,lemon,but...</td>\n",
       "      <td>{\"apple_pie\": {\"pie\": 1, \"apple\": 680, \"sugar\"...</td>\n",
       "      <td>{'apple_pie': {'pie': 1, 'apple': 680, 'sugar'...</td>\n",
       "      <td>1097.6</td>\n",
       "      <td>[0.08467793367346939, 0.23722029883381926, 0.0...</td>\n",
       "      <td>{'apple_pie': {'cal': 1807.16, 'fat': 0.084677...</td>\n",
       "      <td>['pie', 'cinnamon', 'egg', 'cold water']</td>\n",
       "    </tr>\n",
       "    <tr>\n",
       "      <th>4</th>\n",
       "      <td>apple_pie/13_mug_apple_pie_hostedLargeUrl.jpg</td>\n",
       "      <td>62</td>\n",
       "      <td>13_mug_apple_pie_hostedLargeUrl.jpg</td>\n",
       "      <td>apple_pie</td>\n",
       "      <td>apple,brown sugar,butter,cinnamon,allspice,nut...</td>\n",
       "      <td>{\"apple_pie\": {\"apple\": 680, \"brown sugar\": 15...</td>\n",
       "      <td>{'apple_pie': {'apple': 680, 'brown sugar': 15...</td>\n",
       "      <td>947.4</td>\n",
       "      <td>[0.09804728731264514, 0.25576630778974035, 0.0...</td>\n",
       "      <td>{'apple_pie': {'cal': 1733.81, 'fat': 0.098047...</td>\n",
       "      <td>['cinnamon', 'allspice', 'nut', 'pie']</td>\n",
       "    </tr>\n",
       "  </tbody>\n",
       "</table>\n",
       "</div>"
      ],
      "text/plain": [
       "                                            id_image  label  \\\n",
       "0  apple_pie/20_homemade_apple_pie_hostedLargeUrl...     69   \n",
       "1  apple_pie/43_homestyle_apple_pie_hostedLargeUr...     91   \n",
       "2          apple_pie/28_apple_pie_hostedLargeUrl.jpg     77   \n",
       "3  apple_pie/39_classic_apple_pie_hostedLargeUrl.jpg     88   \n",
       "4      apple_pie/13_mug_apple_pie_hostedLargeUrl.jpg     62   \n",
       "\n",
       "                                  image_name  key_value  \\\n",
       "0   20_homemade_apple_pie_hostedLargeUrl.jpg  apple_pie   \n",
       "1  43_homestyle_apple_pie_hostedLargeUrl.jpg  apple_pie   \n",
       "2            28_apple_pie_hostedLargeUrl.jpg  apple_pie   \n",
       "3    39_classic_apple_pie_hostedLargeUrl.jpg  apple_pie   \n",
       "4        13_mug_apple_pie_hostedLargeUrl.jpg  apple_pie   \n",
       "\n",
       "                                         ingredients  \\\n",
       "0  flour,salt,oil,cold water,apple,sugar,cinnamon...   \n",
       "1  shell,pie,sugar,flour,cinnamon,apple,lemon,but...   \n",
       "2  apple,lemon,sugar,flour,cinnamon,nut,butter,sa...   \n",
       "3  pie,apple,sugar,corn starch,cinnamon,lemon,but...   \n",
       "4  apple,brown sugar,butter,cinnamon,allspice,nut...   \n",
       "\n",
       "                                         json_format  \\\n",
       "0  {\"apple_pie\": {\"flour\": 180, \"salt\": 1, \"oil\":...   \n",
       "1  {\"apple_pie\": {\"shell\": 1, \"pie\": 1, \"sugar\": ...   \n",
       "2  {\"apple_pie\": {\"apple\": 680,\"lemon\": 15,\"sugar...   \n",
       "3  {\"apple_pie\": {\"pie\": 1, \"apple\": 680, \"sugar\"...   \n",
       "4  {\"apple_pie\": {\"apple\": 680, \"brown sugar\": 15...   \n",
       "\n",
       "                                   json_format_clean  total_g  \\\n",
       "0  {'apple_pie': {'flour': 180, 'salt': 1, 'oil':...   1486.6   \n",
       "1  {'apple_pie': {'shell': 1, 'pie': 1, 'sugar': ...   1382.6   \n",
       "2  {'apple_pie': {'apple': 680, 'lemon': 15, 'sug...   1376.5   \n",
       "3  {'apple_pie': {'pie': 1, 'apple': 680, 'sugar'...   1097.6   \n",
       "4  {'apple_pie': {'apple': 680, 'brown sugar': 15...    947.4   \n",
       "\n",
       "                                              target  \\\n",
       "0  [0.14441678999058255, 0.25703820799138977, 0.0...   \n",
       "1  [0.07181759004773615, 0.28602849703457256, 0.0...   \n",
       "2  [0.13531783508899384, 0.2786603705049038, 0.01...   \n",
       "3  [0.08467793367346939, 0.23722029883381926, 0.0...   \n",
       "4  [0.09804728731264514, 0.25576630778974035, 0.0...   \n",
       "\n",
       "                                      json_nutrition  \\\n",
       "0  {'apple_pie': {'cal': 3464.87, 'fat': 0.144416...   \n",
       "1  {'apple_pie': {'cal': 2527.94, 'fat': 0.071817...   \n",
       "2  {'apple_pie': {'cal': 3215.75, 'fat': 0.135317...   \n",
       "3  {'apple_pie': {'cal': 1807.16, 'fat': 0.084677...   \n",
       "4  {'apple_pie': {'cal': 1733.81, 'fat': 0.098047...   \n",
       "\n",
       "                              ing_not_found  \n",
       "0                ['cold water', 'cinnamon']  \n",
       "1              ['shell', 'pie', 'cinnamon']  \n",
       "2          ['cinnamon', 'nut', 'ice water']  \n",
       "3  ['pie', 'cinnamon', 'egg', 'cold water']  \n",
       "4    ['cinnamon', 'allspice', 'nut', 'pie']  "
      ]
     },
     "execution_count": 154,
     "metadata": {},
     "output_type": "execute_result"
    }
   ],
   "source": [
    "data.head()"
   ]
  },
  {
   "cell_type": "code",
   "execution_count": 161,
   "metadata": {},
   "outputs": [
    {
     "data": {
      "text/plain": [
       "1781    egg,egg,mascarpone,liqueur,sugar,espresso,lady...\n",
       "1782    brewed espresso,coffee,mascarpone,sugar,ladyfi...\n",
       "1783    sugar,water,espresso,amaretto,hazelnut,mascarp...\n",
       "1784    egg,sugar,mascarpone,vanilla,coffee,espresso,s...\n",
       "1785    lady fingers,espresso,mascarpone,egg,sugar,coc...\n",
       "1786    caster sugar,sugar,egg,mascarpone,coffee,espre...\n",
       "1787    egg,sugar,vanilla,mascarpone,lady fingers,kahl...\n",
       "1788    lady fingers,liqueur,espresso,marsala wine,sug...\n",
       "1789    egg,sugar,vanilla,marsala wine,egg,tartar,masc...\n",
       "1790    egg,sugar,port,espresso,chocolate,mascarpone,l...\n",
       "1791    water,sugar,espresso,whipping,vanilla,mascarpo...\n",
       "1792          espresso,cookies,egg,sugar,mascarpone,cocoa\n",
       "1793    egg,salt,sugar,mascarpone,ladyfingers,coffee,c...\n",
       "1794    egg,sugar,mascarpone,egg,kirsch,coffee,ladyfin...\n",
       "1795        egg,sugar,mascarpone,ladyfingers,coffee,cocoa\n",
       "1796    egg,sugar,cheese,espresso,vermouth,savoiardi,c...\n",
       "1797    egg,sugar,milk,vanilla,mascarpone,coffee,rum,c...\n",
       "1798    egg,sugar,vanilla,mascarpone,ladyfingers,coffe...\n",
       "1799    coconut,tapioca,baking,salt,coconut,maple syru...\n",
       "1800    brewed espresso,kahlua,sugar,egg,mascarpone,ma...\n",
       "1801         mascarpone,sugar,biscuits,espresso,chocolate\n",
       "1802    egg,sugar,vanilla,mascarpone,salt,espresso,liq...\n",
       "1803    water,espresso,sugar,coffee,egg,marsala wine,m...\n",
       "1804    espresso,liqueur,mascarpone,vanilla,sugar,savo...\n",
       "1805    brewed espresso,bran,brown sugar,egg,sugar,mas...\n",
       "1806    sugar,egg,mascarpone,water,espresso,whipping,r...\n",
       "1807    egg,sugar,milk,mascarpone,lady fingers,coffee,...\n",
       "1808    coffee,espresso,lady fingers,mascarpone,sugar,...\n",
       "1809    coffee,espresso,rum,vanilla,egg,sugar,salt,mas...\n",
       "1810    egg,sugar,mascarpone,coffee,coffee,ladyfingers...\n",
       "1811    ladyfingers,espresso,chocolate,egg,sugar,masca...\n",
       "1812    mascarpone,sponge,egg,caster sugar,espresso,br...\n",
       "1813    coffee,espresso,bran,egg,sugar,mascarpone,whip...\n",
       "1814    egg,sugar,marsala wine,mascarpone,brewed espre...\n",
       "1815    egg,sugar,mascarpone,rum,vanilla,brewed espres...\n",
       "Name: ingredients, dtype: object"
      ]
     },
     "execution_count": 161,
     "metadata": {},
     "output_type": "execute_result"
    }
   ],
   "source": [
    "data[data[\"key_value\"] == \"tiramisu\"][\"ingredients\"]"
   ]
  }
 ],
 "metadata": {
  "kernelspec": {
   "display_name": ".venv",
   "language": "python",
   "name": "python3"
  },
  "language_info": {
   "codemirror_mode": {
    "name": "ipython",
    "version": 3
   },
   "file_extension": ".py",
   "mimetype": "text/x-python",
   "name": "python",
   "nbconvert_exporter": "python",
   "pygments_lexer": "ipython3",
   "version": "3.11.7"
  }
 },
 "nbformat": 4,
 "nbformat_minor": 2
}
