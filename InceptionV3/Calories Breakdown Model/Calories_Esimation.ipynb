{
 "cells": [
  {
   "cell_type": "code",
   "execution_count": 1,
   "metadata": {},
   "outputs": [
    {
     "name": "stderr",
     "output_type": "stream",
     "text": [
      "Python(77915) MallocStackLogging: can't turn off malloc stack logging because it was not enabled.\n"
     ]
    }
   ],
   "source": [
    "import pandas as pd\n",
    "import keras\n",
    "from keras.models import Sequential\n",
    "from keras.layers import Dense, Dropout, Flatten\n",
    "from keras.layers import Conv2D, MaxPooling2D\n",
    "from keras.utils import to_categorical\n",
    "from keras.preprocessing import image\n",
    "import numpy as np\n",
    "import pandas as pd\n",
    "import matplotlib.pyplot as plt\n",
    "from sklearn.model_selection import train_test_split\n",
    "from tqdm import tqdm\n",
    "import tensorflow as tf\n",
    "import tensorflow.keras.backend as K\n",
    "from tensorflow.keras.models import load_model, Model\n",
    "from tensorflow.keras.layers import Dense, Dropout, GlobalAveragePooling2D\n",
    "from tensorflow.keras.preprocessing.image import ImageDataGenerator\n",
    "from tensorflow.keras.callbacks import ModelCheckpoint, CSVLogger\n",
    "from tensorflow.keras.optimizers import SGD\n",
    "from tensorflow.keras.applications.inception_v3 import InceptionV3, preprocess_input\n",
    "from tensorflow.keras import regularizers\n",
    "from tensorflow.keras.preprocessing import image\n",
    "from tensorflow.keras.applications.efficientnet_v2 import EfficientNetV2L"
   ]
  },
  {
   "cell_type": "code",
   "execution_count": 2,
   "metadata": {},
   "outputs": [],
   "source": [
    "data = pd.read_csv(\"FINAL_DATA_COMPLETE.csv\")"
   ]
  },
  {
   "cell_type": "code",
   "execution_count": 3,
   "metadata": {},
   "outputs": [
    {
     "data": {
      "text/html": [
       "<div>\n",
       "<style scoped>\n",
       "    .dataframe tbody tr th:only-of-type {\n",
       "        vertical-align: middle;\n",
       "    }\n",
       "\n",
       "    .dataframe tbody tr th {\n",
       "        vertical-align: top;\n",
       "    }\n",
       "\n",
       "    .dataframe thead th {\n",
       "        text-align: right;\n",
       "    }\n",
       "</style>\n",
       "<table border=\"1\" class=\"dataframe\">\n",
       "  <thead>\n",
       "    <tr style=\"text-align: right;\">\n",
       "      <th></th>\n",
       "      <th>id_image</th>\n",
       "      <th>label</th>\n",
       "      <th>image_name</th>\n",
       "      <th>key_value</th>\n",
       "      <th>ingredients</th>\n",
       "      <th>json_format</th>\n",
       "      <th>json_format_clean</th>\n",
       "      <th>total_g</th>\n",
       "      <th>target</th>\n",
       "      <th>json_nutrition</th>\n",
       "      <th>ing_not_found</th>\n",
       "    </tr>\n",
       "  </thead>\n",
       "  <tbody>\n",
       "    <tr>\n",
       "      <th>0</th>\n",
       "      <td>apple_pie/20_homemade_apple_pie_hostedLargeUrl...</td>\n",
       "      <td>69</td>\n",
       "      <td>20_homemade_apple_pie_hostedLargeUrl.jpg</td>\n",
       "      <td>apple_pie</td>\n",
       "      <td>flour,salt,oil,cold water,apple,sugar,cinnamon...</td>\n",
       "      <td>{\"apple_pie\": {\"flour\": 180, \"salt\": 1, \"oil\":...</td>\n",
       "      <td>{'apple_pie': {'flour': 180, 'salt': 1, 'oil':...</td>\n",
       "      <td>1486.6</td>\n",
       "      <td>[0.14441678999058255, 0.25703820799138977, 0.0...</td>\n",
       "      <td>{'apple_pie': {'cal': 3464.87, 'fat': 0.144416...</td>\n",
       "      <td>['cold water', 'cinnamon']</td>\n",
       "    </tr>\n",
       "    <tr>\n",
       "      <th>1</th>\n",
       "      <td>apple_pie/43_homestyle_apple_pie_hostedLargeUr...</td>\n",
       "      <td>91</td>\n",
       "      <td>43_homestyle_apple_pie_hostedLargeUrl.jpg</td>\n",
       "      <td>apple_pie</td>\n",
       "      <td>shell,pie,sugar,flour,cinnamon,apple,lemon,but...</td>\n",
       "      <td>{\"apple_pie\": {\"shell\": 1, \"pie\": 1, \"sugar\": ...</td>\n",
       "      <td>{'apple_pie': {'shell': 1, 'pie': 1, 'sugar': ...</td>\n",
       "      <td>1382.6</td>\n",
       "      <td>[0.07181759004773615, 0.28602849703457256, 0.0...</td>\n",
       "      <td>{'apple_pie': {'cal': 2527.94, 'fat': 0.071817...</td>\n",
       "      <td>['shell', 'pie', 'cinnamon']</td>\n",
       "    </tr>\n",
       "    <tr>\n",
       "      <th>2</th>\n",
       "      <td>apple_pie/28_apple_pie_hostedLargeUrl.jpg</td>\n",
       "      <td>77</td>\n",
       "      <td>28_apple_pie_hostedLargeUrl.jpg</td>\n",
       "      <td>apple_pie</td>\n",
       "      <td>apple,lemon,sugar,flour,cinnamon,nut,butter,sa...</td>\n",
       "      <td>{\"apple_pie\": {\"apple\": 680,\"lemon\": 15,\"sugar...</td>\n",
       "      <td>{'apple_pie': {'apple': 680, 'lemon': 15, 'sug...</td>\n",
       "      <td>1376.5</td>\n",
       "      <td>[0.13531783508899384, 0.2786603705049038, 0.01...</td>\n",
       "      <td>{'apple_pie': {'cal': 3215.75, 'fat': 0.135317...</td>\n",
       "      <td>['cinnamon', 'nut', 'ice water']</td>\n",
       "    </tr>\n",
       "    <tr>\n",
       "      <th>3</th>\n",
       "      <td>apple_pie/39_classic_apple_pie_hostedLargeUrl.jpg</td>\n",
       "      <td>88</td>\n",
       "      <td>39_classic_apple_pie_hostedLargeUrl.jpg</td>\n",
       "      <td>apple_pie</td>\n",
       "      <td>pie,apple,sugar,corn starch,cinnamon,lemon,but...</td>\n",
       "      <td>{\"apple_pie\": {\"pie\": 1, \"apple\": 680, \"sugar\"...</td>\n",
       "      <td>{'apple_pie': {'pie': 1, 'apple': 680, 'sugar'...</td>\n",
       "      <td>1097.6</td>\n",
       "      <td>[0.08467793367346939, 0.23722029883381926, 0.0...</td>\n",
       "      <td>{'apple_pie': {'cal': 1807.16, 'fat': 0.084677...</td>\n",
       "      <td>['pie', 'cinnamon', 'egg', 'cold water']</td>\n",
       "    </tr>\n",
       "    <tr>\n",
       "      <th>4</th>\n",
       "      <td>apple_pie/13_mug_apple_pie_hostedLargeUrl.jpg</td>\n",
       "      <td>62</td>\n",
       "      <td>13_mug_apple_pie_hostedLargeUrl.jpg</td>\n",
       "      <td>apple_pie</td>\n",
       "      <td>apple,brown sugar,butter,cinnamon,allspice,nut...</td>\n",
       "      <td>{\"apple_pie\": {\"apple\": 680, \"brown sugar\": 15...</td>\n",
       "      <td>{'apple_pie': {'apple': 680, 'brown sugar': 15...</td>\n",
       "      <td>947.4</td>\n",
       "      <td>[0.09804728731264514, 0.25576630778974035, 0.0...</td>\n",
       "      <td>{'apple_pie': {'cal': 1733.81, 'fat': 0.098047...</td>\n",
       "      <td>['cinnamon', 'allspice', 'nut', 'pie']</td>\n",
       "    </tr>\n",
       "    <tr>\n",
       "      <th>...</th>\n",
       "      <td>...</td>\n",
       "      <td>...</td>\n",
       "      <td>...</td>\n",
       "      <td>...</td>\n",
       "      <td>...</td>\n",
       "      <td>...</td>\n",
       "      <td>...</td>\n",
       "      <td>...</td>\n",
       "      <td>...</td>\n",
       "      <td>...</td>\n",
       "      <td>...</td>\n",
       "    </tr>\n",
       "    <tr>\n",
       "      <th>3208</th>\n",
       "      <td>chocolate_ice_cream/12_caramelized_white_choco...</td>\n",
       "      <td>4788</td>\n",
       "      <td>12_caramelized_white_chocolate_ice_cream_hoste...</td>\n",
       "      <td>chocolate_ice_cream</td>\n",
       "      <td>chocolate,milk,sugar,salt,egg</td>\n",
       "      <td>{\"chocolate_ice_cream\": {\"chocolate\": 100, \"mi...</td>\n",
       "      <td>{'chocolate_ice_cream': {'chocolate': 100, 'mi...</td>\n",
       "      <td>497.0</td>\n",
       "      <td>[0.07235412474849094, 0.4480885311871227, 0.02...</td>\n",
       "      <td>{'chocolate_ice_cream': {'cal': 1250.5, 'fat':...</td>\n",
       "      <td>['egg']</td>\n",
       "    </tr>\n",
       "    <tr>\n",
       "      <th>3209</th>\n",
       "      <td>chocolate_ice_cream/32_chocolate_ice_cream_hos...</td>\n",
       "      <td>4808</td>\n",
       "      <td>32_chocolate_ice_cream_hostedLargeUrl.jpg</td>\n",
       "      <td>chocolate_ice_cream</td>\n",
       "      <td>chocolate,chocolate,whipping,milk,cheese,sugar...</td>\n",
       "      <td>{\"chocolate_ice_cream\": {\"chocolate\": 200, \"wh...</td>\n",
       "      <td>{'chocolate_ice_cream': {'chocolate': 200, 'wh...</td>\n",
       "      <td>865.0</td>\n",
       "      <td>[0.12382658959537572, 0.3622543352601156, 0.06...</td>\n",
       "      <td>{'chocolate_ice_cream': {'cal': 2310.450000000...</td>\n",
       "      <td>['whipping', 'vanilla']</td>\n",
       "    </tr>\n",
       "    <tr>\n",
       "      <th>3210</th>\n",
       "      <td>chocolate_ice_cream/8_milkiest_chocolate_ice_c...</td>\n",
       "      <td>4784</td>\n",
       "      <td>8_milkiest_chocolate_ice_cream_hostedLargeUrl.jpg</td>\n",
       "      <td>chocolate_ice_cream</td>\n",
       "      <td>milk,corn starch,chocolate,milk,sugar,corn syr...</td>\n",
       "      <td>{\"chocolate_ice_cream\": {\"milk\": 480, \"corn st...</td>\n",
       "      <td>{'chocolate_ice_cream': {'milk': 480, 'corn st...</td>\n",
       "      <td>845.0</td>\n",
       "      <td>[0.054360946745562126, 0.3136568047337278, 0.0...</td>\n",
       "      <td>{'chocolate_ice_cream': {'cal': 1498.780000000...</td>\n",
       "      <td>['corn syrup']</td>\n",
       "    </tr>\n",
       "    <tr>\n",
       "      <th>3211</th>\n",
       "      <td>chocolate_ice_cream/7_chocolate_ice_cream_host...</td>\n",
       "      <td>4783</td>\n",
       "      <td>7_chocolate_ice_cream_hostedLargeUrl.jpg</td>\n",
       "      <td>chocolate_ice_cream</td>\n",
       "      <td>whipping,milk,egg,sugar,cocoa,vanilla,chocolat...</td>\n",
       "      <td>{\"chocolate_ice_cream\": {\"whipping\": 240,\"milk...</td>\n",
       "      <td>{'chocolate_ice_cream': {'whipping': 240, 'mil...</td>\n",
       "      <td>1296.0</td>\n",
       "      <td>[0.036104938271604936, 0.20003163580246913, 0....</td>\n",
       "      <td>{'chocolate_ice_cream': {'cal': 1433.343, 'fat...</td>\n",
       "      <td>['whipping', 'egg', 'vanilla', 'ice']</td>\n",
       "    </tr>\n",
       "    <tr>\n",
       "      <th>3212</th>\n",
       "      <td>chocolate_ice_cream/19_chocolate_ice_cream_hos...</td>\n",
       "      <td>4795</td>\n",
       "      <td>19_chocolate_ice_cream_hostedLargeUrl.jpg</td>\n",
       "      <td>chocolate_ice_cream</td>\n",
       "      <td>condensed milk,chocolate,whipping,cocoa,vanilla</td>\n",
       "      <td>{\"chocolate_ice_cream\": {\"condensed milk\": 395...</td>\n",
       "      <td>{'chocolate_ice_cream': {'condensed milk': 395...</td>\n",
       "      <td>763.5</td>\n",
       "      <td>[0.09020956123117223, 0.1927766863130321, 0.02...</td>\n",
       "      <td>{'chocolate_ice_cream': {'cal': 1192.865, 'fat...</td>\n",
       "      <td>['condensed milk', 'whipping', 'vanilla']</td>\n",
       "    </tr>\n",
       "  </tbody>\n",
       "</table>\n",
       "<p>3213 rows × 11 columns</p>\n",
       "</div>"
      ],
      "text/plain": [
       "                                               id_image  label  \\\n",
       "0     apple_pie/20_homemade_apple_pie_hostedLargeUrl...     69   \n",
       "1     apple_pie/43_homestyle_apple_pie_hostedLargeUr...     91   \n",
       "2             apple_pie/28_apple_pie_hostedLargeUrl.jpg     77   \n",
       "3     apple_pie/39_classic_apple_pie_hostedLargeUrl.jpg     88   \n",
       "4         apple_pie/13_mug_apple_pie_hostedLargeUrl.jpg     62   \n",
       "...                                                 ...    ...   \n",
       "3208  chocolate_ice_cream/12_caramelized_white_choco...   4788   \n",
       "3209  chocolate_ice_cream/32_chocolate_ice_cream_hos...   4808   \n",
       "3210  chocolate_ice_cream/8_milkiest_chocolate_ice_c...   4784   \n",
       "3211  chocolate_ice_cream/7_chocolate_ice_cream_host...   4783   \n",
       "3212  chocolate_ice_cream/19_chocolate_ice_cream_hos...   4795   \n",
       "\n",
       "                                             image_name            key_value  \\\n",
       "0              20_homemade_apple_pie_hostedLargeUrl.jpg            apple_pie   \n",
       "1             43_homestyle_apple_pie_hostedLargeUrl.jpg            apple_pie   \n",
       "2                       28_apple_pie_hostedLargeUrl.jpg            apple_pie   \n",
       "3               39_classic_apple_pie_hostedLargeUrl.jpg            apple_pie   \n",
       "4                   13_mug_apple_pie_hostedLargeUrl.jpg            apple_pie   \n",
       "...                                                 ...                  ...   \n",
       "3208  12_caramelized_white_chocolate_ice_cream_hoste...  chocolate_ice_cream   \n",
       "3209          32_chocolate_ice_cream_hostedLargeUrl.jpg  chocolate_ice_cream   \n",
       "3210  8_milkiest_chocolate_ice_cream_hostedLargeUrl.jpg  chocolate_ice_cream   \n",
       "3211           7_chocolate_ice_cream_hostedLargeUrl.jpg  chocolate_ice_cream   \n",
       "3212          19_chocolate_ice_cream_hostedLargeUrl.jpg  chocolate_ice_cream   \n",
       "\n",
       "                                            ingredients  \\\n",
       "0     flour,salt,oil,cold water,apple,sugar,cinnamon...   \n",
       "1     shell,pie,sugar,flour,cinnamon,apple,lemon,but...   \n",
       "2     apple,lemon,sugar,flour,cinnamon,nut,butter,sa...   \n",
       "3     pie,apple,sugar,corn starch,cinnamon,lemon,but...   \n",
       "4     apple,brown sugar,butter,cinnamon,allspice,nut...   \n",
       "...                                                 ...   \n",
       "3208                      chocolate,milk,sugar,salt,egg   \n",
       "3209  chocolate,chocolate,whipping,milk,cheese,sugar...   \n",
       "3210  milk,corn starch,chocolate,milk,sugar,corn syr...   \n",
       "3211  whipping,milk,egg,sugar,cocoa,vanilla,chocolat...   \n",
       "3212    condensed milk,chocolate,whipping,cocoa,vanilla   \n",
       "\n",
       "                                            json_format  \\\n",
       "0     {\"apple_pie\": {\"flour\": 180, \"salt\": 1, \"oil\":...   \n",
       "1     {\"apple_pie\": {\"shell\": 1, \"pie\": 1, \"sugar\": ...   \n",
       "2     {\"apple_pie\": {\"apple\": 680,\"lemon\": 15,\"sugar...   \n",
       "3     {\"apple_pie\": {\"pie\": 1, \"apple\": 680, \"sugar\"...   \n",
       "4     {\"apple_pie\": {\"apple\": 680, \"brown sugar\": 15...   \n",
       "...                                                 ...   \n",
       "3208  {\"chocolate_ice_cream\": {\"chocolate\": 100, \"mi...   \n",
       "3209  {\"chocolate_ice_cream\": {\"chocolate\": 200, \"wh...   \n",
       "3210  {\"chocolate_ice_cream\": {\"milk\": 480, \"corn st...   \n",
       "3211  {\"chocolate_ice_cream\": {\"whipping\": 240,\"milk...   \n",
       "3212  {\"chocolate_ice_cream\": {\"condensed milk\": 395...   \n",
       "\n",
       "                                      json_format_clean  total_g  \\\n",
       "0     {'apple_pie': {'flour': 180, 'salt': 1, 'oil':...   1486.6   \n",
       "1     {'apple_pie': {'shell': 1, 'pie': 1, 'sugar': ...   1382.6   \n",
       "2     {'apple_pie': {'apple': 680, 'lemon': 15, 'sug...   1376.5   \n",
       "3     {'apple_pie': {'pie': 1, 'apple': 680, 'sugar'...   1097.6   \n",
       "4     {'apple_pie': {'apple': 680, 'brown sugar': 15...    947.4   \n",
       "...                                                 ...      ...   \n",
       "3208  {'chocolate_ice_cream': {'chocolate': 100, 'mi...    497.0   \n",
       "3209  {'chocolate_ice_cream': {'chocolate': 200, 'wh...    865.0   \n",
       "3210  {'chocolate_ice_cream': {'milk': 480, 'corn st...    845.0   \n",
       "3211  {'chocolate_ice_cream': {'whipping': 240, 'mil...   1296.0   \n",
       "3212  {'chocolate_ice_cream': {'condensed milk': 395...    763.5   \n",
       "\n",
       "                                                 target  \\\n",
       "0     [0.14441678999058255, 0.25703820799138977, 0.0...   \n",
       "1     [0.07181759004773615, 0.28602849703457256, 0.0...   \n",
       "2     [0.13531783508899384, 0.2786603705049038, 0.01...   \n",
       "3     [0.08467793367346939, 0.23722029883381926, 0.0...   \n",
       "4     [0.09804728731264514, 0.25576630778974035, 0.0...   \n",
       "...                                                 ...   \n",
       "3208  [0.07235412474849094, 0.4480885311871227, 0.02...   \n",
       "3209  [0.12382658959537572, 0.3622543352601156, 0.06...   \n",
       "3210  [0.054360946745562126, 0.3136568047337278, 0.0...   \n",
       "3211  [0.036104938271604936, 0.20003163580246913, 0....   \n",
       "3212  [0.09020956123117223, 0.1927766863130321, 0.02...   \n",
       "\n",
       "                                         json_nutrition  \\\n",
       "0     {'apple_pie': {'cal': 3464.87, 'fat': 0.144416...   \n",
       "1     {'apple_pie': {'cal': 2527.94, 'fat': 0.071817...   \n",
       "2     {'apple_pie': {'cal': 3215.75, 'fat': 0.135317...   \n",
       "3     {'apple_pie': {'cal': 1807.16, 'fat': 0.084677...   \n",
       "4     {'apple_pie': {'cal': 1733.81, 'fat': 0.098047...   \n",
       "...                                                 ...   \n",
       "3208  {'chocolate_ice_cream': {'cal': 1250.5, 'fat':...   \n",
       "3209  {'chocolate_ice_cream': {'cal': 2310.450000000...   \n",
       "3210  {'chocolate_ice_cream': {'cal': 1498.780000000...   \n",
       "3211  {'chocolate_ice_cream': {'cal': 1433.343, 'fat...   \n",
       "3212  {'chocolate_ice_cream': {'cal': 1192.865, 'fat...   \n",
       "\n",
       "                                  ing_not_found  \n",
       "0                    ['cold water', 'cinnamon']  \n",
       "1                  ['shell', 'pie', 'cinnamon']  \n",
       "2              ['cinnamon', 'nut', 'ice water']  \n",
       "3      ['pie', 'cinnamon', 'egg', 'cold water']  \n",
       "4        ['cinnamon', 'allspice', 'nut', 'pie']  \n",
       "...                                         ...  \n",
       "3208                                    ['egg']  \n",
       "3209                    ['whipping', 'vanilla']  \n",
       "3210                             ['corn syrup']  \n",
       "3211      ['whipping', 'egg', 'vanilla', 'ice']  \n",
       "3212  ['condensed milk', 'whipping', 'vanilla']  \n",
       "\n",
       "[3213 rows x 11 columns]"
      ]
     },
     "execution_count": 3,
     "metadata": {},
     "output_type": "execute_result"
    }
   ],
   "source": [
    "data"
   ]
  },
  {
   "cell_type": "code",
   "execution_count": 4,
   "metadata": {},
   "outputs": [],
   "source": [
    "data[\"id_image\"] = data[\"id_image\"].str.strip()"
   ]
  },
  {
   "cell_type": "code",
   "execution_count": 5,
   "metadata": {},
   "outputs": [
    {
     "data": {
      "text/plain": [
       "[0.14441678999058255,\n",
       " 0.25703820799138977,\n",
       " 0.014330687474774654,\n",
       " 0.584214314543253]"
      ]
     },
     "execution_count": 5,
     "metadata": {},
     "output_type": "execute_result"
    }
   ],
   "source": [
    "eval(data[\"target\"][0])"
   ]
  },
  {
   "cell_type": "code",
   "execution_count": 6,
   "metadata": {},
   "outputs": [],
   "source": [
    "index_to_delete = data[data[\"target\"] == \"[nan, nan, nan, nan]\"].index\n",
    "\n",
    "# Delete rows with the specified index\n",
    "data.drop(index=index_to_delete, inplace=True)"
   ]
  },
  {
   "cell_type": "code",
   "execution_count": 7,
   "metadata": {},
   "outputs": [],
   "source": [
    "data[\"target\"] = data[\"target\"].apply(lambda x: eval(x))"
   ]
  },
  {
   "cell_type": "code",
   "execution_count": 8,
   "metadata": {},
   "outputs": [
    {
     "data": {
      "text/plain": [
       "0       [0.14441678999058255, 0.25703820799138977, 0.0...\n",
       "1       [0.07181759004773615, 0.28602849703457256, 0.0...\n",
       "2       [0.13531783508899384, 0.2786603705049038, 0.01...\n",
       "3       [0.08467793367346939, 0.23722029883381926, 0.0...\n",
       "4       [0.09804728731264514, 0.25576630778974035, 0.0...\n",
       "                              ...                        \n",
       "3208    [0.07235412474849094, 0.4480885311871227, 0.02...\n",
       "3209    [0.12382658959537572, 0.3622543352601156, 0.06...\n",
       "3210    [0.054360946745562126, 0.3136568047337278, 0.0...\n",
       "3211    [0.036104938271604936, 0.20003163580246913, 0....\n",
       "3212    [0.09020956123117223, 0.1927766863130321, 0.02...\n",
       "Name: target, Length: 3196, dtype: object"
      ]
     },
     "execution_count": 8,
     "metadata": {},
     "output_type": "execute_result"
    }
   ],
   "source": [
    "data[\"target\"]"
   ]
  },
  {
   "cell_type": "markdown",
   "metadata": {},
   "source": [
    "## Train Test Split"
   ]
  },
  {
   "cell_type": "markdown",
   "metadata": {},
   "source": [
    "### Make sure for each category the train and test split is done equally"
   ]
  },
  {
   "cell_type": "code",
   "execution_count": 9,
   "metadata": {},
   "outputs": [
    {
     "data": {
      "text/plain": [
       "'\\nX = data[\"id_image\"]  # Features\\ny = data[\"target\"]  # Target variable\\n\\n# Split the data into training and testing sets (80% train, 20% test)\\nX_train, X_test, y_train, y_test = train_test_split(\\n    X, y, test_size=0.2, random_state=42\\n)\\n\\n# Create DataFrames for training and testing data\\ntrain_df = pd.concat(\\n    [X_train.reset_index(drop=True), y_train.reset_index(drop=True)], axis=1\\n)\\ntest_df = pd.concat(\\n    [X_test.reset_index(drop=True), y_test.reset_index(drop=True)], axis=1\\n)\\n'"
      ]
     },
     "execution_count": 9,
     "metadata": {},
     "output_type": "execute_result"
    }
   ],
   "source": [
    "\"\"\"\n",
    "X = data[\"id_image\"]  # Features\n",
    "y = data[\"target\"]  # Target variable\n",
    "\n",
    "# Split the data into training and testing sets (80% train, 20% test)\n",
    "X_train, X_test, y_train, y_test = train_test_split(\n",
    "    X, y, test_size=0.2, random_state=42\n",
    ")\n",
    "\n",
    "# Create DataFrames for training and testing data\n",
    "train_df = pd.concat(\n",
    "    [X_train.reset_index(drop=True), y_train.reset_index(drop=True)], axis=1\n",
    ")\n",
    "test_df = pd.concat(\n",
    "    [X_test.reset_index(drop=True), y_test.reset_index(drop=True)], axis=1\n",
    ")\n",
    "\"\"\""
   ]
  },
  {
   "cell_type": "code",
   "execution_count": 10,
   "metadata": {},
   "outputs": [],
   "source": [
    "food_subset = data[\"key_value\"].unique().tolist()"
   ]
  },
  {
   "cell_type": "code",
   "execution_count": 11,
   "metadata": {},
   "outputs": [],
   "source": [
    "# Initialize lists to hold train and test data\n",
    "train_data = []\n",
    "test_data = []\n",
    "\n",
    "# Iterate over each unique category\n",
    "for category in food_subset:\n",
    "    # Filter the DataFrame for the current category\n",
    "    category_data = data[data[\"key_value\"] == category]\n",
    "\n",
    "    # Split the category data into train and test sets while ensuring equal representation\n",
    "    train_cat, test_cat = train_test_split(\n",
    "        category_data, test_size=0.1, random_state=42\n",
    "    )\n",
    "\n",
    "    # Add the train and test data to the respective lists\n",
    "    train_data.append(train_cat)\n",
    "    test_data.append(test_cat)\n",
    "\n",
    "# Concatenate the train and test data for each category\n",
    "train_df = pd.concat(train_data)\n",
    "test_df = pd.concat(test_data)"
   ]
  },
  {
   "cell_type": "code",
   "execution_count": 12,
   "metadata": {},
   "outputs": [],
   "source": [
    "train_df = train_df.reset_index(drop=True)\n",
    "test_df = test_df.reset_index(drop=True)"
   ]
  },
  {
   "cell_type": "code",
   "execution_count": 13,
   "metadata": {},
   "outputs": [],
   "source": [
    "train_df = train_df[[\"id_image\", \"target\"]]\n",
    "test_df = test_df[[\"id_image\", \"target\"]]"
   ]
  },
  {
   "cell_type": "code",
   "execution_count": 14,
   "metadata": {},
   "outputs": [],
   "source": [
    "# train_df.columns = ['Target_' + str(i) for i in range(1, len(train_df.columns)+1)]\n",
    "df_split = pd.DataFrame(\n",
    "    train_df[\"target\"].tolist(), columns=[f\"{'target'}_{i+1}\" for i in range(4)]\n",
    ")\n",
    "\n",
    "# Combine the split columns with the original DataFrame\n",
    "train_df = pd.concat([train_df.drop(columns=[\"target\"]), df_split], axis=1)"
   ]
  },
  {
   "cell_type": "code",
   "execution_count": 15,
   "metadata": {},
   "outputs": [
    {
     "data": {
      "text/plain": [
       "0       0.029363\n",
       "1       0.073319\n",
       "2       0.083826\n",
       "3       0.058538\n",
       "4       0.093361\n",
       "          ...   \n",
       "2813    0.107091\n",
       "2814    0.074015\n",
       "2815    0.054361\n",
       "2816    0.066471\n",
       "2817    0.065027\n",
       "Name: target_1, Length: 2818, dtype: float64"
      ]
     },
     "execution_count": 15,
     "metadata": {},
     "output_type": "execute_result"
    }
   ],
   "source": [
    "train_df[\"target_1\"]"
   ]
  },
  {
   "cell_type": "code",
   "execution_count": 16,
   "metadata": {},
   "outputs": [],
   "source": [
    "# train_df.columns = ['Target_' + str(i) for i in range(1, len(train_df.columns)+1)]\n",
    "df_split = pd.DataFrame(\n",
    "    test_df[\"target\"].tolist(), columns=[f\"{'target'}_{i+1}\" for i in range(4)]\n",
    ")\n",
    "\n",
    "# Combine the split columns with the original DataFrame\n",
    "test_df = pd.concat([test_df.drop(columns=[\"target\"]), df_split], axis=1)"
   ]
  },
  {
   "cell_type": "code",
   "execution_count": 17,
   "metadata": {},
   "outputs": [
    {
     "data": {
      "text/html": [
       "<div>\n",
       "<style scoped>\n",
       "    .dataframe tbody tr th:only-of-type {\n",
       "        vertical-align: middle;\n",
       "    }\n",
       "\n",
       "    .dataframe tbody tr th {\n",
       "        vertical-align: top;\n",
       "    }\n",
       "\n",
       "    .dataframe thead th {\n",
       "        text-align: right;\n",
       "    }\n",
       "</style>\n",
       "<table border=\"1\" class=\"dataframe\">\n",
       "  <thead>\n",
       "    <tr style=\"text-align: right;\">\n",
       "      <th></th>\n",
       "      <th>id_image</th>\n",
       "      <th>target_1</th>\n",
       "      <th>target_2</th>\n",
       "      <th>target_3</th>\n",
       "      <th>target_4</th>\n",
       "    </tr>\n",
       "  </thead>\n",
       "  <tbody>\n",
       "    <tr>\n",
       "      <th>0</th>\n",
       "      <td>apple_pie/3_easy_homemade_apple_pie_hostedLarg...</td>\n",
       "      <td>0.029363</td>\n",
       "      <td>0.304375</td>\n",
       "      <td>0.022536</td>\n",
       "      <td>0.643726</td>\n",
       "    </tr>\n",
       "    <tr>\n",
       "      <th>1</th>\n",
       "      <td>apple_pie/37_slab_apple_pie_with_easy_crumb_to...</td>\n",
       "      <td>0.073319</td>\n",
       "      <td>0.410543</td>\n",
       "      <td>0.016732</td>\n",
       "      <td>0.499406</td>\n",
       "    </tr>\n",
       "    <tr>\n",
       "      <th>2</th>\n",
       "      <td>apple_pie/25_mom's_apple_pie_hostedLargeUrl.jpg</td>\n",
       "      <td>0.083826</td>\n",
       "      <td>0.338273</td>\n",
       "      <td>0.018860</td>\n",
       "      <td>0.559041</td>\n",
       "    </tr>\n",
       "    <tr>\n",
       "      <th>3</th>\n",
       "      <td>apple_pie/32_apple_mummy_pie!_hostedLargeUrl.jpg</td>\n",
       "      <td>0.058538</td>\n",
       "      <td>0.234442</td>\n",
       "      <td>0.013268</td>\n",
       "      <td>0.693752</td>\n",
       "    </tr>\n",
       "    <tr>\n",
       "      <th>4</th>\n",
       "      <td>apple_pie/14_crustless_apple_pie_hostedLargeUr...</td>\n",
       "      <td>0.093361</td>\n",
       "      <td>0.207675</td>\n",
       "      <td>0.002833</td>\n",
       "      <td>0.696131</td>\n",
       "    </tr>\n",
       "    <tr>\n",
       "      <th>...</th>\n",
       "      <td>...</td>\n",
       "      <td>...</td>\n",
       "      <td>...</td>\n",
       "      <td>...</td>\n",
       "      <td>...</td>\n",
       "    </tr>\n",
       "    <tr>\n",
       "      <th>2813</th>\n",
       "      <td>chocolate_ice_cream/22_chocolate_ice_cream_hos...</td>\n",
       "      <td>0.107091</td>\n",
       "      <td>0.450556</td>\n",
       "      <td>0.028935</td>\n",
       "      <td>0.413418</td>\n",
       "    </tr>\n",
       "    <tr>\n",
       "      <th>2814</th>\n",
       "      <td>chocolate_ice_cream/16_chocolate_ice_cream_hos...</td>\n",
       "      <td>0.074015</td>\n",
       "      <td>0.426231</td>\n",
       "      <td>0.025762</td>\n",
       "      <td>0.473993</td>\n",
       "    </tr>\n",
       "    <tr>\n",
       "      <th>2815</th>\n",
       "      <td>chocolate_ice_cream/8_milkiest_chocolate_ice_c...</td>\n",
       "      <td>0.054361</td>\n",
       "      <td>0.313657</td>\n",
       "      <td>0.035160</td>\n",
       "      <td>0.596822</td>\n",
       "    </tr>\n",
       "    <tr>\n",
       "      <th>2816</th>\n",
       "      <td>chocolate_ice_cream/1_chocolate_ice_cream_host...</td>\n",
       "      <td>0.066471</td>\n",
       "      <td>0.255987</td>\n",
       "      <td>0.018897</td>\n",
       "      <td>0.658645</td>\n",
       "    </tr>\n",
       "    <tr>\n",
       "      <th>2817</th>\n",
       "      <td>chocolate_ice_cream/31_chocolate_ice_cream_hos...</td>\n",
       "      <td>0.065027</td>\n",
       "      <td>0.402712</td>\n",
       "      <td>0.024051</td>\n",
       "      <td>0.508210</td>\n",
       "    </tr>\n",
       "  </tbody>\n",
       "</table>\n",
       "<p>2818 rows × 5 columns</p>\n",
       "</div>"
      ],
      "text/plain": [
       "                                               id_image  target_1  target_2  \\\n",
       "0     apple_pie/3_easy_homemade_apple_pie_hostedLarg...  0.029363  0.304375   \n",
       "1     apple_pie/37_slab_apple_pie_with_easy_crumb_to...  0.073319  0.410543   \n",
       "2       apple_pie/25_mom's_apple_pie_hostedLargeUrl.jpg  0.083826  0.338273   \n",
       "3      apple_pie/32_apple_mummy_pie!_hostedLargeUrl.jpg  0.058538  0.234442   \n",
       "4     apple_pie/14_crustless_apple_pie_hostedLargeUr...  0.093361  0.207675   \n",
       "...                                                 ...       ...       ...   \n",
       "2813  chocolate_ice_cream/22_chocolate_ice_cream_hos...  0.107091  0.450556   \n",
       "2814  chocolate_ice_cream/16_chocolate_ice_cream_hos...  0.074015  0.426231   \n",
       "2815  chocolate_ice_cream/8_milkiest_chocolate_ice_c...  0.054361  0.313657   \n",
       "2816  chocolate_ice_cream/1_chocolate_ice_cream_host...  0.066471  0.255987   \n",
       "2817  chocolate_ice_cream/31_chocolate_ice_cream_hos...  0.065027  0.402712   \n",
       "\n",
       "      target_3  target_4  \n",
       "0     0.022536  0.643726  \n",
       "1     0.016732  0.499406  \n",
       "2     0.018860  0.559041  \n",
       "3     0.013268  0.693752  \n",
       "4     0.002833  0.696131  \n",
       "...        ...       ...  \n",
       "2813  0.028935  0.413418  \n",
       "2814  0.025762  0.473993  \n",
       "2815  0.035160  0.596822  \n",
       "2816  0.018897  0.658645  \n",
       "2817  0.024051  0.508210  \n",
       "\n",
       "[2818 rows x 5 columns]"
      ]
     },
     "execution_count": 17,
     "metadata": {},
     "output_type": "execute_result"
    }
   ],
   "source": [
    "train_df"
   ]
  },
  {
   "cell_type": "code",
   "execution_count": 18,
   "metadata": {},
   "outputs": [],
   "source": [
    "K.clear_session()"
   ]
  },
  {
   "cell_type": "code",
   "execution_count": 19,
   "metadata": {},
   "outputs": [],
   "source": [
    "bestmodel_path = \"bestmodel_Calories.keras\"\n",
    "history_path = \"history_Calories.log\""
   ]
  },
  {
   "cell_type": "code",
   "execution_count": 20,
   "metadata": {},
   "outputs": [],
   "source": [
    "training_data = ImageDataGenerator(\n",
    "    preprocessing_function=preprocess_input,\n",
    "    shear_range=0.3,\n",
    "    zoom_range=0.3,\n",
    "    horizontal_flip=True,\n",
    ")"
   ]
  },
  {
   "cell_type": "code",
   "execution_count": 21,
   "metadata": {},
   "outputs": [],
   "source": [
    "testing_data = ImageDataGenerator(preprocessing_function=preprocess_input)"
   ]
  },
  {
   "cell_type": "code",
   "execution_count": 22,
   "metadata": {},
   "outputs": [
    {
     "name": "stdout",
     "output_type": "stream",
     "text": [
      "Found 2818 validated image filenames.\n"
     ]
    }
   ],
   "source": [
    "training_data_generator = training_data.flow_from_dataframe(\n",
    "    dataframe=train_df,\n",
    "    directory=\"/Users/udyansachdev/Downloads/Recipes5k/images\",\n",
    "    x_col=\"id_image\",\n",
    "    y_col=[\"target_1\", \"target_2\", \"target_3\", \"target_4\"],\n",
    "    target_size=(300, 300),\n",
    "    batch_size=8,\n",
    "    class_mode=\"raw\",\n",
    ")"
   ]
  },
  {
   "cell_type": "code",
   "execution_count": 23,
   "metadata": {},
   "outputs": [
    {
     "name": "stdout",
     "output_type": "stream",
     "text": [
      "Found 378 validated image filenames.\n"
     ]
    }
   ],
   "source": [
    "validation_data_generator = testing_data.flow_from_dataframe(\n",
    "    dataframe=test_df,\n",
    "    directory=\"/Users/udyansachdev/Downloads/Recipes5k/images\",\n",
    "    x_col=\"id_image\",\n",
    "    y_col=[\"target_1\", \"target_2\", \"target_3\", \"target_4\"],\n",
    "    target_size=(300, 300),\n",
    "    batch_size=8,\n",
    "    class_mode=\"raw\",\n",
    ")"
   ]
  },
  {
   "cell_type": "code",
   "execution_count": 24,
   "metadata": {},
   "outputs": [],
   "source": [
    "inception = InceptionV3(weights=\"imagenet\", include_top=False)\n",
    "fc = inception.output\n",
    "fc = GlobalAveragePooling2D()(fc)\n",
    "fc = Dense(128, activation=\"relu\")(fc)\n",
    "fc = Dropout(0.2)(fc)\n",
    "\n",
    "predictions = Dense(4, kernel_regularizer=regularizers.l2(0.005), activation=\"softmax\")(\n",
    "    fc\n",
    ")\n",
    "\n",
    "model = Model(inputs=inception.input, outputs=predictions)\n",
    "model.compile(\n",
    "    optimizer=SGD(learning_rate=0.0001, momentum=0.9),\n",
    "    # loss=\"categorical_crossentropy\",\n",
    "    loss=\"mean_squared_error\",\n",
    "    metrics=[\"mse\"],\n",
    ")"
   ]
  },
  {
   "cell_type": "code",
   "execution_count": 25,
   "metadata": {},
   "outputs": [],
   "source": [
    "checkpoint = ModelCheckpoint(filepath=bestmodel_path, verbose=1, save_best_only=True)\n",
    "csv_logger = CSVLogger(history_path)"
   ]
  },
  {
   "cell_type": "code",
   "execution_count": 26,
   "metadata": {},
   "outputs": [
    {
     "name": "stdout",
     "output_type": "stream",
     "text": [
      "Epoch 1/20\n"
     ]
    },
    {
     "name": "stderr",
     "output_type": "stream",
     "text": [
      "/Library/Frameworks/Python.framework/Versions/3.12/lib/python3.12/site-packages/keras/src/trainers/data_adapters/py_dataset_adapter.py:122: UserWarning: Your `PyDataset` class should call `super().__init__(**kwargs)` in its constructor. `**kwargs` can include `workers`, `use_multiprocessing`, `max_queue_size`. Do not pass these arguments to `fit()`, as they will be ignored.\n",
      "  self._warn_if_super_not_called()\n"
     ]
    },
    {
     "name": "stdout",
     "output_type": "stream",
     "text": [
      "\u001b[1m352/352\u001b[0m \u001b[32m━━━━━━━━━━━━━━━━━━━━\u001b[0m\u001b[37m\u001b[0m \u001b[1m0s\u001b[0m 3s/step - loss: 0.1016 - mse: 0.0651\n",
      "Epoch 1: val_loss improved from inf to 0.05755, saving model to bestmodel_Calories.keras\n",
      "\u001b[1m352/352\u001b[0m \u001b[32m━━━━━━━━━━━━━━━━━━━━\u001b[0m\u001b[37m\u001b[0m \u001b[1m1021s\u001b[0m 3s/step - loss: 0.1015 - mse: 0.0650 - val_loss: 0.0575 - val_mse: 0.0212\n",
      "Epoch 2/20\n",
      "\u001b[1m  1/352\u001b[0m \u001b[37m━━━━━━━━━━━━━━━━━━━━\u001b[0m \u001b[1m30:01\u001b[0m 5s/step - loss: 0.0582 - mse: 0.0219"
     ]
    },
    {
     "name": "stderr",
     "output_type": "stream",
     "text": [
      "2024-04-13 20:36:22.295721: W tensorflow/core/framework/local_rendezvous.cc:404] Local rendezvous is aborting with status: OUT_OF_RANGE: End of sequence\n",
      "\t [[{{node IteratorGetNext}}]]\n",
      "/Library/Frameworks/Python.framework/Versions/3.12/lib/python3.12/contextlib.py:158: UserWarning: Your input ran out of data; interrupting training. Make sure that your dataset or generator can generate at least `steps_per_epoch * epochs` batches. You may need to use the `.repeat()` function when building your dataset.\n",
      "  self.gen.throw(value)\n",
      "2024-04-13 20:36:23.295134: W tensorflow/core/framework/local_rendezvous.cc:404] Local rendezvous is aborting with status: OUT_OF_RANGE: End of sequence\n",
      "\t [[{{node IteratorGetNext}}]]\n"
     ]
    },
    {
     "name": "stdout",
     "output_type": "stream",
     "text": [
      "\n",
      "Epoch 2: val_loss improved from 0.05755 to 0.02377, saving model to bestmodel_Calories.keras\n",
      "\u001b[1m352/352\u001b[0m \u001b[32m━━━━━━━━━━━━━━━━━━━━\u001b[0m\u001b[37m\u001b[0m \u001b[1m14s\u001b[0m 25ms/step - loss: 0.0292 - mse: 0.0219 - val_loss: 0.0238 - val_mse: 0.0112\n",
      "Epoch 3/20\n",
      "\u001b[1m352/352\u001b[0m \u001b[32m━━━━━━━━━━━━━━━━━━━━\u001b[0m\u001b[37m\u001b[0m \u001b[1m0s\u001b[0m 3s/step - loss: 0.0580 - mse: 0.0217\n",
      "Epoch 3: val_loss did not improve from 0.02377\n",
      "\u001b[1m352/352\u001b[0m \u001b[32m━━━━━━━━━━━━━━━━━━━━\u001b[0m\u001b[37m\u001b[0m \u001b[1m920s\u001b[0m 3s/step - loss: 0.0580 - mse: 0.0217 - val_loss: 0.0556 - val_mse: 0.0195\n",
      "Epoch 4/20\n",
      "\u001b[1m  1/352\u001b[0m \u001b[37m━━━━━━━━━━━━━━━━━━━━\u001b[0m \u001b[1m14:11\u001b[0m 2s/step - loss: 0.0603 - mse: 0.0241"
     ]
    },
    {
     "name": "stderr",
     "output_type": "stream",
     "text": [
      "2024-04-13 20:51:53.504209: W tensorflow/core/framework/local_rendezvous.cc:404] Local rendezvous is aborting with status: OUT_OF_RANGE: End of sequence\n",
      "\t [[{{node IteratorGetNext}}]]\n",
      "2024-04-13 20:51:54.022792: W tensorflow/core/framework/local_rendezvous.cc:404] Local rendezvous is aborting with status: OUT_OF_RANGE: End of sequence\n",
      "\t [[{{node IteratorGetNext}}]]\n"
     ]
    },
    {
     "name": "stdout",
     "output_type": "stream",
     "text": [
      "\n",
      "Epoch 4: val_loss improved from 0.02377 to 0.02003, saving model to bestmodel_Calories.keras\n",
      "\u001b[1m352/352\u001b[0m \u001b[32m━━━━━━━━━━━━━━━━━━━━\u001b[0m\u001b[37m\u001b[0m \u001b[1m6s\u001b[0m 10ms/step - loss: 0.0302 - mse: 0.0241 - val_loss: 0.0200 - val_mse: 0.0039\n",
      "Epoch 5/20\n",
      "\u001b[1m352/352\u001b[0m \u001b[32m━━━━━━━━━━━━━━━━━━━━\u001b[0m\u001b[37m\u001b[0m \u001b[1m0s\u001b[0m 3s/step - loss: 0.0581 - mse: 0.0220\n",
      "Epoch 5: val_loss did not improve from 0.02003\n",
      "\u001b[1m352/352\u001b[0m \u001b[32m━━━━━━━━━━━━━━━━━━━━\u001b[0m\u001b[37m\u001b[0m \u001b[1m922s\u001b[0m 3s/step - loss: 0.0581 - mse: 0.0220 - val_loss: 0.0549 - val_mse: 0.0191\n",
      "Epoch 6/20\n",
      "\u001b[1m  1/352\u001b[0m \u001b[37m━━━━━━━━━━━━━━━━━━━━\u001b[0m \u001b[1m16:33\u001b[0m 3s/step - loss: 0.0774 - mse: 0.0415"
     ]
    },
    {
     "name": "stderr",
     "output_type": "stream",
     "text": [
      "2024-04-13 21:07:21.898091: W tensorflow/core/framework/local_rendezvous.cc:404] Local rendezvous is aborting with status: OUT_OF_RANGE: End of sequence\n",
      "\t [[{{node IteratorGetNext}}]]\n",
      "2024-04-13 21:07:22.260216: W tensorflow/core/framework/local_rendezvous.cc:404] Local rendezvous is aborting with status: OUT_OF_RANGE: End of sequence\n",
      "\t [[{{node IteratorGetNext}}]]\n"
     ]
    },
    {
     "name": "stdout",
     "output_type": "stream",
     "text": [
      "\n",
      "Epoch 6: val_loss improved from 0.02003 to 0.01989, saving model to bestmodel_Calories.keras\n",
      "\u001b[1m352/352\u001b[0m \u001b[32m━━━━━━━━━━━━━━━━━━━━\u001b[0m\u001b[37m\u001b[0m \u001b[1m13s\u001b[0m 30ms/step - loss: 0.0388 - mse: 0.0415 - val_loss: 0.0199 - val_mse: 0.0039\n",
      "Epoch 7/20\n",
      "\u001b[1m352/352\u001b[0m \u001b[32m━━━━━━━━━━━━━━━━━━━━\u001b[0m\u001b[37m\u001b[0m \u001b[1m0s\u001b[0m 3s/step - loss: 0.0575 - mse: 0.0216\n",
      "Epoch 7: val_loss did not improve from 0.01989\n",
      "\u001b[1m352/352\u001b[0m \u001b[32m━━━━━━━━━━━━━━━━━━━━\u001b[0m\u001b[37m\u001b[0m \u001b[1m1034s\u001b[0m 3s/step - loss: 0.0575 - mse: 0.0216 - val_loss: 0.0538 - val_mse: 0.0183\n",
      "Epoch 8/20\n",
      "\u001b[1m  1/352\u001b[0m \u001b[37m━━━━━━━━━━━━━━━━━━━━\u001b[0m \u001b[1m19:00\u001b[0m 3s/step - loss: 0.0762 - mse: 0.0406"
     ]
    },
    {
     "name": "stderr",
     "output_type": "stream",
     "text": [
      "2024-04-13 21:24:49.793236: W tensorflow/core/framework/local_rendezvous.cc:404] Local rendezvous is aborting with status: OUT_OF_RANGE: End of sequence\n",
      "\t [[{{node IteratorGetNext}}]]\n",
      "2024-04-13 21:24:50.307659: W tensorflow/core/framework/local_rendezvous.cc:404] Local rendezvous is aborting with status: OUT_OF_RANGE: End of sequence\n",
      "\t [[{{node IteratorGetNext}}]]\n"
     ]
    },
    {
     "name": "stdout",
     "output_type": "stream",
     "text": [
      "\n",
      "Epoch 8: val_loss did not improve from 0.01989\n",
      "\u001b[1m352/352\u001b[0m \u001b[32m━━━━━━━━━━━━━━━━━━━━\u001b[0m\u001b[37m\u001b[0m \u001b[1m4s\u001b[0m 3ms/step - loss: 0.0382 - mse: 0.0406 - val_loss: 0.0556 - val_mse: 0.0756\n",
      "Epoch 9/20\n",
      "\u001b[1m352/352\u001b[0m \u001b[32m━━━━━━━━━━━━━━━━━━━━\u001b[0m\u001b[37m\u001b[0m \u001b[1m0s\u001b[0m 3s/step - loss: 0.0550 - mse: 0.0195\n",
      "Epoch 9: val_loss did not improve from 0.01989\n",
      "\u001b[1m352/352\u001b[0m \u001b[32m━━━━━━━━━━━━━━━━━━━━\u001b[0m\u001b[37m\u001b[0m \u001b[1m965s\u001b[0m 3s/step - loss: 0.0550 - mse: 0.0195 - val_loss: 0.0536 - val_mse: 0.0183\n",
      "Epoch 10/20\n",
      "\u001b[1m  1/352\u001b[0m \u001b[37m━━━━━━━━━━━━━━━━━━━━\u001b[0m \u001b[1m16:03\u001b[0m 3s/step - loss: 0.0705 - mse: 0.0351"
     ]
    },
    {
     "name": "stderr",
     "output_type": "stream",
     "text": [
      "2024-04-13 21:40:58.428195: W tensorflow/core/framework/local_rendezvous.cc:404] Local rendezvous is aborting with status: OUT_OF_RANGE: End of sequence\n",
      "\t [[{{node IteratorGetNext}}]]\n",
      "2024-04-13 21:40:58.742336: W tensorflow/core/framework/local_rendezvous.cc:404] Local rendezvous is aborting with status: OUT_OF_RANGE: End of sequence\n",
      "\t [[{{node IteratorGetNext}}]]\n"
     ]
    },
    {
     "name": "stdout",
     "output_type": "stream",
     "text": [
      "\n",
      "Epoch 10: val_loss did not improve from 0.01989\n",
      "\u001b[1m352/352\u001b[0m \u001b[32m━━━━━━━━━━━━━━━━━━━━\u001b[0m\u001b[37m\u001b[0m \u001b[1m4s\u001b[0m 3ms/step - loss: 0.0353 - mse: 0.0351 - val_loss: 0.0217 - val_mse: 0.0081\n",
      "Epoch 11/20\n",
      "\u001b[1m352/352\u001b[0m \u001b[32m━━━━━━━━━━━━━━━━━━━━\u001b[0m\u001b[37m\u001b[0m \u001b[1m0s\u001b[0m 3s/step - loss: 0.0552 - mse: 0.0199\n",
      "Epoch 11: val_loss did not improve from 0.01989\n",
      "\u001b[1m352/352\u001b[0m \u001b[32m━━━━━━━━━━━━━━━━━━━━\u001b[0m\u001b[37m\u001b[0m \u001b[1m941s\u001b[0m 3s/step - loss: 0.0552 - mse: 0.0199 - val_loss: 0.0532 - val_mse: 0.0182\n",
      "Epoch 12/20\n",
      "\u001b[1m  1/352\u001b[0m \u001b[37m━━━━━━━━━━━━━━━━━━━━\u001b[0m \u001b[1m15:50\u001b[0m 3s/step - loss: 0.0496 - mse: 0.0145"
     ]
    },
    {
     "name": "stderr",
     "output_type": "stream",
     "text": [
      "2024-04-13 21:56:42.609218: W tensorflow/core/framework/local_rendezvous.cc:404] Local rendezvous is aborting with status: OUT_OF_RANGE: End of sequence\n",
      "\t [[{{node IteratorGetNext}}]]\n",
      "2024-04-13 21:56:43.041753: W tensorflow/core/framework/local_rendezvous.cc:404] Local rendezvous is aborting with status: OUT_OF_RANGE: End of sequence\n",
      "\t [[{{node IteratorGetNext}}]]\n"
     ]
    },
    {
     "name": "stdout",
     "output_type": "stream",
     "text": [
      "\n",
      "Epoch 12: val_loss did not improve from 0.01989\n",
      "\u001b[1m352/352\u001b[0m \u001b[32m━━━━━━━━━━━━━━━━━━━━\u001b[0m\u001b[37m\u001b[0m \u001b[1m5s\u001b[0m 6ms/step - loss: 0.0249 - mse: 0.0145 - val_loss: 0.0238 - val_mse: 0.0126\n",
      "Epoch 13/20\n",
      "\u001b[1m352/352\u001b[0m \u001b[32m━━━━━━━━━━━━━━━━━━━━\u001b[0m\u001b[37m\u001b[0m \u001b[1m0s\u001b[0m 3s/step - loss: 0.0546 - mse: 0.0196\n",
      "Epoch 13: val_loss did not improve from 0.01989\n",
      "\u001b[1m352/352\u001b[0m \u001b[32m━━━━━━━━━━━━━━━━━━━━\u001b[0m\u001b[37m\u001b[0m \u001b[1m932s\u001b[0m 3s/step - loss: 0.0546 - mse: 0.0196 - val_loss: 0.0527 - val_mse: 0.0179\n",
      "Epoch 14/20\n",
      "\u001b[1m  1/352\u001b[0m \u001b[37m━━━━━━━━━━━━━━━━━━━━\u001b[0m \u001b[1m14:29\u001b[0m 2s/step - loss: 0.0652 - mse: 0.0304"
     ]
    },
    {
     "name": "stderr",
     "output_type": "stream",
     "text": [
      "2024-04-13 22:12:19.297505: W tensorflow/core/framework/local_rendezvous.cc:404] Local rendezvous is aborting with status: OUT_OF_RANGE: End of sequence\n",
      "\t [[{{node IteratorGetNext}}]]\n",
      "2024-04-13 22:12:19.591905: W tensorflow/core/framework/local_rendezvous.cc:404] Local rendezvous is aborting with status: OUT_OF_RANGE: End of sequence\n",
      "\t [[{{node IteratorGetNext}}]]\n"
     ]
    },
    {
     "name": "stdout",
     "output_type": "stream",
     "text": [
      "\n",
      "Epoch 14: val_loss did not improve from 0.01989\n",
      "\u001b[1m352/352\u001b[0m \u001b[32m━━━━━━━━━━━━━━━━━━━━\u001b[0m\u001b[37m\u001b[0m \u001b[1m3s\u001b[0m 2ms/step - loss: 0.0327 - mse: 0.0304 - val_loss: 0.0299 - val_mse: 0.0251\n",
      "Epoch 15/20\n",
      "\u001b[1m352/352\u001b[0m \u001b[32m━━━━━━━━━━━━━━━━━━━━\u001b[0m\u001b[37m\u001b[0m \u001b[1m0s\u001b[0m 3s/step - loss: 0.0532 - mse: 0.0184\n",
      "Epoch 15: val_loss did not improve from 0.01989\n",
      "\u001b[1m352/352\u001b[0m \u001b[32m━━━━━━━━━━━━━━━━━━━━\u001b[0m\u001b[37m\u001b[0m \u001b[1m931s\u001b[0m 3s/step - loss: 0.0532 - mse: 0.0184 - val_loss: 0.0523 - val_mse: 0.0177\n",
      "Epoch 16/20\n",
      "\u001b[1m  1/352\u001b[0m \u001b[37m━━━━━━━━━━━━━━━━━━━━\u001b[0m \u001b[1m14:58\u001b[0m 3s/step - loss: 0.0419 - mse: 0.0074"
     ]
    },
    {
     "name": "stderr",
     "output_type": "stream",
     "text": [
      "2024-04-13 22:27:53.978585: W tensorflow/core/framework/local_rendezvous.cc:404] Local rendezvous is aborting with status: OUT_OF_RANGE: End of sequence\n",
      "\t [[{{node IteratorGetNext}}]]\n"
     ]
    },
    {
     "name": "stdout",
     "output_type": "stream",
     "text": [
      "\n",
      "Epoch 16: val_loss did not improve from 0.01989\n",
      "\u001b[1m352/352\u001b[0m \u001b[32m━━━━━━━━━━━━━━━━━━━━\u001b[0m\u001b[37m\u001b[0m \u001b[1m3s\u001b[0m 2ms/step - loss: 0.0210 - mse: 0.0074 - val_loss: 0.0216 - val_mse: 0.0086\n",
      "Epoch 17/20\n"
     ]
    },
    {
     "name": "stderr",
     "output_type": "stream",
     "text": [
      "2024-04-13 22:27:54.367610: W tensorflow/core/framework/local_rendezvous.cc:404] Local rendezvous is aborting with status: OUT_OF_RANGE: End of sequence\n",
      "\t [[{{node IteratorGetNext}}]]\n"
     ]
    },
    {
     "name": "stdout",
     "output_type": "stream",
     "text": [
      "\u001b[1m352/352\u001b[0m \u001b[32m━━━━━━━━━━━━━━━━━━━━\u001b[0m\u001b[37m\u001b[0m \u001b[1m0s\u001b[0m 3s/step - loss: 0.0536 - mse: 0.0191\n",
      "Epoch 17: val_loss did not improve from 0.01989\n",
      "\u001b[1m352/352\u001b[0m \u001b[32m━━━━━━━━━━━━━━━━━━━━\u001b[0m\u001b[37m\u001b[0m \u001b[1m918s\u001b[0m 3s/step - loss: 0.0536 - mse: 0.0191 - val_loss: 0.0518 - val_mse: 0.0176\n",
      "Epoch 18/20\n",
      "\u001b[1m  1/352\u001b[0m \u001b[37m━━━━━━━━━━━━━━━━━━━━\u001b[0m \u001b[1m15:35\u001b[0m 3s/step - loss: 0.0525 - mse: 0.0182"
     ]
    },
    {
     "name": "stderr",
     "output_type": "stream",
     "text": [
      "2024-04-13 22:43:15.569221: W tensorflow/core/framework/local_rendezvous.cc:404] Local rendezvous is aborting with status: OUT_OF_RANGE: End of sequence\n",
      "\t [[{{node IteratorGetNext}}]]\n",
      "2024-04-13 22:43:15.954249: W tensorflow/core/framework/local_rendezvous.cc:404] Local rendezvous is aborting with status: OUT_OF_RANGE: End of sequence\n",
      "\t [[{{node IteratorGetNext}}]]\n"
     ]
    },
    {
     "name": "stdout",
     "output_type": "stream",
     "text": [
      "\n",
      "Epoch 18: val_loss did not improve from 0.01989\n",
      "\u001b[1m352/352\u001b[0m \u001b[32m━━━━━━━━━━━━━━━━━━━━\u001b[0m\u001b[37m\u001b[0m \u001b[1m4s\u001b[0m 3ms/step - loss: 0.0263 - mse: 0.0182 - val_loss: 0.0250 - val_mse: 0.0158\n",
      "Epoch 19/20\n",
      "\u001b[1m352/352\u001b[0m \u001b[32m━━━━━━━━━━━━━━━━━━━━\u001b[0m\u001b[37m\u001b[0m \u001b[1m0s\u001b[0m 2s/step - loss: 0.0528 - mse: 0.0185\n",
      "Epoch 19: val_loss did not improve from 0.01989\n",
      "\u001b[1m352/352\u001b[0m \u001b[32m━━━━━━━━━━━━━━━━━━━━\u001b[0m\u001b[37m\u001b[0m \u001b[1m890s\u001b[0m 3s/step - loss: 0.0528 - mse: 0.0185 - val_loss: 0.0516 - val_mse: 0.0176\n",
      "Epoch 20/20\n",
      "\u001b[1m  1/352\u001b[0m \u001b[37m━━━━━━━━━━━━━━━━━━━━\u001b[0m \u001b[1m14:59\u001b[0m 3s/step - loss: 0.0413 - mse: 0.0072"
     ]
    },
    {
     "name": "stderr",
     "output_type": "stream",
     "text": [
      "2024-04-13 22:58:08.759822: W tensorflow/core/framework/local_rendezvous.cc:404] Local rendezvous is aborting with status: OUT_OF_RANGE: End of sequence\n",
      "\t [[{{node IteratorGetNext}}]]\n",
      "2024-04-13 22:58:09.008526: W tensorflow/core/framework/local_rendezvous.cc:404] Local rendezvous is aborting with status: OUT_OF_RANGE: End of sequence\n",
      "\t [[{{node IteratorGetNext}}]]\n"
     ]
    },
    {
     "name": "stdout",
     "output_type": "stream",
     "text": [
      "\n",
      "Epoch 20: val_loss did not improve from 0.01989\n",
      "\u001b[1m352/352\u001b[0m \u001b[32m━━━━━━━━━━━━━━━━━━━━\u001b[0m\u001b[37m\u001b[0m \u001b[1m3s\u001b[0m 2ms/step - loss: 0.0207 - mse: 0.0072 - val_loss: 0.0205 - val_mse: 0.0070\n"
     ]
    }
   ],
   "source": [
    "history = model.fit(\n",
    "    training_data_generator,\n",
    "    steps_per_epoch=training_data_generator.n // 8,\n",
    "    validation_data=validation_data_generator,\n",
    "    validation_steps=validation_data_generator.n // 8,\n",
    "    epochs=20,\n",
    "    verbose=1,\n",
    "    callbacks=[csv_logger, checkpoint],\n",
    ")"
   ]
  },
  {
   "cell_type": "code",
   "execution_count": 34,
   "metadata": {},
   "outputs": [],
   "source": [
    "model.save(\"trainedmodel_Calories.keras\")"
   ]
  },
  {
   "cell_type": "code",
   "execution_count": 40,
   "metadata": {},
   "outputs": [
    {
     "data": {
      "image/png": "[encoded data removed]",
      "text/plain": [
       "<Figure size 640x480 with 1 Axes>"
      ]
     },
     "metadata": {},
     "output_type": "display_data"
    },
    {
     "data": {
      "image/png": "[encoded data removed]",
      "text/plain": [
       "<Figure size 640x480 with 1 Axes>"
      ]
     },
     "metadata": {},
     "output_type": "display_data"
    }
   ],
   "source": [
    "import matplotlib.pyplot as plt\n",
    "\n",
    "\n",
    "def plot_training_history(history, title, ylim=None):\n",
    "    plt.title(title)\n",
    "    plt.plot(history.history[\"mse\"], label=\"Training MSE\")\n",
    "    plt.plot(history.history[\"val_mse\"], label=\"Validation MSE\")\n",
    "    plt.ylabel(\"MSE\")\n",
    "    plt.xlabel(\"Epoch\")\n",
    "    if ylim:\n",
    "        plt.ylim(ylim)\n",
    "    plt.legend(loc=\"best\")\n",
    "    plt.show()\n",
    "\n",
    "\n",
    "def plot_loss_history(history, title, ylim=None):\n",
    "    plt.title(title)\n",
    "    plt.plot(history.history[\"loss\"], label=\"Training Loss\")\n",
    "    plt.plot(history.history[\"val_loss\"], label=\"Validation Loss\")\n",
    "    plt.ylabel(\"Loss\")\n",
    "    plt.xlabel(\"Epoch\")\n",
    "    if ylim:\n",
    "        plt.ylim(ylim)\n",
    "    plt.legend(loc=\"best\")\n",
    "    plt.show()\n",
    "\n",
    "\n",
    "# Example usage:\n",
    "# Set custom y-axis range for MSE and Loss plots\n",
    "ylim_mse = (0, 0.08)  # Example range for MSE plot\n",
    "ylim_loss = (0, 0.1)  # Example range for Loss plot\n",
    "\n",
    "plot_training_history(history, \"Training and Validation Accuracy\", ylim=ylim_mse)\n",
    "plot_loss_history(history, \"Training and Validation Loss\", ylim=ylim_loss)"
   ]
  },
  {
   "cell_type": "code",
   "execution_count": 29,
   "metadata": {},
   "outputs": [],
   "source": [
    "model_best = load_model(\"trainedmodel_Calories.keras\", compile=False)"
   ]
  },
  {
   "cell_type": "markdown",
   "metadata": {},
   "source": [
    "## Prediction"
   ]
  },
  {
   "cell_type": "code",
   "execution_count": 30,
   "metadata": {},
   "outputs": [],
   "source": [
    "img = \"/Users/udyansachdev/Downloads/ML_Final/test_images/2.jpeg\"\n",
    "# apple_pie/36_vermont_apple_slab_pie_hostedLargeUrl.jpg\n",
    "# apple_pie/31_skinny_apple_pie_hostedLargeUrl.jpg\n",
    "# apple_pie/2_perfect_apple_pie_hostedLargeUrl.jpg"
   ]
  },
  {
   "cell_type": "code",
   "execution_count": 31,
   "metadata": {},
   "outputs": [],
   "source": [
    "img = image.load_img(img, target_size=(300, 300))\n",
    "img = image.img_to_array(img)\n",
    "img = np.expand_dims(img, axis=0)\n",
    "img = preprocess_input(img)"
   ]
  },
  {
   "cell_type": "code",
   "execution_count": 32,
   "metadata": {},
   "outputs": [
    {
     "name": "stdout",
     "output_type": "stream",
     "text": [
      "\u001b[1m1/1\u001b[0m \u001b[32m━━━━━━━━━━━━━━━━━━━━\u001b[0m\u001b[37m\u001b[0m \u001b[1m3s\u001b[0m 3s/step\n"
     ]
    }
   ],
   "source": [
    "pred = model_best.predict(img)[0]"
   ]
  },
  {
   "cell_type": "code",
   "execution_count": 33,
   "metadata": {},
   "outputs": [
    {
     "data": {
      "text/plain": [
       "array([0.11072452, 0.20565021, 0.12573901, 0.5578863 ], dtype=float32)"
      ]
     },
     "execution_count": 33,
     "metadata": {},
     "output_type": "execute_result"
    }
   ],
   "source": [
    "pred"
   ]
  }
 ],
 "metadata": {
  "kernelspec": {
   "display_name": "Python 3",
   "language": "python",
   "name": "python3"
  },
  "language_info": {
   "codemirror_mode": {
    "name": "ipython",
    "version": 3
   },
   "file_extension": ".py",
   "mimetype": "text/x-python",
   "name": "python",
   "nbconvert_exporter": "python",
   "pygments_lexer": "ipython3",
   "version": "3.12.1"
  }
 },
 "nbformat": 4,
 "nbformat_minor": 2
}
